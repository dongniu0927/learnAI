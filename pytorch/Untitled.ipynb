{
 "cells": [
  {
   "cell_type": "markdown",
   "metadata": {},
   "source": [
    "## torch.squeeze()\n",
    "\n",
    "这个函数主要对数据的维度进行压缩，去掉维数为1的的维度。"
   ]
  },
  {
   "cell_type": "code",
   "execution_count": 8,
   "metadata": {},
   "outputs": [
    {
     "name": "stdout",
     "output_type": "stream",
     "text": [
      "[1, 2]\n"
     ]
    }
   ],
   "source": [
    "def twoSum(nums, target):\n",
    "    \"\"\"\n",
    "    :type nums: List[int]\n",
    "    :type target: int\n",
    "    :rtype: List[int]\n",
    "    \"\"\"\n",
    "    _nums = []\n",
    "    for _, _num in enumerate(nums):\n",
    "        _nums.append(target-_num)\n",
    "    for _, _num in enumerate(_nums):\n",
    "        if _num in nums:\n",
    "            loc = nums.index(_num)\n",
    "            if loc != _:\n",
    "                return sorted([_, loc])\n",
    "\n",
    "a = twoSum([4, 5, 3, 15], 8)\n",
    "print(a)"
   ]
  },
  {
   "cell_type": "code",
   "execution_count": 25,
   "metadata": {},
   "outputs": [
    {
     "name": "stdout",
     "output_type": "stream",
     "text": [
      "True\n",
      "False\n"
     ]
    }
   ],
   "source": [
    "def isValidSudoku(board):\n",
    "        \"\"\"\n",
    "        :type board: List[List[str]]\n",
    "        :rtype: bool\n",
    "        \"\"\"\n",
    "        for i in range(9):\n",
    "            v = {}  # 存列的重复情况\n",
    "            h = {}  # 存行的重复情况\n",
    "            for j in range(9):\n",
    "                if board[i][j] != \".\":\n",
    "                    # 查看行的情况\n",
    "                    if board[i][j] in h:\n",
    "                        return False\n",
    "                    else:\n",
    "                        h[board[i][j]]=1\n",
    "                if board[j][i] != \".\":\n",
    "                    # 查看列的情况\n",
    "                    if board[j][i] in v:\n",
    "                        return False\n",
    "                    else:\n",
    "                        v[board[j][i]]=1\n",
    "        for i in range(3):  # 横轴\n",
    "            for j in range(3):  # 纵轴\n",
    "                v = {}\n",
    "                x = i*3\n",
    "                y = j*3\n",
    "                for k in range(3):\n",
    "                    for l in range(3):\n",
    "                        if board[x+k][y+l] != \".\":\n",
    "                            if board[x+k][y+l] in v:\n",
    "                                return False\n",
    "                            else:\n",
    "                                v[board[x+k][y+l]]=1\n",
    "                        \n",
    "        return True\n",
    "                \n",
    "                \n",
    "print(isValidSudoku([\n",
    "  [\"5\",\"3\",\".\",\".\",\"7\",\".\",\".\",\".\",\".\"],\n",
    "  [\"6\",\".\",\".\",\"1\",\"9\",\"5\",\".\",\".\",\".\"],\n",
    "  [\".\",\"9\",\"8\",\".\",\".\",\".\",\".\",\"6\",\".\"],\n",
    "  [\"8\",\".\",\".\",\".\",\"6\",\".\",\".\",\".\",\"3\"],\n",
    "  [\"4\",\".\",\".\",\"8\",\".\",\"3\",\".\",\".\",\"1\"],\n",
    "  [\"7\",\".\",\".\",\".\",\"2\",\".\",\".\",\".\",\"6\"],\n",
    "  [\".\",\"6\",\".\",\".\",\".\",\".\",\"2\",\"8\",\".\"],\n",
    "  [\".\",\".\",\".\",\"4\",\"1\",\"9\",\".\",\".\",\"5\"],\n",
    "  [\".\",\".\",\".\",\".\",\"8\",\".\",\".\",\"7\",\"9\"]\n",
    "]))\n",
    "print(isValidSudoku([\n",
    "  [\"4\",\"3\",\".\",\".\",\"7\",\".\",\".\",\".\",\".\"],\n",
    "  [\"6\",\".\",\".\",\"1\",\"9\",\"5\",\".\",\".\",\".\"],\n",
    "  [\".\",\"8\",\"8\",\".\",\".\",\".\",\".\",\"6\",\".\"],\n",
    "  [\"1\",\".\",\".\",\".\",\"6\",\".\",\".\",\".\",\"3\"],\n",
    "  [\"5\",\".\",\".\",\"8\",\".\",\"3\",\".\",\".\",\"1\"],\n",
    "  [\"7\",\".\",\".\",\".\",\"2\",\".\",\".\",\".\",\"6\"],\n",
    "  [\".\",\"6\",\".\",\".\",\".\",\".\",\"2\",\"8\",\".\"],\n",
    "  [\".\",\".\",\".\",\"4\",\"1\",\"9\",\".\",\".\",\"5\"],\n",
    "  [\".\",\".\",\".\",\".\",\"8\",\".\",\".\",\"7\",\"9\"]\n",
    "]))"
   ]
  }
 ],
 "metadata": {
  "kernelspec": {
   "display_name": "Python 3",
   "language": "python",
   "name": "python3"
  },
  "language_info": {
   "codemirror_mode": {
    "name": "ipython",
    "version": 3
   },
   "file_extension": ".py",
   "mimetype": "text/x-python",
   "name": "python",
   "nbconvert_exporter": "python",
   "pygments_lexer": "ipython3",
   "version": "3.6.5"
  }
 },
 "nbformat": 4,
 "nbformat_minor": 2
}
