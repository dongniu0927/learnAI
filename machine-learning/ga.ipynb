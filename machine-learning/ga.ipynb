{
 "cells": [
  {
   "cell_type": "markdown",
   "metadata": {},
   "source": [
    "# 遗传算法\n",
    "Genetic Algorithm（GA）可以运用在求解**复杂的最优解**的问题上，但它**不保证一定能找到全局最优解**。"
   ]
  },
  {
   "cell_type": "markdown",
   "metadata": {},
   "source": [
    "## 问题描述\n",
    "### 定性描述\n",
    "我们通过0-1背包问题来介绍GA算法，0-1背包问题可以描述为：给定一组物品，每种物品都有自己的重量和价格，在限定的总重量内，我们如何选择，才能使得物品的总价格最高。\n",
    "### 定量描述\n",
    "- 物体总数: N\n",
    "- 背包可容纳总重量: W\n",
    "- 第i件物体的重量：w[i]\n",
    "- 第i件物体的价格: v[i]"
   ]
  },
  {
   "cell_type": "markdown",
   "metadata": {},
   "source": [
    "## 进化论知识\n",
    "\n",
    "GA算法参考了进化论，我们有必要来了解下相关知识：  \n",
    "\n",
    "1. **种群（Population）**：生物的进化以群体的形式进行，这样的一个群体称为种群。种群的生物学定义为：指在一定时间内占据一定空间的同种生物的所有个体。\n",
    "2. **个体**：组成种群的单个生物。  \n",
    "3. **染色体（Chromosome）**：由DNA和蛋白质组成，包含一组基因。\n",
    "4. **基因（Gene）**：DNA分子上的一个小片段，代表一个遗传因子，注意：每个基因可能会有多个取值。   \n",
    "5. **进化过程**：生物在繁殖过程中，会发生基因交叉( Crossover ) ，基因突变 ( Mutation ) ，适应度( Fitness )低的个体会被逐步淘汰，而适应度高的个体会越来越多。那么经过N代的自然选择后，保存下来的个体都是适应度很高的。  "
   ]
  },
  {
   "cell_type": "markdown",
   "metadata": {},
   "source": [
    "## GA算法\n",
    "\n",
    "### 简介\n",
    "\n",
    "遗传算法是受达尔文的进化论的启发，借鉴生物进化过程而提出的一种启发式搜索算法。借鉴生物进化论，遗传算法将要解决的问题模拟成一个生物进化的过程，通过**自然选择**、**交叉**、**突变**等操作产生下一代的解，并逐步淘汰掉适应度函数值低的解，增加适应度函数值高的解。\n",
    "\n",
    "### 算法步骤\n",
    "\n",
    "1. 解空间编码: **解空间** -> **(染色体+基因)**;\n",
    "2. 自然选择: 实现进化论中**适者生存**;\n",
    "3. 基因交叉: 两个个体交换染色体片段然后产生**两个**新的后代;\n",
    "4. 基因变异: 某一些个体的染色体上的基因发生**突变**，如个体1100->1000（单点突变）;"
   ]
  },
  {
   "cell_type": "markdown",
   "metadata": {},
   "source": [
    "### 解空间编码\n",
    "\n",
    "编码是为了将解空间映射成染色体+基因的表示。这里每一个物体可以被取或者不被取，染色体可以用长度为N的二进制表示，它有N个基因，每个基因有两个可能的状态（0 or 1）。当$N=4$，则一个个体`<取，取，不取，不取>`可以表示为：1100（基因编码后）, 12（未编码）。 "
   ]
  },
  {
   "cell_type": "code",
   "execution_count": 5,
   "metadata": {},
   "outputs": [
    {
     "name": "stdout",
     "output_type": "stream",
     "text": [
      "['1', '1', '0', '0']\n",
      "12\n"
     ]
    }
   ],
   "source": [
    "def encode(N, unit):  #  N：染色体长度（如4）；unit：未编码个体表示（如12）\n",
    "    unit = int(unit)\n",
    "    unit_str = str(bin(unit))[2:].zfill(N)  # 左侧补0\n",
    "    unit_list = []\n",
    "    for s in unit_str:\n",
    "        unit_list.append(s)\n",
    "    return unit_list\n",
    "def decode(unit_list):  # unit_list: 编码后染色体，如1100\n",
    "    l = ll = len(unit_list) - 1\n",
    "    c = 0\n",
    "    while l>=0:\n",
    "        if unit_list[l] == '1':\n",
    "            c +=  pow(2, ll - l)\n",
    "        l -= 1\n",
    "    return c\n",
    "\n",
    "print(encode(4, 12))\n",
    "print(decode(['1', '1', '0', '0']))"
   ]
  },
  {
   "cell_type": "markdown",
   "metadata": {},
   "source": [
    "### 自然选择\n",
    "\n",
    "结合适应度函数, 按照某些策略选择个体来产生后代，常用的策略有如：轮盘赌算法(Roulette Wheel Selection), 锦标赛, 精英保留策略等。\n",
    "\n",
    "我们使用轮盘赌算法, 轮盘赌算法的思路为：**个体被选中的概率与其适应度函数值成正比**。\n",
    "\n",
    "本题的适应度函数即为衡量总价值的函数：$f(x_i)$（其中$x_i$为第i个个体，它可能为:1100). 轮盘赌中每个个体被抽中的概率为：\n",
    "\n",
    "> $p_i=\\dfrac{f(x_i)}{\\sum_{j=1}^{n}f(x_j)} $  (本文个体总数$n=2^N$)\n",
    "\n",
    "轮盘赌算法的基本实现思路为：通过区间长度来表示概率，再通过随机数选择。详细可参考: https://www.cnblogs.com/gaosheng12138/p/7534956.html"
   ]
  },
  {
   "cell_type": "code",
   "execution_count": 10,
   "metadata": {},
   "outputs": [
    {
     "name": "stdout",
     "output_type": "stream",
     "text": [
      "Original population: [0, 1, 2, 3, 4, 5, 6, 7, 8, 9, 10, 11, 12, 13, 14, 15]\n",
      "Fitness prob: [0.0, 0.025, 0.05, 0.075, 0.075, 0.0, 0.125, 0.0, 0.1, 0.0, 0.15, 0.0, 0.175, 0.0, 0.225, 0.0]\n",
      "New population: [2, 3, 4, 8, 10, 12, 14]\n"
     ]
    }
   ],
   "source": [
    "import random\n",
    "\n",
    "# 计算种群的适应性概率\n",
    "def getRWSPList(population, w, v, W):  # population：总群；w：物体重量list；v：物体价值list；W：背包的重量阈值\n",
    "    n = len(population)  # 群体总数\n",
    "    v_list = []  # 价值list\n",
    "    for i in population:\n",
    "        unit_code = encode(N, i)  # 获得编码\n",
    "        unit_w = 0  # 个体的总量\n",
    "        unit_v = 0  # 个体的价值\n",
    "        for j in range(N):\n",
    "            unit_w += int(unit_code[j]) * w[j]\n",
    "            unit_v += int(unit_code[j]) * v[j]\n",
    "        if unit_w <= W:\n",
    "            v_list.append(unit_v)\n",
    "        else:\n",
    "            v_list.append(0)  # 超重\n",
    "    p_list = []  # 每一个个体的概率\n",
    "    v_all = sum(v_list)\n",
    "    for i in range(n):\n",
    "        p_list.append(v_list[i] * 1.0 / v_all)\n",
    "    return p_list\n",
    "\n",
    "# 根据适应性概率随机选择一个个体\n",
    "def RWS(population, plist):  # plist为总群个体抽中概率list\n",
    "    random.seed()\n",
    "    r = random.random()  # 获得随机数\n",
    "    c = 0\n",
    "    # print plist, r\n",
    "    for (index, item) in enumerate(plist):\n",
    "        c += item\n",
    "        if r < c:\n",
    "            return population[index]\n",
    "\n",
    "N = 4\n",
    "n = pow(2, N)  # 种群个体总数\n",
    "w = [2, 3, 1, 5] \n",
    "v = [4, 3, 2, 1]\n",
    "W = 6\n",
    "population = []\n",
    "\n",
    "# 初始化种群\n",
    "for i in range(n):\n",
    "    population.append(i)\n",
    "print(\"Original population:\",population)\n",
    "\n",
    "# 种群选择\n",
    "plist = getRWSPList(population, w, v , W)  # 获得总群适应度概率list\n",
    "print(\"Fitness prob:\", plist)\n",
    "\n",
    "# 选择子代\n",
    "new_population = []\n",
    "for i in range(n):  # 选择n次\n",
    "    new_population.append(RWS(population, plist))\n",
    "new_population = list(set(new_population))  # 去重\n",
    "print(\"New population:\",new_population)"
   ]
  },
  {
   "cell_type": "markdown",
   "metadata": {},
   "source": [
    "### 基因交叉\n",
    "\n",
    "交叉指的是两个个体交换染色体片段然后产生**两个**新的后代。其步骤如下：  \n",
    "\n",
    "1. 随机匹配多对父母\n",
    "2. 每对个体按照一定概率一定规则交叉染色体\n",
    "3. 新产生的个体组成新的种群\n",
    "\n",
    "交叉操作存在着多种方式，例如：多点杂交、均匀杂交，离散杂交、中间杂交、线性杂交和扩展线性杂交等算法"
   ]
  },
  {
   "cell_type": "code",
   "execution_count": 11,
   "metadata": {},
   "outputs": [
    {
     "name": "stdout",
     "output_type": "stream",
     "text": [
      "Random pair: [[0, 2], [4, 5], [6, 3]]\n",
      "After crossover: [0, 6, 8, 10, 12, 14]\n"
     ]
    }
   ],
   "source": [
    "#  获得随机couple组\n",
    "def getRandomCouple(n):  # n:个体总数\n",
    "    random.seed()\n",
    "    selected = [0]*n  # 是否被选择了\n",
    "    couples = []  # 配对list\n",
    "    for i in range(n//2):\n",
    "        pair = []\n",
    "        while len(pair) < 2:\n",
    "            unit_index = random.randint(0, n-1)\n",
    "            if not selected[unit_index]:\n",
    "                pair.append(unit_index)\n",
    "                selected[unit_index] = True\n",
    "        couples.append(pair)\n",
    "    return couples\n",
    "\n",
    "def crossover(population, couples, cross_p, N):  # cross_p为交叉概率;N为编码长度\n",
    "    random.seed()\n",
    "    new_population = []\n",
    "    for pair in couples:\n",
    "        unit_one = encode(N, population[pair[0]])\n",
    "        unit_two = encode(N, population[pair[1]])\n",
    "        p = random.random()\n",
    "        if p >= (1 - cross_p):\n",
    "            # 交叉使用从随机位置交叉尾部\n",
    "            random_loc = random.randint(0, N-1)  # 获得随机位置\n",
    "            new_population.append(unit_one[0:random_loc] + unit_two[random_loc:])\n",
    "            new_population.append(unit_two[0:random_loc] + unit_one[random_loc:])\n",
    "        else:\n",
    "            new_population.append(unit_one)\n",
    "            new_population.append(unit_two)\n",
    "    for (index, unit) in enumerate(new_population):\n",
    "        new_population[index] = decode(unit)  # 解码\n",
    "    return list(set(new_population))\n",
    "\n",
    "couples = getRandomCouple(len(new_population))  # 获得随机配对\n",
    "print(\"Random pair:\", couples)\n",
    "\n",
    "new_population = crossover(new_population, couples, 0.8, N)\n",
    "print(\"After crossover:\", new_population)"
   ]
  },
  {
   "cell_type": "markdown",
   "metadata": {},
   "source": [
    "### 基因变异\n",
    "\n",
    "基因变异是指某一些个体的染色体上的基因发生突变，如个体1100->1000（单点突变）。\n"
   ]
  },
  {
   "cell_type": "code",
   "execution_count": 13,
   "metadata": {},
   "outputs": [
    {
     "name": "stdout",
     "output_type": "stream",
     "text": [
      "After mutation: [8, 2, 4, 14]\n"
     ]
    }
   ],
   "source": [
    "def mutation(population, N, mutation_p):\n",
    "    # print(population, N, mutation_p)\n",
    "    new_population = []\n",
    "    random.seed()\n",
    "    for unit in population:\n",
    "        unit_code = encode(N, unit)\n",
    "        p = random.random()  # 获得随机概率\n",
    "        if p > (1 - mutation_p):\n",
    "            random_loc = random.randint(0, N-1) \n",
    "            v = unit_code[random_loc]\n",
    "            unit_code[random_loc] = '0' if v=='1' else '1'\n",
    "        new_population.append(decode(unit_code))\n",
    "    return list(set(new_population))\n",
    "\n",
    "print(\"After mutation:\",mutation(new_population, N, 0.1))"
   ]
  },
  {
   "cell_type": "markdown",
   "metadata": {},
   "source": [
    "## 整体编码\n",
    "下面展示整个代码流程。"
   ]
  },
  {
   "cell_type": "code",
   "execution_count": 15,
   "metadata": {},
   "outputs": [
    {
     "name": "stdout",
     "output_type": "stream",
     "text": [
      "Original population: [0, 1, 2, 3, 4, 5, 6, 7, 8, 9, 10, 11, 12, 13, 14, 15]\n",
      "----------0----------\n",
      "After selection: [3, 4, 6, 8, 10, 12, 14]\n",
      "After crossover: [3, 4, 6, 8, 12, 14]\n",
      "After mutation:[3, 4, 6, 8, 12, 14]\n",
      "----------1----------\n",
      "After selection: [3, 6, 8, 12, 14]\n",
      "After crossover: [0, 11, 12, 14]\n",
      "After mutation:[0, 11, 12, 14]\n",
      "----------2----------\n",
      "After selection: [12, 14]\n",
      "After crossover: [12, 14]\n",
      "After mutation:[12, 14]\n",
      "----------3----------\n",
      "After selection: [12, 14]\n",
      "After crossover: [12, 14]\n",
      "After mutation:[12, 14]\n",
      "----------4----------\n",
      "After selection: [12, 14]\n",
      "After crossover: [12, 14]\n",
      "After mutation:[12, 14]\n",
      "----------5----------\n",
      "After selection: [12, 14]\n",
      "After crossover: [12, 14]\n",
      "After mutation:[12, 14]\n",
      "----------6----------\n",
      "After selection: [12, 14]\n",
      "After crossover: [12, 14]\n",
      "After mutation:[12, 14]\n",
      "----------7----------\n",
      "After selection: [12, 14]\n",
      "After crossover: [12, 14]\n",
      "After mutation:[12, 14]\n",
      "----------8----------\n",
      "After selection: [12, 14]\n",
      "After crossover: [12, 14]\n",
      "After mutation:[13, 14]\n",
      "----------9----------\n",
      "After selection: [14]\n",
      "[14]\n"
     ]
    }
   ],
   "source": [
    "# 变量设置\n",
    "generation_count = 50  # 迭代次数\n",
    "N = 4  # 物体总数\n",
    "n = pow(2, N)  # 种群个体总数\n",
    "w = [2, 3, 1, 5]  # 每个物体重量\n",
    "v = [4, 3, 2, 1]  # 每个物体价值\n",
    "W = 6  # 重量阈值\n",
    "population = [] \n",
    "\n",
    "# 初始化种群\n",
    "for i in range(n):\n",
    "    population.append(i)\n",
    "print(\"Original population:\",population)\n",
    "\n",
    "# 算法开始\n",
    "c = 0 # 当前迭代次数\n",
    "while c < generation_count:\n",
    "    print('-'*10+str(c)+'-'*10)\n",
    "    \n",
    "    # 种群选择\n",
    "    plist = getRWSPList(population, w, v , W)  # 获得总群概率list\n",
    "    new_population = []\n",
    "    for i in range(n):  # 适者生存\n",
    "        new_population.append(RWS(population, plist))\n",
    "    new_population = list(set(new_population))\n",
    "    print(\"After selection:\",new_population)\n",
    "    if len(new_population) == 1:\n",
    "        population = new_population\n",
    "        break\n",
    "    \n",
    "    # 种群交叉\n",
    "    couples = getRandomCouple(len(new_population))  # 获得随机配对\n",
    "    new_population = crossover(new_population, couples, 0.8, N)\n",
    "    print(\"After crossover:\", new_population)\n",
    "    if len(new_population) == 1:\n",
    "        population = new_population\n",
    "        break\n",
    "    \n",
    "    # 种群变异\n",
    "    new_population = mutation(new_population, N, 0.1)\n",
    "    print(\"After mutation:\"+ str(new_population))\n",
    "    if len(new_population) == 1:\n",
    "        population = new_population\n",
    "        break\n",
    "    \n",
    "    population = new_population\n",
    "    \n",
    "    c += 1\n",
    "\n",
    "print(population)\n"
   ]
  }
 ],
 "metadata": {
  "celltoolbar": "Edit Metadata",
  "kernelspec": {
   "display_name": "Python 3",
   "language": "python",
   "name": "python3"
  },
  "language_info": {
   "codemirror_mode": {
    "name": "ipython",
    "version": 3
   },
   "file_extension": ".py",
   "mimetype": "text/x-python",
   "name": "python",
   "nbconvert_exporter": "python",
   "pygments_lexer": "ipython3",
   "version": "3.6.5"
  }
 },
 "nbformat": 4,
 "nbformat_minor": 2
}
