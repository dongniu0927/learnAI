{
 "cells": [
  {
   "cell_type": "markdown",
   "metadata": {},
   "source": [
    "# 机器学习\n",
    "其三要素：**方法=模型+损失函数+优化算法**"
   ]
  },
  {
   "cell_type": "markdown",
   "metadata": {},
   "source": [
    "## 模型\n",
    "\n",
    "即：**所要学习的条件概率或决策函数**，如：回归模型；分类模型。"
   ]
  },
  {
   "cell_type": "markdown",
   "metadata": {},
   "source": [
    "## 损失函数\n",
    "即：这个模型想让它按照怎么样的准则去学习，然后选择你认为的最优模型。其实策略就是我们通常说的损失函数（loss function）、代价函数（cost function）等，主要有：0-1损失函数，平方损失函数，绝对损失函数，对数损失函数，交叉熵等。"
   ]
  },
  {
   "cell_type": "markdown",
   "metadata": {},
   "source": [
    "## 优化算法\n",
    "即：使策略最小化的方法。如：最小二乘法，牛顿法，梯度下降等。"
   ]
  },
  {
   "cell_type": "markdown",
   "metadata": {},
   "source": [
    "## 五大流派\n",
    "\n",
    "- **符号主义**：使用符号、规则和逻辑来表征知识和进行逻辑推理，最喜欢的算法是：规则和决策树；\n",
    "- **贝叶斯派**：获取发生的可能性来进行概率推理，最喜欢的算法是：朴素贝叶斯或马尔可夫；\n",
    "- **联结主义**：使用概率矩阵和加权神经元来动态地识别和归纳模式，最喜欢的算法是：神经网络；\n",
    "- **进化主义**：生成变化，然后为特定目标获取其中最优的，最喜欢的算法是：遗传算法；\n",
    "- **Analogizer**：根据约束条件来优化函数（尽可能走到更高，但同时不要离开道路），最喜欢的算法是：支持向量机。"
   ]
  },
  {
   "cell_type": "markdown",
   "metadata": {},
   "source": [
    "## 参考\n",
    "> [机器学习-1：MachineLN之三要素](https://blog.csdn.net/u014365862/article/details/78955063)"
   ]
  }
 ],
 "metadata": {
  "kernelspec": {
   "display_name": "Python 3",
   "language": "python",
   "name": "python3"
  },
  "language_info": {
   "codemirror_mode": {
    "name": "ipython",
    "version": 3
   },
   "file_extension": ".py",
   "mimetype": "text/x-python",
   "name": "python",
   "nbconvert_exporter": "python",
   "pygments_lexer": "ipython3",
   "version": "3.6.5"
  }
 },
 "nbformat": 4,
 "nbformat_minor": 2
}
