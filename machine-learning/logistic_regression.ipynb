{
 "cells": [
  {
   "cell_type": "markdown",
   "metadata": {},
   "source": [
    "# 逻辑回归（Logistic Regression）\n",
    "\n",
    "在线性回归模型上面套用一个逻辑函数（Logistic Function）以实现单分类的功能。"
   ]
  },
  {
   "cell_type": "markdown",
   "metadata": {},
   "source": [
    "## 模型：线性模型+逻辑函数\n",
    "\n",
    "其假设函数为：\n",
    "\n",
    "> $h_\\theta(x)=g(\\theta^TX)$, 其中$g(z)=\\dfrac{1}{1+e^{-z}}$\n",
    "\n",
    "$h_\\theta$的作用是：对于给定的输入变量，计算预测y=1的概率。\n",
    "\n",
    "#### 决策边界\n",
    "\n",
    "当$\\theta^TX>=0$，预测$y=1$；$\\theta^TX<0$，预测$y=0$，可以绘制$\\theta^TX=0$这条直线作为决策边界。\n",
    "\n",
    "> 对于更复杂的决策边界则需要更复杂的模型"
   ]
  },
  {
   "cell_type": "markdown",
   "metadata": {},
   "source": [
    "## 策略：交叉熵函数\n",
    "\n",
    "不能再使用线性回归中误差平方和这种函数，因为这个代价函数针对这个问题会变成非凸函数（non-convex function），定义逻辑回归的代价函数为：\n",
    "\n",
    "> $J(\\theta)=\\dfrac{1}{m}\\sum_{i=1}^mCost(h_\\theta(x^{(i)},y^{(i)}))$\n",
    "\n",
    "其中（其实就是在求各个类的交叉熵）：\n",
    "\n",
    "> $Cost(h_\\theta(x), y)=\\begin{cases} -log(h_\\theta(x)) \\ \\ if \\ y=1 \\\\ -log(1- h_\\theta(x)) \\ \\ if \\ y=0 \\end{cases}$\n",
    "\n",
    "这样带入可得：\n",
    "\n",
    "> $J(\\theta)=\\dfrac{1}{m}\\sum_{i=1}^m[-y^{(i)}log(h_\\theta(x^{(i)})) - (1-y^{(i)})log(1-h_\\theta(x^{(i)}))]$\n",
    "\n",
    "需要注意的是：\n",
    "\n",
    "- 非凸函数会有很多局部最小值,会影响梯度下降寻找全局最优值。\n",
    "- 交叉熵参考：[信息论](../basics/information_theory.ipynb)。"
   ]
  },
  {
   "cell_type": "markdown",
   "metadata": {},
   "source": [
    "## 算法：梯度下降\n",
    "\n",
    "使用梯度下降求最优值，其他更好的算法还有：共轭梯度（Conjugate Gradient），局部优化法（Broyden fletcher goldfarb shann,BFGS）和有限内存局部优化法（LBFGS）等。"
   ]
  },
  {
   "cell_type": "markdown",
   "metadata": {},
   "source": [
    "## 多分类\n",
    "通过建立多个$h_\\theta^{(i)}$来进行多分类。"
   ]
  },
  {
   "cell_type": "markdown",
   "metadata": {},
   "source": [
    "## 代码实现"
   ]
  },
  {
   "cell_type": "code",
   "execution_count": 1,
   "metadata": {},
   "outputs": [
    {
     "name": "stdout",
     "output_type": "stream",
     "text": [
      "0 [0.006125 0.003375] [-0.0025]\n",
      "1 [0.01218272 0.00668843] [-0.0049583]\n",
      "2 [0.01817408 0.00994117] [-0.00737549]\n",
      "3 [0.02410002 0.01313413] [-0.00975216]\n",
      "4 [0.02996145 0.01626818] [-0.0120889]\n",
      "5 [0.03575929 0.0193442 ] [-0.0143863]\n",
      "6 [0.04149444 0.02236305] [-0.01664493]\n",
      "7 [0.04716783 0.02532561] [-0.01886537]\n",
      "8 [0.05278036 0.02823273] [-0.0210482]\n",
      "9 [0.05833291 0.03108526] [-0.02319399]\n",
      "10 [0.06382637 0.03388404] [-0.02530328]\n",
      "11 [0.06926163 0.0366299 ] [-0.02737665]\n",
      "12 [0.07463955 0.03932368] [-0.02941464]\n",
      "13 [0.07996101 0.04196617] [-0.0314178]\n",
      "14 [0.08522686 0.04455819] [-0.03338667]\n",
      "15 [0.09043793 0.04710054] [-0.03532178]\n",
      "16 [0.09559508 0.049594  ] [-0.03722365]\n",
      "17 [0.10069913 0.05203935] [-0.03909282]\n",
      "18 [0.10575089 0.05443735] [-0.04092979]\n",
      "19 [0.11075117 0.05678876] [-0.04273507]\n"
     ]
    }
   ],
   "source": [
    "import tensorflow as tf\n",
    "import numpy as np\n",
    "\n",
    "x_train = [[1.1, 2.1], [2.2, 1.0], [2.1, 1.3], [.5, 1.7]]\n",
    "y_train = [1, 1, 1, 0]\n",
    "y_train = np.mat(y_train).reshape(-1, 1)\n",
    "# print(y_train)\n",
    "\n",
    "theta = tf.Variable(tf.zeros([2, 1]))\n",
    "bias = tf.Variable(tf.zeros([1, 1]))\n",
    "\n",
    "# 模型\n",
    "y = 1 / (1+tf.exp(-tf.matmul(x_train, theta) + bias))\n",
    "\n",
    "# 策略\n",
    "loss = tf.reduce_mean(- y_train * tf.log(y) - (1 - y_train) * tf.log(1 - y))\n",
    "\n",
    "# 算法\n",
    "train = tf.train.GradientDescentOptimizer(.01).minimize(loss)\n",
    "\n",
    "sess = tf.Session()\n",
    "init = tf.global_variables_initializer()\n",
    "sess.run(init)\n",
    "for step in range(20):\n",
    "    sess.run(train)\n",
    "    print(step, sess.run(theta).flatten(), sess.run(bias).flatten())"
   ]
  }
 ],
 "metadata": {
  "kernelspec": {
   "display_name": "Python 3",
   "language": "python",
   "name": "python3"
  },
  "language_info": {
   "codemirror_mode": {
    "name": "ipython",
    "version": 3
   },
   "file_extension": ".py",
   "mimetype": "text/x-python",
   "name": "python",
   "nbconvert_exporter": "python",
   "pygments_lexer": "ipython3",
   "version": "3.6.5"
  }
 },
 "nbformat": 4,
 "nbformat_minor": 2
}
