{
 "cells": [
  {
   "cell_type": "markdown",
   "metadata": {},
   "source": [
    "# 线性回归（Linear Regression）\n",
    "\n",
    "一种使用线性假设函数来预测连续值的算法，其它还包括：\n",
    "\n",
    "- 单变量线性回归\n",
    "- 多变量线性回归\n",
    "- 多项式回归"
   ]
  },
  {
   "cell_type": "markdown",
   "metadata": {},
   "source": [
    "## 模型：线性假设函数\n",
    "\n",
    "就是学习到一个hypothesis函数，输入$\\boldsymbol{x}$后预测$y$值，$h$函数的形式表示为：\n",
    "\n",
    "> $h_\\theta\\left(\\boldsymbol{x}\\right)=\\theta_{0}+\\theta_{1}x_1+...+\\theta_nx_n$"
   ]
  },
  {
   "cell_type": "markdown",
   "metadata": {},
   "source": [
    "## 策略：均方误差函数\n",
    "\n",
    "使用**均方误差函数(mean-square error)**作为代价函数，其形式表示为：\n",
    "\n",
    "> $J(\\theta) = \\dfrac{1}{2m}\\sum_{i=1}^m (h_{\\theta}(x^{(i)})-y^{(i)} )^{2}$"
   ]
  },
  {
   "cell_type": "markdown",
   "metadata": {},
   "source": [
    "\n",
    "## 优化算法\n",
    "\n",
    "模型的目标为：$minimize \\ J(\\theta)$，主要有**梯度下降**与**正规方程**两种优化算法。\n",
    "\n",
    "### -->梯度下降 - 迭代算法\n",
    "\n",
    "梯度下降（Gradient Descent）：一种用来求函数最小值的**迭代算法**，其核心思想在于：**寻找降速最快的方向多次迭代下降靠近最小值**。 \n",
    "\n",
    "批量梯度下降（batch gradient descent）的算法：  \n",
    "\n",
    "> $Repeat \\ until \\ convergence \\{ \\\\ \\ \\ \\theta_j := \\theta_j - \\alpha\\dfrac{\\partial}{\\partial\\theta_j}J(\\theta) \\\\ \\}$\n",
    "\n",
    "需要注意的是：\n",
    "\n",
    "- 在计算过程中并不需要减小$\\alpha$，因为随着越来越靠近最优值，梯度也会变得越来越小；\n",
    "- 需要同时更新每个$\\theta_j$；\n",
    "\n",
    "### -->正规方程 - 数值解法\n",
    "\n",
    "正规方程（Normal Equation ）：一种数值的求最小值的算法。假设我们的训练集特征矩阵为 $X$（包含了 $x_{0}=1$）并且我们的训练集结果为向量 $y$，则利用正规方程解出向量:\n",
    "\n",
    "> $\\theta =(X^T X)^{-1}X^{T}y$ 。\n",
    "\n",
    "需要注意的是：\n",
    "\n",
    "- 对于**不可逆矩阵**不可以用正规方程方法  \n",
    "- 正规方程适合特征数目$n$小于10000    \n",
    "- 正规方程只适合**线性模型**\n",
    "\n",
    "解决不可逆矩阵：\n",
    "\n",
    "- 删除多余特征\n",
    "- 正则化"
   ]
  },
  {
   "cell_type": "markdown",
   "metadata": {},
   "source": [
    "## 编码实现"
   ]
  },
  {
   "cell_type": "code",
   "execution_count": 80,
   "metadata": {},
   "outputs": [],
   "source": [
    "import tensorflow as tf\n",
    "import numpy as np\n",
    "import pandas as pd\n",
    "import matplotlib.pyplot as plt"
   ]
  },
  {
   "cell_type": "code",
   "execution_count": 81,
   "metadata": {},
   "outputs": [],
   "source": [
    "# 读入数据\n",
    "train = pd.read_csv(\"data/housePrice/train.csv\")\n",
    "train = train[train[\"LotArea\"]<12000]\n",
    "train_X = train[\"LotArea\"].values.reshape(-1, 1)\n",
    "train_Y = train[\"SalePrice\"].values.reshape(-1, 1)\n",
    "# print(train[\"LotArea\"].values)\n",
    "# print(train_X)"
   ]
  },
  {
   "cell_type": "markdown",
   "metadata": {},
   "source": [
    "### 正规方程"
   ]
  },
  {
   "cell_type": "code",
   "execution_count": 87,
   "metadata": {},
   "outputs": [
    {
     "name": "stdout",
     "output_type": "stream",
     "text": [
      "Theta: [[18.94498264]]\n"
     ]
    }
   ],
   "source": [
    "def normalEqn(X, y):\n",
    "    theta = np.linalg.inv(X.T@X)@X.T@y\n",
    "    return theta\n",
    "print(\"Theta:\", normalEqn(train_X, train_Y))"
   ]
  },
  {
   "cell_type": "markdown",
   "metadata": {},
   "source": [
    "### 梯度下降方式"
   ]
  },
  {
   "cell_type": "code",
   "execution_count": 82,
   "metadata": {},
   "outputs": [],
   "source": [
    "# 参数准备\n",
    "n_samples = train_X.shape[0]\n",
    "learning_rate = 3\n",
    "epochs = 1000\n",
    "display_step = 50  # 每多少次输出一次结果"
   ]
  },
  {
   "cell_type": "code",
   "execution_count": 83,
   "metadata": {},
   "outputs": [],
   "source": [
    "# 定义输入占位符\n",
    "X = tf.placeholder(tf.float32, shape=(None, 1))\n",
    "Y = tf.placeholder(tf.float32, shape=(None, 1))"
   ]
  },
  {
   "cell_type": "code",
   "execution_count": 84,
   "metadata": {},
   "outputs": [],
   "source": [
    "# 定义模型\n",
    "with tf.variable_scope(\"linearAlgebra1\", reuse=tf.AUTO_REUSE):\n",
    "    # 定义变量\n",
    "    W = tf.get_variable(name=\"weights\", shape=[], dtype=tf.float32, \n",
    "                        initializer=tf.random_normal_initializer)\n",
    "    b = tf.get_variable(name=\"bias\", shape=[], dtype=tf.float32,\n",
    "                       initializer=tf.constant_initializer)\n",
    "    # 定义模型\n",
    "    pred = tf.add(tf.multiply(W, X), b)\n",
    "    # 定义损失函数\n",
    "    cost = tf.reduce_sum(tf.pow(pred-Y, 2)) / (2 * n_samples)\n",
    "    # 定义优化器\n",
    "    optimizer = tf.train.AdamOptimizer(learning_rate).minimize(cost)\n",
    "# 初始化所有变量\n",
    "init = tf.global_variables_initializer()"
   ]
  },
  {
   "cell_type": "code",
   "execution_count": 85,
   "metadata": {},
   "outputs": [
    {
     "name": "stdout",
     "output_type": "stream",
     "text": [
      "Epoch: 49  Cost: 2088584100.0 W: 19.152332 b: 37.50781\n",
      "Epoch: 99  Cost: 2086691000.0 W: 18.903536 b: 70.529755\n",
      "Epoch: 149  Cost: 2086286200.0 W: 18.930986 b: 113.34926\n",
      "Epoch: 199  Cost: 2085859200.0 W: 18.926556 b: 163.73703\n",
      "Epoch: 249  Cost: 2085378000.0 W: 18.920553 b: 220.57188\n",
      "Epoch: 299  Cost: 2084849000.0 W: 18.913586 b: 283.06085\n",
      "Epoch: 349  Cost: 2084277800.0 W: 18.906063 b: 350.6086\n",
      "Epoch: 399  Cost: 2083668200.0 W: 18.898035 b: 422.74356\n",
      "Epoch: 449  Cost: 2083023600.0 W: 18.88954 b: 499.0774\n",
      "Epoch: 499  Cost: 2082346900.0 W: 18.880615 b: 579.2821\n",
      "Epoch: 549  Cost: 2081640200.0 W: 18.871288 b: 663.0748\n",
      "Epoch: 599  Cost: 2080905700.0 W: 18.86159 b: 750.2073\n",
      "Epoch: 649  Cost: 2080146300.0 W: 18.851543 b: 840.4587\n",
      "Epoch: 699  Cost: 2079362600.0 W: 18.841171 b: 933.6313\n",
      "Epoch: 749  Cost: 2078557000.0 W: 18.8305 b: 1029.546\n",
      "Epoch: 799  Cost: 2077730200.0 W: 18.819536 b: 1128.0392\n",
      "Epoch: 849  Cost: 2076883500.0 W: 18.808304 b: 1228.9608\n",
      "Epoch: 899  Cost: 2076019100.0 W: 18.796818 b: 1332.1724\n",
      "Epoch: 949  Cost: 2075137400.0 W: 18.78509 b: 1437.5458\n",
      "Epoch: 999  Cost: 2074239500.0 W: 18.773134 b: 1544.9624\n"
     ]
    },
    {
     "data": {
      "image/png": "[encoded data removed]",
      "text/plain": [
       "<Figure size 432x288 with 1 Axes>"
      ]
     },
     "metadata": {},
     "output_type": "display_data"
    }
   ],
   "source": [
    "# 开始训练\n",
    "with tf.Session() as sess:\n",
    "    sess.run(init)\n",
    "    for epoch in range(epochs):\n",
    "        sess.run(optimizer, feed_dict={X:train_X, Y:train_Y})\n",
    "        if (epoch+1) % display_step == 0:\n",
    "            c = sess.run(cost, feed_dict={X:train_X, Y:train_Y})\n",
    "            print(\"Epoch:\", epoch, \" Cost:\", c, \"W:\", sess.run(W), \"b:\", sess.run(b))\n",
    "    # 画图\n",
    "    plt.plot(train_X, train_Y, \"ro\", label=\"Original data\")\n",
    "    plt.plot(train_X, sess.run(W)*train_X+sess.run(b), label=\"Fitted line\")\n",
    "    plt.legend()\n",
    "    plt.show()"
   ]
  }
 ],
 "metadata": {
  "kernelspec": {
   "display_name": "Python 3",
   "language": "python",
   "name": "python3"
  },
  "language_info": {
   "codemirror_mode": {
    "name": "ipython",
    "version": 3
   },
   "file_extension": ".py",
   "mimetype": "text/x-python",
   "name": "python",
   "nbconvert_exporter": "python",
   "pygments_lexer": "ipython3",
   "version": "3.5.2"
  }
 },
 "nbformat": 4,
 "nbformat_minor": 2
}
