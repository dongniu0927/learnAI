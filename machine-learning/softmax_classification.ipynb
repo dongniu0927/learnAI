{
 "cells": [
  {
   "cell_type": "markdown",
   "metadata": {},
   "source": [
    "# Softmax分类\n",
    "\n",
    "相比于逻辑回归，SVM等做多分类需要多个分类器，Softmax则通过另一种方式来做多分类。下面通过与逻辑回归做比较来介绍softmax分类器。"
   ]
  },
  {
   "cell_type": "markdown",
   "metadata": {},
   "source": [
    "## 模型：多个线性模型组合\n",
    "\n",
    "相比于逻辑回归在一个线性回归模型$\\theta^TX$上套用一个逻辑函数$g(z)=\\dfrac{1}{1+e^{-z}}$来实现单分类，softmax则使用$n$（其中$n$等于分类数目）个回归模型组合起来实现多分类，其模型表示为：\n",
    "\n",
    "> $P(i)=\\dfrac{exp(\\theta_i^Tx)}{\\sum_{k=1}^Kexp(\\theta_k^Tx)}$\n",
    "\n",
    "其中$P(i)$表示属于第$i$个类的概率。下面给出了最后层为softmax层的深度神经网络：\n",
    "\n",
    "![softmax1](./resources/softmax1.png)\n",
    "\n",
    "上面三个黄色的神经元即分别做了softmax计算。\n",
    "\n",
    "其倒数第二层本来就是要做三分类了，softmax只是把其结果套上一个自己的函数，来获得归一化的概率表示，所以softmax并没有自己要训练的参数。"
   ]
  }
 ],
 "metadata": {
  "kernelspec": {
   "display_name": "Python 3",
   "language": "python",
   "name": "python3"
  },
  "language_info": {
   "codemirror_mode": {
    "name": "ipython",
    "version": 3
   },
   "file_extension": ".py",
   "mimetype": "text/x-python",
   "name": "python",
   "nbconvert_exporter": "python",
   "pygments_lexer": "ipython3",
   "version": "3.6.5"
  }
 },
 "nbformat": 4,
 "nbformat_minor": 2
}
