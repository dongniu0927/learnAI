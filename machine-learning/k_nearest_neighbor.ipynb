{
 "cells": [
  {
   "cell_type": "markdown",
   "metadata": {},
   "source": [
    "# K近邻算法\n",
    "\n",
    "K近邻(k-Nearest Neighbor，KNN)是一种通过简单的距离度量的方式来进行分类或回归的机器学习算法。其算法步骤如下：\n",
    "\n",
    "- 先计算待预测样本与已知样本的欧式距离；\n",
    "- 寻找距离最近的前k个样本；\n",
    "- 对于分类，取k个样本中所属类别最多的类作为预测类；对于回归，取k个样本的均值作为预测值；\n",
    "\n",
    "操作示例图如下：\n",
    "\n",
    "![](./resources/knn1.png)"
   ]
  },
  {
   "cell_type": "markdown",
   "metadata": {},
   "source": [
    "## KNN问题\n",
    "\n",
    "KNN有两个问题：\n",
    "\n",
    "- 假设样本不平衡，某个类的样本容量很大，会导致新样本预测会偏向选这个类作为结果。改进方式是根据距离来给样本权值，距离测试样本的近的，其所属类别对结果的影响越大，越远的影响越小。\n",
    "- 假设已知样本集合非常巨大，一次预测要比较预测样本与样本集所有样本的距离，花费太大。改进方式是根据预测样本对样本集进行剪切，除去那些相关度不高的样本。"
   ]
  }
 ],
 "metadata": {
  "kernelspec": {
   "display_name": "Python 3",
   "language": "python",
   "name": "python3"
  },
  "language_info": {
   "codemirror_mode": {
    "name": "ipython",
    "version": 3
   },
   "file_extension": ".py",
   "mimetype": "text/x-python",
   "name": "python",
   "nbconvert_exporter": "python",
   "pygments_lexer": "ipython3",
   "version": "3.6.5"
  }
 },
 "nbformat": 4,
 "nbformat_minor": 2
}
