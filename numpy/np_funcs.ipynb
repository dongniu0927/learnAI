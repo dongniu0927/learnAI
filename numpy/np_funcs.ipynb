{
 "cells": [
  {
   "cell_type": "markdown",
   "metadata": {},
   "source": [
    "# Numpy函数\n",
    "\n",
    "介绍了一些numpy中常用的函数.\n"
   ]
  },
  {
   "cell_type": "code",
   "execution_count": 3,
   "metadata": {},
   "outputs": [],
   "source": [
    "import numpy as np"
   ]
  },
  {
   "cell_type": "markdown",
   "metadata": {},
   "source": [
    "### [np.vstack](https://docs.scipy.org/doc/numpy-1.6.0/reference/generated/numpy.vstack.html)\n",
    "\n",
    "在垂直方向上堆叠数组. 其函数原型为:\n",
    "\n",
    "```bash\n",
    "numpy.vstack(\n",
    "    tup=()\n",
    ")\n",
    "```\n",
    "\n",
    "- `tup`: 一组`np.ndarray`类型数据, 这组数据除了第一维外其他维度的`shape`都应该一样；\n",
    "\n",
    "使用例子如下:"
   ]
  },
  {
   "cell_type": "code",
   "execution_count": 3,
   "metadata": {},
   "outputs": [
    {
     "name": "stdout",
     "output_type": "stream",
     "text": [
      "[[1 2]\n",
      " [3 4]\n",
      " [5 6]]\n"
     ]
    }
   ],
   "source": [
    "a = np.array([[1, 2], [3, 4]])\n",
    "b = np.array([[5, 6]])\n",
    "print(np.vstack((a,b)))"
   ]
  },
  {
   "cell_type": "markdown",
   "metadata": {},
   "source": [
    "### [np.diag](https://docs.scipy.org/doc/numpy/reference/generated/numpy.diag.html)\n",
    "\n",
    "提取对角线元素或通过给定对角线元素生成矩阵. 其函数原型为:\n",
    "\n",
    "```bash\n",
    "numpy.diag(\n",
    "    v,\n",
    "    k=0\n",
    ")\n",
    "```\n",
    "- `v`: 数组类型.如果v是一个二维数组，返回其第k个对角线的副本;如果是一维,生成一个以该数组为对角线的新矩阵；\n",
    "- `k`: 主对角线以上的对角线用k>0，主对角线以下的对角线用k<0；\n",
    "\n",
    "使用方式如下:"
   ]
  },
  {
   "cell_type": "code",
   "execution_count": 4,
   "metadata": {},
   "outputs": [
    {
     "name": "stdout",
     "output_type": "stream",
     "text": [
      "x:\n",
      "[[0 1 2]\n",
      " [3 4 5]\n",
      " [6 7 8]]\n",
      "k=0: [0 4 8]\n",
      "k=1: [1 5]\n",
      "k=-1: [3 7]\n",
      "y:\n",
      "[[1 0 0]\n",
      " [0 2 0]\n",
      " [0 0 3]]\n"
     ]
    }
   ],
   "source": [
    "# 提取对角线\n",
    "x = np.arange(9).reshape((3,3))\n",
    "print(\"x:\")\n",
    "print(x)\n",
    "print(\"k=0:\", np.diag(x))\n",
    "print(\"k=1:\", np.diag(x, k=1))\n",
    "print(\"k=-1:\", np.diag(x, k=-1))\n",
    "\n",
    "# 生成矩阵\n",
    "y = np.array([1, 2, 3])\n",
    "print(\"y:\")\n",
    "print(np.diag(y))"
   ]
  },
  {
   "cell_type": "markdown",
   "metadata": {},
   "source": [
    "### [np.std](https://docs.scipy.org/doc/numpy-1.13.0/reference/generated/numpy.std.html)\n",
    "\n",
    "计算指定维度上的标准差。\n",
    "\n",
    "标准差计算方式为: .\n",
    "\n",
    "> $std=\\sqrt{\\dfrac{1}{N}\\sum_{i=1}^N(x_i - x')^2}$， 其中$x'$为均值\n",
    "\n",
    "其函数原型为:\n",
    "\n",
    "```bash\n",
    "numpy.std(\n",
    "    a,\n",
    "    axis,\n",
    "    ...\n",
    ")\n",
    "```\n",
    "- `a`: 需要计算标准差的一个array_like类型的数据；\n",
    "- `axis`: 在哪个或者哪些维度上面计算标准差, 默认展平所有维度并计算所有元素的标准差；\n",
    "\n",
    "其使用例子如下:"
   ]
  },
  {
   "cell_type": "code",
   "execution_count": 13,
   "metadata": {},
   "outputs": [
    {
     "name": "stdout",
     "output_type": "stream",
     "text": [
      "1.2909944487358056\n",
      "[1. 1. 1.]\n",
      "[0.81649658 0.81649658]\n"
     ]
    }
   ],
   "source": [
    "a = np.array([[1, 2, 3], [3, 4, 5]])\n",
    "print(np.std(a))\n",
    "print(np.std(a, axis=0))  # 展开第0维度,将展开后数据叠加求标准差\n",
    "print(np.std(a, axis=1))"
   ]
  },
  {
   "cell_type": "markdown",
   "metadata": {},
   "source": [
    "### [numpy.mean](https://docs.scipy.org/doc/numpy/reference/generated/numpy.mean.html)\n",
    "\n",
    "计算指定维度上的算术平均数。其函数原型为:\n",
    "\n",
    "```bash\n",
    "numpy.mean(\n",
    "    a,\n",
    "    axis,\n",
    "    ...\n",
    ")\n",
    "```\n",
    "- `a`: 需要计算平均数的一个array_like类型的值；\n",
    "- `axis`: 在哪个或者哪些维度上面计算平均值, 默认展平所有维度并计算所有元素的平均值；"
   ]
  },
  {
   "cell_type": "code",
   "execution_count": 16,
   "metadata": {},
   "outputs": [
    {
     "name": "stdout",
     "output_type": "stream",
     "text": [
      "3.0\n",
      "[2. 3. 4.]\n",
      "[2. 4.]\n"
     ]
    }
   ],
   "source": [
    "a = np.array([[1, 2, 3], [3, 4, 5]])\n",
    "print(np.mean(a))\n",
    "print(np.mean(a, axis=0))  # 展开第0维度,将展开后数据叠加求标准差\n",
    "print(np.mean(a, axis=1))"
   ]
  },
  {
   "cell_type": "markdown",
   "metadata": {},
   "source": [
    "### [np.maximum](https://docs.scipy.org/doc/numpy/reference/generated/numpy.maximum.html)\n",
    "\n",
    "求数组元素的元素级最大值。比较两个数组,选择较大值组合成新的数组返回。函数原型为:\n",
    "\n",
    "```bash\n",
    "numpy.maximum(\n",
    "    x1,\n",
    "    x2\n",
    ")\n",
    "```\n",
    "- `x1`,`x2`: 要比较的数组,它们必须拥有相同的shape；\n",
    "\n",
    "使用例子如下:\n"
   ]
  },
  {
   "cell_type": "code",
   "execution_count": 15,
   "metadata": {},
   "outputs": [
    {
     "name": "stdout",
     "output_type": "stream",
     "text": [
      "[2 5 4]\n",
      "[[1.  2. ]\n",
      " [0.5 2. ]]\n"
     ]
    }
   ],
   "source": [
    "print(np.maximum([2, 3, 4], [1, 5, 2]))\n",
    "print(np.maximum(np.eye(2), [0.5, 2]))  # broadcasting"
   ]
  },
  {
   "cell_type": "markdown",
   "metadata": {},
   "source": [
    "### [np.amin](https://docs.scipy.org/doc/numpy-1.15.0/reference/generated/numpy.amin.html)\n",
    "\n",
    "返回一个数组的最小值或者一个轴上的最小值. 其函数原型为:\n",
    "\n",
    "```bash\n",
    "numpy.amin(\n",
    "    a,\n",
    "    axis\n",
    ")\n",
    "```\n",
    "\n",
    "使用例子如下:"
   ]
  },
  {
   "cell_type": "code",
   "execution_count": 14,
   "metadata": {},
   "outputs": [
    {
     "name": "stdout",
     "output_type": "stream",
     "text": [
      "a: [[0 1]\n",
      " [2 3]]\n",
      "0\n",
      "[0 2]\n"
     ]
    }
   ],
   "source": [
    "a = np.arange(4).reshape((2, 2))\n",
    "print(\"a:\", a)\n",
    "print(np.amin(a))\n",
    "print(np.amin(a, 1))"
   ]
  }
 ],
 "metadata": {
  "kernelspec": {
   "display_name": "Python 3",
   "language": "python",
   "name": "python3"
  },
  "language_info": {
   "codemirror_mode": {
    "name": "ipython",
    "version": 3
   },
   "file_extension": ".py",
   "mimetype": "text/x-python",
   "name": "python",
   "nbconvert_exporter": "python",
   "pygments_lexer": "ipython3",
   "version": "3.5.2"
  }
 },
 "nbformat": 4,
 "nbformat_minor": 2
}
