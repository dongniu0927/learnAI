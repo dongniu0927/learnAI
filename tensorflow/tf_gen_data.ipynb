{
 "cells": [
  {
   "cell_type": "markdown",
   "metadata": {},
   "source": [
    "# TF数据产生\n",
    "\n",
    "下面介绍一些TF产生数据的方法。"
   ]
  },
  {
   "cell_type": "markdown",
   "metadata": {},
   "source": [
    "## TF初始化器\n",
    "\n",
    "对于建立`tf.get_variable()`op，可以使用`tf.initializers`来作为初始化器，下面介绍常用的初始化器:\n",
    "\n",
    "- `tf.initializers.ones()`: 生成初始化为1的张量的初始化器;\n",
    "- `tf.initializers.zeros()`: 生成初始化为0的张量的初始化器;\n",
    "- `tf.initializers.random_normal(mean=0.0, stddev=1.0, dtype=tf.float32, seed=None)`: 用正态分布产生张量的初始化器;\n",
    "- `tf.initializers.truncated_normal(mean=0.0, stddev=1.0, dtype=tf.float32, seed=None)`: 生成截断正态分布的初始化器;\n",
    "- `tf.initializers.random_uniform(minval=0, maxval=None, dtype=tf.float32, seed=None)`: 生成具有均匀分布的张量的初始化器;\n",
    "- `tf.initializers.glorot_normal(seed=None,dtype=tf.float32)`：生成具有Xavier正态分布的初始化器；\n",
    "- `tf.initializers.glorot_uniform(seed=None,dtype=tf.float32)`: 生成具有Xavier均匀分布的初始化器；"
   ]
  },
  {
   "cell_type": "code",
   "execution_count": 47,
   "metadata": {},
   "outputs": [
    {
     "name": "stdout",
     "output_type": "stream",
     "text": [
      "[[1. 1. 1.]\n",
      " [1. 1. 1.]]\n",
      "[[0. 0. 0.]\n",
      " [0. 0. 0.]]\n",
      "[[ 0.07583038  0.3425053  -1.0822985 ]\n",
      " [ 1.0452682   0.4481173   0.8941467 ]]\n",
      "[[0.89619243 0.6311263  0.22577834]\n",
      " [0.02859247 0.0621134  0.48102963]]\n",
      "[[-0.23755573 -0.3566748  -0.4608873 ]\n",
      " [-1.7610096   0.22817557  0.00852812]]\n",
      "[[-0.52205384  0.17615902  0.90402174]\n",
      " [-0.31278932 -0.49039662 -0.34612566]]\n"
     ]
    }
   ],
   "source": [
    "import tensorflow as tf\n",
    "\n",
    "with tf.variable_scope(\"test\", reuse=tf.AUTO_REUSE) as scope:\n",
    "    ones_initializer = tf.initializers.ones()\n",
    "    zeros_initializer = tf.initializers.zeros()\n",
    "    normal_initializer = tf.initializers.random_normal(mean=0, stddev=1, dtype=tf.float32)\n",
    "    truncated_initializer = tf.initializers.truncated_normal(mean=0,stddev=1, dtype=tf.float32)\n",
    "    uniform_initializer = tf.initializers.random_uniform(minval=0, maxval=100, dtype=tf.float32)\n",
    "    xavier_init = tf.keras.initializers.glorot_uniform() # 有些版本暂时不支持tf.initializers.glorot_uniform\n",
    "    \n",
    "    a = tf.get_variable(name=\"a\", shape=(2, 3), initializer=ones_initializer)\n",
    "    b = tf.get_variable(name=\"b\", shape=(2, 3), initializer=zeros_initializer)\n",
    "    c = tf.get_variable(name=\"c\", shape=(2, 3), initializer=normal_initializer)\n",
    "    d = tf.get_variable(name=\"d\", shape=(2, 3), initializer=uniform_initializer)\n",
    "    e = tf.get_variable(name=\"e\", shape=(2, 3), initializer=truncated_initializer)\n",
    "    f = tf.get_variable(name=\"f\", shape=(2, 3), initializer=xavier_init)\n",
    "\n",
    "with tf.Session() as sess:\n",
    "    sess.run(tf.initialize_all_variables())\n",
    "    print(sess.run(a))\n",
    "    print(sess.run(b))\n",
    "    print(sess.run(c))\n",
    "    print(sess.run(d))\n",
    "    print(sess.run(e))\n",
    "    print(sess.run(f))"
   ]
  },
  {
   "cell_type": "markdown",
   "metadata": {},
   "source": [
    "## TF产生特定分布\n",
    "\n",
    "在tf中，一般使用如下几个方法产生符合某种分布的数据：\n",
    "\n",
    "- `tf.random_normal(shape, mean=0.0, stddev=1.0, dtype=tf.float32, seed=None)`：从正态分布中输出shape形状的随机值。\n",
    "- `tf.truncated_normal(shape, mean=0.0, stddev=1.0, dtype=tf.float32, seed=None)`: 从截断正态分布中输出shape形状的随机值。\n",
    "- `tf.random_uniform(shape, minval=0, maxval=None, dtype=tf.float32, seed=None)`：从均匀分布中输出shape形状的随机值，值的范围为`[minval, maxval)`。\n",
    "- `tf.random_shuffle(value, seed=None)`：随机打乱一个张量的第一维。\n",
    "- `tf.set_random_seed(seed)`：设置图级别随机种子。\n",
    "\n",
    "另外还可以产生poisson，multinomial（多项式），Gamma分布，具体请参考TF官方文档。"
   ]
  },
  {
   "cell_type": "code",
   "execution_count": 44,
   "metadata": {},
   "outputs": [
    {
     "name": "stdout",
     "output_type": "stream",
     "text": [
      "[[-1.0986747   2.084079   -0.20221731]\n",
      " [-0.64925593  0.41496274 -0.84865934]]\n",
      "[[ 0.62663805 -0.84628063 -0.87217516]\n",
      " [ 0.23147689 -1.9388355   1.3562949 ]]\n",
      "[[0.44917202 0.05366623 0.92172146]\n",
      " [0.4323541  0.89421785 0.11429787]]\n",
      "[[2. 3.]\n",
      " [4. 5.]]\n",
      "[[2. 3.]\n",
      " [4. 5.]]\n"
     ]
    }
   ],
   "source": [
    "a = tf.random_normal(mean=0, stddev=1, shape=(2, 3))\n",
    "b = tf.truncated_normal(shape=(2, 3))\n",
    "c = tf.random_uniform(shape=(2, 3))\n",
    "temp = tf.Variable([[2, 3], [4, 5]], name=\"temp\", dtype=tf.float32)\n",
    "d = tf.random_shuffle(temp)\n",
    "\n",
    "with tf.Session() as sess:\n",
    "    sess.run(tf.initialize_all_variables())\n",
    "    print(sess.run(a))\n",
    "    print(sess.run(b))\n",
    "    print(sess.run(c))\n",
    "    print(sess.run(temp))\n",
    "    print(sess.run(d))"
   ]
  }
 ],
 "metadata": {
  "kernelspec": {
   "display_name": "Python 3",
   "language": "python",
   "name": "python3"
  },
  "language_info": {
   "codemirror_mode": {
    "name": "ipython",
    "version": 3
   },
   "file_extension": ".py",
   "mimetype": "text/x-python",
   "name": "python",
   "nbconvert_exporter": "python",
   "pygments_lexer": "ipython3",
   "version": "3.6.5"
  }
 },
 "nbformat": 4,
 "nbformat_minor": 2
}
