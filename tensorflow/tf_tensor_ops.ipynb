{
 "cells": [
  {
   "cell_type": "markdown",
   "metadata": {},
   "source": [
    "# Tensorflow Tensor Ops\n",
    "\n",
    "介绍tf中跟tensor操作有关的函数。"
   ]
  },
  {
   "cell_type": "code",
   "execution_count": 27,
   "metadata": {},
   "outputs": [],
   "source": [
    "import tensorflow as tf\n",
    "import numpy as np\n",
    "tf.InteractiveSession()\n",
    "init=tf.global_variables_initializer()\n",
    "init.run()"
   ]
  },
  {
   "cell_type": "markdown",
   "metadata": {},
   "source": [
    "### [tf.concat()]((https://www.tensorflow.org/api_docs/python/tf/concat))\n",
    "\n",
    "可以**在某个维度上连接两个Tensor**，其函数原型为：\n",
    "\n",
    "```bash\n",
    "tf.concat(\n",
    "    values,\n",
    "    axis,\n",
    "    name='concat'\n",
    ")\n",
    "```\n",
    "\n",
    "- `values`: 一个Tensor列表或元组，比如：`[Tensor1, Tensor2]`表示要连接这两个`Tensor`;\n",
    "- `axis`: 想在哪一维度上做连接;\n",
    "\n",
    "实际上本函数操作表现为**对应维度的拼接**，使用例子如下："
   ]
  },
  {
   "cell_type": "code",
   "execution_count": 18,
   "metadata": {},
   "outputs": [
    {
     "name": "stdout",
     "output_type": "stream",
     "text": [
      "[[[ 1  2  7  4]\n",
      "  [ 2  3  8  4]]\n",
      "\n",
      " [[ 4  4  2 10]\n",
      "  [ 5  3 15 11]]]\n"
     ]
    }
   ],
   "source": [
    "t1 = [[[1, 2], [2, 3]], [[4, 4], [5, 3]]]  # shape=(2, 2, 2)\n",
    "t2 = [[[7, 4], [8, 4]], [[2, 10], [15, 11]]]  # shape=(2, 2, 2)\n",
    "\n",
    "_axis = 2  # 改变这个值查看效果\n",
    "\n",
    "# 第_axis维上拼接\n",
    "res_op = tf.concat([t1, t2], axis=_axis)  \n",
    "print(res_op.eval())"
   ]
  },
  {
   "cell_type": "markdown",
   "metadata": {},
   "source": [
    "### [tf.transpose](https://www.tensorflow.org/api_docs/python/tf/transpose)\n",
    "\n",
    "对张量中的维度进行调换，当张量为2维，相当于转置。其函数原型为：\n",
    "\n",
    "```bash\n",
    "tf.transpose(\n",
    "    a,\n",
    "    perm=None,\n",
    "    name='transpose',\n",
    "    conjugate=False\n",
    ")\n",
    "```\n",
    "\n",
    "- `a`: 希望进行调整的张量。\n",
    "- `perm`: 调整后的维度排列，默认值为`[n-1, ...,0]`。\n",
    "- `conjugate`: 是否进行共轭变化，当置为`True`且`a`张量是复数类型的时候，会对`a`进行共轭转置。\n",
    "\n",
    "下面有一种`transpose`的使用的场景：\n",
    "\n",
    "```python\n",
    "# Assume features is of size [N, H, W, C] (batch_size, height, width, channels).\n",
    "# Transpose it to [N, C, H, W], then reshape to [N * C, H * W].\n",
    "features = tf.reshape(tf.transpose(features, [0, 3, 1, 2]), [N * C, H * W])\n",
    "```\n",
    "\n",
    "下面给出了具体的使用例子："
   ]
  },
  {
   "cell_type": "code",
   "execution_count": 19,
   "metadata": {},
   "outputs": [
    {
     "name": "stdout",
     "output_type": "stream",
     "text": [
      "[[1 4]\n",
      " [2 5]\n",
      " [3 6]]\n",
      "\n",
      "[[1 4]\n",
      " [2 5]\n",
      " [3 6]]\n",
      "\n",
      "[[[ 1  4]\n",
      "  [ 2  5]\n",
      "  [ 3  6]]\n",
      "\n",
      " [[ 7 10]\n",
      "  [ 8 11]\n",
      "  [ 9 12]]]\n"
     ]
    }
   ],
   "source": [
    "# 简单例子\n",
    "x = tf.constant([[1, 2, 3], [4, 5, 6]])\n",
    "y = tf.transpose(x)\n",
    "print(y.eval())\n",
    "print()\n",
    "\n",
    "y = tf.transpose(x, perm=[1, 0])  # 跟上面效果一样\n",
    "print(y.eval())\n",
    "print()\n",
    "\n",
    "# 复杂例子\n",
    "x = tf.constant([[[ 1,  2,  3],\n",
    "                  [ 4,  5,  6]],\n",
    "                 [[ 7,  8,  9],\n",
    "                  [10, 11, 12]]])  # shape is (2, 2, 3)\n",
    "y = tf.transpose(x, perm=[0, 2, 1])  # 将1,2维转置，shape is (2, 3, 2)\n",
    "print(y.eval())"
   ]
  },
  {
   "cell_type": "markdown",
   "metadata": {},
   "source": [
    "### [tf.convert_to_tensor()](https://www.tensorflow.org/api_docs/python/tf/convert_to_tensor)\n",
    "\n",
    "将一个非Tensor数据值转化为`Tensor`类型。 其函数原型为:\n",
    "\n",
    "```bash\n",
    "tf.convert_to_tensor(\n",
    "    value,\n",
    "    dtype=None,\n",
    "    name=None,\n",
    "    preferred_dtype=None\n",
    ")\n",
    "```\n",
    "\n",
    "- `value`: 任意一个python类型的数据值；\n",
    "- `dtype`: 建立的tensor的数据类型,如果缺失将会根据原始值进行推测；\n",
    "- `preferred_dtype`: `dtype`是`None`的时候使用；\n",
    "\n",
    "使用例子如下:\n"
   ]
  },
  {
   "cell_type": "code",
   "execution_count": 20,
   "metadata": {},
   "outputs": [
    {
     "name": "stdout",
     "output_type": "stream",
     "text": [
      "Tensor(\"Const_6:0\", shape=(2, 2), dtype=float32)\n"
     ]
    }
   ],
   "source": [
    "a = [[1.0, 2.0], [3.0, 4.0]]\n",
    "print(tf.convert_to_tensor(a))"
   ]
  },
  {
   "cell_type": "markdown",
   "metadata": {},
   "source": [
    "### [tf.cast](https://www.tensorflow.org/api_docs/python/tf/cast)\n",
    "\n",
    "转换一个Tensor的数据类型。 其函数原型为:\n",
    "\n",
    "```bash\n",
    "tf.cast(\n",
    "    x,\n",
    "    dtype,\n",
    "    name=None\n",
    ")\n",
    "```\n",
    "- `x`: 需要转换的Tensor `x`;\n",
    "- `dtype`: 需要转化为什么类型;\n",
    "\n",
    "使用例子如下:"
   ]
  },
  {
   "cell_type": "code",
   "execution_count": 21,
   "metadata": {},
   "outputs": [
    {
     "name": "stdout",
     "output_type": "stream",
     "text": [
      "Tensor(\"Cast_1:0\", shape=(2,), dtype=int32)\n"
     ]
    }
   ],
   "source": [
    "x = tf.constant([1.8, 2.2], dtype=tf.float32)\n",
    "y = tf.cast(x, tf.int32)\n",
    "print(y)"
   ]
  },
  {
   "cell_type": "markdown",
   "metadata": {},
   "source": [
    "### [tf.get_variable](https://www.tensorflow.org/api_docs/python/tf/get_variable)\n",
    "\n",
    "获取一个已经存在的变量或者建立一个新的变量. 这个函数可以配合variable scope进行变量重用. 其函数原型为:\n",
    "```bash\n",
    "tf.get_variable(\n",
    "    name,\n",
    "    shape=None,\n",
    "    dtype=None,\n",
    "    initializer=None,\n",
    "    regularizer=None,\n",
    "    trainable=None,\n",
    "    collections=None,\n",
    "    caching_device=None,\n",
    "    partitioner=None,\n",
    "    validate_shape=True,\n",
    "    use_resource=None,\n",
    "    custom_getter=None,\n",
    "    constraint=None,\n",
    "    synchronization=tf.VariableSynchronization.AUTO,\n",
    "    aggregation=tf.VariableAggregation.NONE\n",
    ")\n",
    "```\n",
    "- `name`: 一个新的或者已存在的变量名称;\n",
    "- `shape`: 变量的shape;\n",
    "- `dtype`: 变量的数据类型;\n",
    "- `initializer`: 变量初始化器;\n",
    "- `trainable`: 是否要训练这个变量;"
   ]
  },
  {
   "cell_type": "code",
   "execution_count": 22,
   "metadata": {},
   "outputs": [],
   "source": [
    "def foo():\n",
    "    with tf.variable_scope(\"foo\", reuse=tf.AUTO_REUSE):\n",
    "        v = tf.get_variable(\"v\", [1])\n",
    "    return v\n",
    "v1 = foo()\n",
    "v2 = foo()\n",
    "assert v1 == v2"
   ]
  },
  {
   "cell_type": "markdown",
   "metadata": {},
   "source": [
    "### [tf.clip_by_value](https://www.tensorflow.org/api_docs/python/tf/clip_by_value)\n",
    "\n",
    "将tensor剪切到特定的min与max之间. 其原型函数为:\n",
    "```bash\n",
    "tf.clip_by_value(\n",
    "    t,\n",
    "    clip_value_min,\n",
    "    clip_value_max,\n",
    "    name=None\n",
    ")\n",
    "```\n",
    "\n",
    "- `t`: 一个tensor;\n",
    "- `clip_value_min`: 剪切的最小值;\n",
    "- `clip_value_max`: 剪切的最大值;\n",
    "\n",
    "下面给出例子:"
   ]
  },
  {
   "cell_type": "code",
   "execution_count": 25,
   "metadata": {},
   "outputs": [
    {
     "name": "stdout",
     "output_type": "stream",
     "text": [
      "Tensor(\"clip_by_value_7:0\", shape=(2,), dtype=float32)\n"
     ]
    }
   ],
   "source": [
    "a = tf.Variable([3.0, 2.0])\n",
    "b = tf.clip_by_value(a, 2.5, 2.7)\n",
    "print(b)"
   ]
  },
  {
   "cell_type": "markdown",
   "metadata": {},
   "source": [
    "### [tf.map_fn](https://www.tensorflow.org/api_docs/python/tf/map_fn)\n",
    "\n",
    "对`elems`在第0维度展开后组成的每一项运用`fn`函数. 其函数原型为:\n",
    "\n",
    "```bash\n",
    "tf.map_fn(\n",
    "    fn,\n",
    "    elems,\n",
    "    dtype=None,\n",
    "    parallel_iterations=10,\n",
    "    back_prop=True,\n",
    "    swap_memory=False,\n",
    "    infer_shape=True,\n",
    "    name=None\n",
    ")\n",
    "```\n",
    "\n",
    "- `fn`: 一个处理`elems`展开后组合的每一项的函数, 它的返回值结构应该与`dtype`描述的一样;\n",
    "- `elems`: 一个或者一组tensor, 它们在第0维度会展开, 并将组合结果传入`fn`进行计算;\n",
    "- `dtype`: 描述`fn`函数返回结果的结构;\n",
    "\n",
    "使用例子如下:"
   ]
  },
  {
   "cell_type": "code",
   "execution_count": 34,
   "metadata": {},
   "outputs": [
    {
     "name": "stdout",
     "output_type": "stream",
     "text": [
      "[ 1  4  9 16 25 36]\n",
      "[-1  2 -3]\n",
      "[1 2 3]\n",
      "[-1 -2 -3]\n"
     ]
    }
   ],
   "source": [
    "# 第一种用法\n",
    "elems = np.array([1, 2, 3, 4, 5, 6])\n",
    "squares = tf.map_fn(lambda x: x * x, elems)\n",
    "print(squares.eval())\n",
    "\n",
    "# 第二种用法\n",
    "elems = (np.array([1, 2, 3]), np.array([-1, 1, -1]))\n",
    "alternate = tf.map_fn(lambda x: x[0] * x[1], elems, dtype=tf.int64)\n",
    "print(alternate.eval())\n",
    "\n",
    "# 第三种用法\n",
    "elems = np.array([1, 2, 3])\n",
    "alternates = tf.map_fn(lambda x: (x, -x), elems, dtype=(tf.int64, tf.int64))\n",
    "print(alternates[0].eval())\n",
    "print(alternates[1].eval())"
   ]
  }
 ],
 "metadata": {
  "kernelspec": {
   "display_name": "Python 3",
   "language": "python",
   "name": "python3"
  },
  "language_info": {
   "codemirror_mode": {
    "name": "ipython",
    "version": 3
   },
   "file_extension": ".py",
   "mimetype": "text/x-python",
   "name": "python",
   "nbconvert_exporter": "python",
   "pygments_lexer": "ipython3",
   "version": "3.5.2"
  }
 },
 "nbformat": 4,
 "nbformat_minor": 2
}
