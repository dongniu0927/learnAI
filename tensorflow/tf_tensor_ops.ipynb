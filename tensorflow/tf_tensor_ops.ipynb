{
 "cells": [
  {
   "cell_type": "markdown",
   "metadata": {},
   "source": [
    "# Tensorflow Tensor Ops\n",
    "\n",
    "介绍tf中跟tensor操作有关的函数。"
   ]
  },
  {
   "cell_type": "code",
   "execution_count": 36,
   "metadata": {},
   "outputs": [
    {
     "name": "stdout",
     "output_type": "stream",
     "text": [
      "[5, 6, 7, 1, 2, 3, 4]\n"
     ]
    },
    {
     "name": "stderr",
     "output_type": "stream",
     "text": [
      "/Users/niudong/workon_home/py3/lib/python3.6/site-packages/tensorflow/python/client/session.py:1714: UserWarning: An interactive session is already active. This can cause out-of-memory errors in some cases. You must explicitly call `InteractiveSession.close()` to release resources held by the other session(s).\n",
      "  warnings.warn('An interactive session is already active. This can '\n"
     ]
    }
   ],
   "source": [
    "import tensorflow as tf\n",
    "import numpy as np\n",
    "tf.InteractiveSession()\n",
    "init=tf.global_variables_initializer()\n",
    "init.run()"
   ]
  },
  {
   "cell_type": "markdown",
   "metadata": {},
   "source": [
    "### [tf.concat()]((https://www.tensorflow.org/api_docs/python/tf/concat))\n",
    "\n",
    "可以**在某个维度上连接两个Tensor**，其函数原型为：\n",
    "\n",
    "```bash\n",
    "tf.concat(\n",
    "    values,\n",
    "    axis,\n",
    "    name='concat'\n",
    ")\n",
    "```\n",
    "\n",
    "- `values`: 一个Tensor列表或元组，比如：`[Tensor1, Tensor2]`表示要连接这两个`Tensor`;\n",
    "- `axis`: 想在哪一维度上做连接;\n",
    "\n",
    "实际上本函数操作表现为**对应维度的拼接**，使用例子如下："
   ]
  },
  {
   "cell_type": "code",
   "execution_count": 2,
   "metadata": {},
   "outputs": [
    {
     "name": "stdout",
     "output_type": "stream",
     "text": [
      "[[[ 1  2  7  4]\n",
      "  [ 2  3  8  4]]\n",
      "\n",
      " [[ 4  4  2 10]\n",
      "  [ 5  3 15 11]]]\n"
     ]
    }
   ],
   "source": [
    "t1 = [[[1, 2], [2, 3]], [[4, 4], [5, 3]]]  # shape=(2, 2, 2)\n",
    "t2 = [[[7, 4], [8, 4]], [[2, 10], [15, 11]]]  # shape=(2, 2, 2)\n",
    "\n",
    "_axis = 2  # 改变这个值查看效果\n",
    "\n",
    "# 第_axis维上拼接\n",
    "res_op = tf.concat([t1, t2], axis=_axis)  \n",
    "print(res_op.eval())"
   ]
  },
  {
   "cell_type": "markdown",
   "metadata": {},
   "source": [
    "### [tf.transpose](https://www.tensorflow.org/api_docs/python/tf/transpose)\n",
    "\n",
    "对张量中的维度进行调换，当张量为2维，相当于转置。其函数原型为：\n",
    "\n",
    "```bash\n",
    "tf.transpose(\n",
    "    a,\n",
    "    perm=None,\n",
    "    name='transpose',\n",
    "    conjugate=False\n",
    ")\n",
    "```\n",
    "\n",
    "- `a`: 希望进行调整的张量。\n",
    "- `perm`: 调整后的维度排列，默认值为`[n-1, ...,0]`。\n",
    "- `conjugate`: 是否进行共轭变化，当置为`True`且`a`张量是复数类型的时候，会对`a`进行共轭转置。\n",
    "\n",
    "下面有一种`transpose`的使用的场景：\n",
    "\n",
    "```python\n",
    "# Assume features is of size [N, H, W, C] (batch_size, height, width, channels).\n",
    "# Transpose it to [N, C, H, W], then reshape to [N * C, H * W].\n",
    "features = tf.reshape(tf.transpose(features, [0, 3, 1, 2]), [N * C, H * W])\n",
    "```\n",
    "\n",
    "下面给出了具体的使用例子："
   ]
  },
  {
   "cell_type": "code",
   "execution_count": 3,
   "metadata": {},
   "outputs": [
    {
     "name": "stdout",
     "output_type": "stream",
     "text": [
      "[[1 4]\n",
      " [2 5]\n",
      " [3 6]]\n",
      "\n",
      "[[1 4]\n",
      " [2 5]\n",
      " [3 6]]\n",
      "\n",
      "[[[ 1  4]\n",
      "  [ 2  5]\n",
      "  [ 3  6]]\n",
      "\n",
      " [[ 7 10]\n",
      "  [ 8 11]\n",
      "  [ 9 12]]]\n"
     ]
    }
   ],
   "source": [
    "# 简单例子\n",
    "x = tf.constant([[1, 2, 3], [4, 5, 6]])\n",
    "y = tf.transpose(x)\n",
    "print(y.eval())\n",
    "print()\n",
    "\n",
    "y = tf.transpose(x, perm=[1, 0])  # 跟上面效果一样\n",
    "print(y.eval())\n",
    "print()\n",
    "\n",
    "# 复杂例子\n",
    "x = tf.constant([[[ 1,  2,  3],\n",
    "                  [ 4,  5,  6]],\n",
    "                 [[ 7,  8,  9],\n",
    "                  [10, 11, 12]]])  # shape is (2, 2, 3)\n",
    "y = tf.transpose(x, perm=[0, 2, 1])  # 将1,2维转置，shape is (2, 3, 2)\n",
    "print(y.eval())"
   ]
  },
  {
   "cell_type": "markdown",
   "metadata": {},
   "source": [
    "### [tf.convert_to_tensor()](https://www.tensorflow.org/api_docs/python/tf/convert_to_tensor)\n",
    "\n",
    "将一个非Tensor数据值转化为`Tensor`类型。 其函数原型为:\n",
    "\n",
    "```bash\n",
    "tf.convert_to_tensor(\n",
    "    value,\n",
    "    dtype=None,\n",
    "    name=None,\n",
    "    preferred_dtype=None\n",
    ")\n",
    "```\n",
    "\n",
    "- `value`: 任意一个python类型的数据值；\n",
    "- `dtype`: 建立的tensor的数据类型,如果缺失将会根据原始值进行推测；\n",
    "- `preferred_dtype`: `dtype`是`None`的时候使用；\n",
    "\n",
    "使用例子如下:\n"
   ]
  },
  {
   "cell_type": "code",
   "execution_count": 4,
   "metadata": {},
   "outputs": [
    {
     "name": "stdout",
     "output_type": "stream",
     "text": [
      "Tensor(\"Const_2:0\", shape=(2, 2), dtype=float32)\n"
     ]
    }
   ],
   "source": [
    "a = [[1.0, 2.0], [3.0, 4.0]]\n",
    "print(tf.convert_to_tensor(a))"
   ]
  },
  {
   "cell_type": "markdown",
   "metadata": {},
   "source": [
    "### [tf.cast](https://www.tensorflow.org/api_docs/python/tf/cast)\n",
    "\n",
    "转换一个Tensor的数据类型。 其函数原型为:\n",
    "\n",
    "```bash\n",
    "tf.cast(\n",
    "    x,\n",
    "    dtype,\n",
    "    name=None\n",
    ")\n",
    "```\n",
    "- `x`: 需要转换的Tensor `x`;\n",
    "- `dtype`: 需要转化为什么类型;\n",
    "\n",
    "使用例子如下:"
   ]
  },
  {
   "cell_type": "code",
   "execution_count": 5,
   "metadata": {},
   "outputs": [
    {
     "name": "stdout",
     "output_type": "stream",
     "text": [
      "Tensor(\"Cast:0\", shape=(2,), dtype=int32)\n"
     ]
    }
   ],
   "source": [
    "x = tf.constant([1.8, 2.2], dtype=tf.float32)\n",
    "y = tf.cast(x, tf.int32)\n",
    "print(y)"
   ]
  },
  {
   "cell_type": "markdown",
   "metadata": {},
   "source": [
    "### [tf.get_variable](https://www.tensorflow.org/api_docs/python/tf/get_variable)\n",
    "\n",
    "获取一个已经存在的变量或者建立一个新的变量. 这个函数可以配合variable scope进行变量重用. 其函数原型为:\n",
    "```bash\n",
    "tf.get_variable(\n",
    "    name,\n",
    "    shape=None,\n",
    "    dtype=None,\n",
    "    initializer=None,\n",
    "    regularizer=None,\n",
    "    trainable=None,\n",
    "    collections=None,\n",
    "    caching_device=None,\n",
    "    partitioner=None,\n",
    "    validate_shape=True,\n",
    "    use_resource=None,\n",
    "    custom_getter=None,\n",
    "    constraint=None,\n",
    "    synchronization=tf.VariableSynchronization.AUTO,\n",
    "    aggregation=tf.VariableAggregation.NONE\n",
    ")\n",
    "```\n",
    "- `name`: 一个新的或者已存在的变量名称;\n",
    "- `shape`: 变量的shape;\n",
    "- `dtype`: 变量的数据类型;\n",
    "- `initializer`: 变量初始化器;\n",
    "- `trainable`: 是否要训练这个变量;"
   ]
  },
  {
   "cell_type": "code",
   "execution_count": 6,
   "metadata": {},
   "outputs": [],
   "source": [
    "def foo():\n",
    "    with tf.variable_scope(\"foo\", reuse=tf.AUTO_REUSE):\n",
    "        v = tf.get_variable(\"v\", [1])\n",
    "    return v\n",
    "v1 = foo()\n",
    "v2 = foo()\n",
    "assert v1 == v2"
   ]
  },
  {
   "cell_type": "markdown",
   "metadata": {},
   "source": [
    "### [tf.clip_by_value](https://www.tensorflow.org/api_docs/python/tf/clip_by_value)\n",
    "\n",
    "将tensor剪切到特定的min与max之间. 其原型函数为:\n",
    "```bash\n",
    "tf.clip_by_value(\n",
    "    t,\n",
    "    clip_value_min,\n",
    "    clip_value_max,\n",
    "    name=None\n",
    ")\n",
    "```\n",
    "\n",
    "- `t`: 一个tensor;\n",
    "- `clip_value_min`: 剪切的最小值;\n",
    "- `clip_value_max`: 剪切的最大值;\n",
    "\n",
    "下面给出例子:"
   ]
  },
  {
   "cell_type": "code",
   "execution_count": 7,
   "metadata": {},
   "outputs": [
    {
     "name": "stdout",
     "output_type": "stream",
     "text": [
      "Tensor(\"clip_by_value:0\", shape=(2,), dtype=float32)\n"
     ]
    }
   ],
   "source": [
    "a = tf.Variable([3.0, 2.0])\n",
    "b = tf.clip_by_value(a, 2.5, 2.7)\n",
    "print(b)"
   ]
  },
  {
   "cell_type": "markdown",
   "metadata": {},
   "source": [
    "### [tf.map_fn](https://www.tensorflow.org/api_docs/python/tf/map_fn)\n",
    "\n",
    "对`elems`在第0维度展开后组成的每一项运用`fn`函数. 其函数原型为:\n",
    "\n",
    "```bash\n",
    "tf.map_fn(\n",
    "    fn,\n",
    "    elems,\n",
    "    dtype=None,\n",
    "    parallel_iterations=10,\n",
    "    back_prop=True,\n",
    "    swap_memory=False,\n",
    "    infer_shape=True,\n",
    "    name=None\n",
    ")\n",
    "```\n",
    "\n",
    "- `fn`: 一个处理`elems`展开后组合的每一项的函数, 它的返回值结构应该与`dtype`描述的一样;\n",
    "- `elems`: 一个或者一组tensor, 它们在第0维度会展开, 并将组合结果传入`fn`进行计算;\n",
    "- `dtype`: 描述`fn`函数返回结果的结构;\n",
    "\n",
    "使用例子如下:"
   ]
  },
  {
   "cell_type": "code",
   "execution_count": 8,
   "metadata": {},
   "outputs": [
    {
     "name": "stdout",
     "output_type": "stream",
     "text": [
      "m1: [ 1  4  9 16 25 36]\n",
      "m21: [-1  2 -3]\n",
      "m22: [[2]\n",
      " [6]]\n",
      "m3:\n",
      "[1 2 3]\n",
      "[-1 -2 -3]\n"
     ]
    }
   ],
   "source": [
    "# 第一种用法\n",
    "elems = np.array([1, 2, 3, 4, 5, 6])\n",
    "squares = tf.map_fn(lambda x: x * x, elems)\n",
    "print(\"m1:\", squares.eval())\n",
    "\n",
    "# 第二种用法\n",
    "elems = (np.array([1, 2, 3]), np.array([-1, 1, -1]))\n",
    "alternate = tf.map_fn(lambda x: x[0] * x[1], elems, dtype=tf.int64)\n",
    "print(\"m21:\", alternate.eval())\n",
    "# 第二种用法\n",
    "elems = (np.array([[1], [2]]), np.array([[2], [3]]))\n",
    "alternate = tf.map_fn(lambda x: x[0] * x[1], elems, dtype=tf.int64)\n",
    "print(\"m22:\", alternate.eval())\n",
    "\n",
    "# 第三种用法\n",
    "elems = np.array([1, 2, 3])\n",
    "alternates = tf.map_fn(lambda x: (x, -x), elems, dtype=(tf.int64, tf.int64))\n",
    "print(\"m3:\")\n",
    "print(alternates[0].eval())\n",
    "print(alternates[1].eval())"
   ]
  },
  {
   "cell_type": "markdown",
   "metadata": {},
   "source": [
    "### [tf.gather](https://www.tensorflow.org/api_docs/python/tf/gather)\n",
    "\n",
    "根据索引从参数轴上收集切片. 其函数原型为:\n",
    "\n",
    "```bash\n",
    "tf.gather(\n",
    "    params,\n",
    "    indices,\n",
    "    validate_indices=None,\n",
    "    name=None,\n",
    "    axis=0\n",
    ")\n",
    "```\n",
    "- `params`: A tensor. 从哪个`tensor`上收集值, 其rank不能小于`axis+1`;\n",
    "- `indices`: A tensor. 在某个轴上收集数据的索引值, 它必须在`[0, params.shape[axis]`的范围内;\n",
    "- `axis`: A tensor. 在`params`的哪个维度上收集数据, 默认在第0维上收集;\n",
    "\n",
    "使用例子如下:"
   ]
  },
  {
   "cell_type": "code",
   "execution_count": 9,
   "metadata": {},
   "outputs": [
    {
     "name": "stdout",
     "output_type": "stream",
     "text": [
      "[1 3]\n",
      "[[1 2]\n",
      " [5 6]]\n"
     ]
    }
   ],
   "source": [
    "# 从默认维度收集值\n",
    "temp = tf.constant([1, 2, 3, 4])\n",
    "a = tf.gather(temp, [0, 2])\n",
    "print(a.eval())\n",
    "\n",
    "# 从特定维度收集值\n",
    "temp1 = tf.constant([[1, 2, 3, 4], [5, 6, 7, 8]])\n",
    "a1 =  tf.gather(temp1, [0, 1], axis=1)\n",
    "print(a1.eval())"
   ]
  },
  {
   "cell_type": "markdown",
   "metadata": {},
   "source": [
    "### [tf.gradients](https://www.tensorflow.org/api_docs/python/tf/gradients)\n",
    "\n",
    "计算`ys`张量列表对于`xs`张量列表的偏导数. 其函数原型为:\n",
    "\n",
    "```bash\n",
    "tf.gradients(\n",
    "    ys,\n",
    "    xs,\n",
    "    grad_ys=None,\n",
    "    name='gradients',\n",
    "    colocate_gradients_with_ops=False,\n",
    "    gate_gradients=False,\n",
    "    aggregation_method=None,\n",
    "    stop_gradients=None\n",
    ")\n",
    "```\n",
    "- `ys`: 一个张量或者张量列表. \n",
    "- `xs`: 需要在那个tensor上求偏导, 是一个张量或者张量列表. 如果是列表, `ys`中每个y都要对`x`求偏导并相加或者该`x`位置该有的导数值.\n",
    "- `grad_ys`: 与`ys`有相同大小的张量或者张量列表, 对于`ys`中每个y都计算梯度.\n",
    "\n",
    "计算方式如下:"
   ]
  },
  {
   "cell_type": "code",
   "execution_count": 10,
   "metadata": {},
   "outputs": [
    {
     "name": "stdout",
     "output_type": "stream",
     "text": [
      "3.0 1.0\n"
     ]
    }
   ],
   "source": [
    "a = tf.constant(0.)\n",
    "b = a * 2\n",
    "c = a + b\n",
    "d = tf.gradients(c, [a, b])\n",
    "print(d[0].eval(), d[1].eval())"
   ]
  },
  {
   "cell_type": "markdown",
   "metadata": {},
   "source": [
    "### [tf.zeros_like](https://www.tensorflow.org/api_docs/python/tf/zeros_like)\n",
    "\n",
    "建立跟输入张量`dtype`与`shape`一样但所有元素都是0的张量. 其原型函数为:\n",
    "\n",
    "```bash\n",
    "tf.zeros_like(\n",
    "    tensor,\n",
    "    dtype=None,\n",
    "    name=None,\n",
    "    optimize=True\n",
    ")\n",
    "```\n",
    "\n",
    "- `tensor`: 一个张量;\n",
    "- `dtype`: 需要修改返回张量的`dtype`;\n",
    "\n",
    "使用例子如下:"
   ]
  },
  {
   "cell_type": "code",
   "execution_count": 11,
   "metadata": {},
   "outputs": [
    {
     "name": "stdout",
     "output_type": "stream",
     "text": [
      "[[0 0 0]\n",
      " [0 0 0]]\n"
     ]
    }
   ],
   "source": [
    "tensor = tf.constant([[1, 2, 3], [4, 5, 6]])\n",
    "a = tf.zeros_like(tensor) \n",
    "print(a.eval())"
   ]
  },
  {
   "cell_type": "markdown",
   "metadata": {},
   "source": [
    "### [tf.stop_gradient](https://www.tensorflow.org/api_docs/python/tf/stop_gradient)\n",
    "\n",
    "在构建计算梯度的op时，此op防止将其输入的贡献考虑在内，其函数原型为：\n",
    "\n",
    "```bash\n",
    "tf.stop_gradient(\n",
    "    input,\n",
    "    name=None\n",
    ")\n",
    "```\n",
    "- `input`: 输入op，这个op关联的变量不会被最后计算梯度的时候考虑在内。\n",
    "\n",
    "其使用方式如下："
   ]
  },
  {
   "cell_type": "code",
   "execution_count": 13,
   "metadata": {},
   "outputs": [
    {
     "name": "stdout",
     "output_type": "stream",
     "text": [
      "[None, <tf.Tensor 'gradients_1/Mul_3_grad/Mul_1:0' shape=() dtype=float32>]\n"
     ]
    }
   ],
   "source": [
    "w1 = tf.Variable(2.0)\n",
    "w2 = tf.Variable(2.0)\n",
    "\n",
    "a = tf.multiply(w1, 3.0)\n",
    "a_stoped = tf.stop_gradient(a)\n",
    "\n",
    "b = tf.multiply(a_stoped, w2)\n",
    "\n",
    "grads = tf.gradients(b, xs=[w1, w2])  # w1的梯度为None\n",
    "\n",
    "print(grads)"
   ]
  },
  {
   "cell_type": "markdown",
   "metadata": {},
   "source": [
    "### [tf.placeholder_with_default](https://www.tensorflow.org/api_docs/python/tf/placeholder_with_default)\n",
    "\n",
    "当没有输入feed的时候，使用`input`参数给的值，其函数原型为：\n",
    "\n",
    "```bash\n",
    "tf.placeholder_with_default(\n",
    "    input,\n",
    "    shape,\n",
    "    name=None\n",
    ")\n",
    "```\n",
    "\n",
    "- `input`: feed的默认值"
   ]
  }
 ],
 "metadata": {
  "kernelspec": {
   "display_name": "Python 3",
   "language": "python",
   "name": "python3"
  },
  "language_info": {
   "codemirror_mode": {
    "name": "ipython",
    "version": 3
   },
   "file_extension": ".py",
   "mimetype": "text/x-python",
   "name": "python",
   "nbconvert_exporter": "python",
   "pygments_lexer": "ipython3",
   "version": "3.6.5"
  }
 },
 "nbformat": 4,
 "nbformat_minor": 2
}
