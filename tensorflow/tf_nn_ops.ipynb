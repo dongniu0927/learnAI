{
 "cells": [
  {
   "cell_type": "markdown",
   "metadata": {},
   "source": [
    "# Tensorflow NN Ops\n",
    "\n",
    "介绍tf中跟nn操作有关的函数。"
   ]
  },
  {
   "cell_type": "code",
   "execution_count": 2,
   "metadata": {},
   "outputs": [],
   "source": [
    "import tensorflow as tf\n",
    "tf.InteractiveSession()\n",
    "init=tf.global_variables_initializer()\n",
    "init.run()"
   ]
  },
  {
   "cell_type": "markdown",
   "metadata": {},
   "source": [
    "### [tf.nn.softmax](https://www.tensorflow.org/api_docs/python/tf/nn/softmax)\n",
    "\n",
    "计算softmax激活值。其函数原型为：\n",
    "\n",
    "```bash\n",
    "tf.nn.softmax(\n",
    "    logits,\n",
    "    axis=None,\n",
    "    name=None,\n",
    "    dim=None\n",
    ")\n",
    "```\n",
    "\n",
    "- `logits`: 一个非空的Tensor，注意其数据类型必须为：`half`, `float32`, `float64`之一。\n",
    "- `axis`: 在哪一个维度上做softmax，默认为-1，即在最后一维上做softmax。\n",
    "- `dim`: 弃用。\n",
    "\n",
    "> 关于softmax函数可以参考：[softmax分类](../machine-learning/softmax_classification.ipynb)\n",
    "\n",
    "下面展示一个使用例子："
   ]
  },
  {
   "cell_type": "code",
   "execution_count": 9,
   "metadata": {},
   "outputs": [
    {
     "name": "stdout",
     "output_type": "stream",
     "text": [
      "[[0.09003057 0.24472848 0.66524094]\n",
      " [0.09003057 0.24472848 0.66524094]]\n"
     ]
    }
   ],
   "source": [
    "x = tf.constant([[1, 2, 3], [2, 3, 4]], dtype=tf.float32)\n",
    "y = tf.nn.softmax(x, axis=1)\n",
    "print(y.eval())"
   ]
  },
  {
   "cell_type": "markdown",
   "metadata": {},
   "source": [
    "### [tf.nn.conv2d](https://www.tensorflow.org/api_docs/python/tf/nn/conv2d) \n",
    "\n",
    "根据4-D的input与filter计算2-D的卷积运算. 其函数原型为:\n",
    "\n",
    "```bash\n",
    "tf.nn.conv2d(\n",
    "    input,\n",
    "    filter,\n",
    "    strides,\n",
    "    padding,\n",
    "    use_cudnn_on_gpu=True,\n",
    "    data_format='NHWC',\n",
    "    dilations=[1, 1, 1, 1],\n",
    "    name=None\n",
    ")\n",
    "```\n",
    "\n",
    "- `input`: 要做卷积的图片tenor, 其shape需要为`[batch, in_height, in_width, in_channels]`. 其中batch为图片的数量，in_height 为图片高度，in_weight 为图片宽度，in_channel 为图片的通道数, shape如何解析跟`data_format`有关.\n",
    "- `filter`: 卷积核tensor, 其shape为`filter_height, filter_weight, in_channel, out_channels`. 其中 filter_height 为卷积核高度，filter_weight 为卷积核宽度，in_channel 是图像通道数 ，和 input 的 in_channel 要保持一致，out_channel 是卷积核数量。\n",
    "- `strides`: 在输入input张量的每一维度上的步长，这是一个一维的向量，[ 1, strides, strides, 1]，第一位和最后一位固定必须是1, 即: 只能改变in_height与in_width维度的步长.\n",
    "- `padding`: string类型，值为“SAME” 和 “VALID”，表示的是卷积的形式，是否考虑边界。\"SAME\"是考虑边界，不足的时候用0去填充周围，\"VALID\"则不考虑.\n",
    "\n",
    "计算例子如下:"
   ]
  },
  {
   "cell_type": "code",
   "execution_count": 4,
   "metadata": {},
   "outputs": [
    {
     "name": "stdout",
     "output_type": "stream",
     "text": [
      "Tensor(\"Conv2D:0\", shape=(1, 3, 3, 1), dtype=float32)\n"
     ]
    }
   ],
   "source": [
    "input = tf.Variable(tf.random_normal([1,3,3,5]))  # 一张3*3大小,通道数目为5的图片\n",
    "filter = tf.Variable(tf.random_normal([2,2,5,1]))  # 卷积核为2*2, 数量为1\n",
    "op1 = tf.nn.conv2d(input, filter, strides=[1,1,1,1], padding='SAME')\n",
    "print(op1)"
   ]
  },
  {
   "cell_type": "markdown",
   "metadata": {},
   "source": [
    "### [tf.nn.dropout](https://www.tensorflow.org/api_docs/python/tf/nn/dropout)\n",
    "\n",
    "计算dropout, 输出有`keep_prob`的概率会乘以系数$\\dfrac{1}{\\text{keep_drop}}$, 否则输出置为0. 其函数原型为:\n",
    "\n",
    "```bash\n",
    "tf.nn.dropout(\n",
    "    x,\n",
    "    keep_prob,\n",
    "    noise_shape=None,\n",
    "    seed=None,\n",
    "    name=None\n",
    ")\n",
    "```\n",
    "\n",
    "- `x`: 一个浮点张量;\n",
    "- `keep_prob`: 一个值表示每个元素被保留的概率;\n",
    "\n",
    "使用方式如下:"
   ]
  },
  {
   "cell_type": "code",
   "execution_count": 24,
   "metadata": {},
   "outputs": [
    {
     "name": "stdout",
     "output_type": "stream",
     "text": [
      "[0. 4. 0.]\n"
     ]
    }
   ],
   "source": [
    "x = tf.constant([1.9, 2.0, 0.5])\n",
    "y = tf.nn.dropout(x, keep_prob=.5)\n",
    "print(y.eval())"
   ]
  },
  {
   "cell_type": "markdown",
   "metadata": {},
   "source": [
    "### [tf.nn.softmax_cross_entropy_with_logits](https://www.tensorflow.org/api_docs/python/tf/nn/softmax_cross_entropy_with_logits)\n",
    "\n",
    "计算logits和labels之间的softmax交叉熵（这个版本在未来会被移除，新的版本将默认支持梯度传回labels部分，本op梯度只会回传回logits）。需要注意传入的logits应该是未缩放的（NN的原生输出），其会在内部进行softmax计算后再与labels计算交叉熵。该函数把一个维度上的 labels 作为一个整体判断，结果给出整个维度的损失值。（而 sigmoid_cross_entropy_with_logits 是每一个元素都有一个损失值）。\n",
    "\n",
    "其函数原型为:\n",
    "\n",
    "```bash\n",
    "tf.nn.softmax_cross_entropy_with_logits(\n",
    "    _sentinel=None,\n",
    "    labels=None,\n",
    "    logits=None,\n",
    "    dim=-1,\n",
    "    name=None\n",
    ")\n",
    "```\n",
    "- `_sentinel`: 内部变量，不可以使用。\n",
    "- `labels`: 和logits具有相同的dtype和shape的张量，一般拥有`[batch_size, num_classes]`的shape，例如：`[[1, 0, 0], [0, 1, 0]]`，其每个类只能存在1个1。\n",
    "- `logits`: 传入应该是未缩放的NN输出，类似：`[[2, 3, 1], [4, 5, 8]]`。\n",
    "\n",
    "使用例子如下："
   ]
  },
  {
   "cell_type": "code",
   "execution_count": 6,
   "metadata": {},
   "outputs": [
    {
     "name": "stdout",
     "output_type": "stream",
     "text": [
      "WARNING:tensorflow:From <ipython-input-6-645dd86afd7d>:10: softmax_cross_entropy_with_logits (from tensorflow.python.ops.nn_ops) is deprecated and will be removed in a future version.\n",
      "Instructions for updating:\n",
      "\n",
      "Future major versions of TensorFlow will allow gradients to flow\n",
      "into the labels input on backprop by default.\n",
      "\n",
      "See @{tf.nn.softmax_cross_entropy_with_logits_v2}.\n",
      "\n",
      "Softmax of nn output:\n",
      "[[0.03511903 0.70538455 0.25949648]\n",
      " [0.09003057 0.24472848 0.66524094]\n",
      " [0.09003057 0.24472848 0.66524094]]\n",
      "Cross entropy1:\n",
      "2.1642241\n",
      "Cross entropy matrix:\n",
      "[1.3490121  0.40760595 0.40760595]\n",
      "Cross entropy2:\n",
      "2.164224\n"
     ]
    }
   ],
   "source": [
    "\n",
    "import tensorflow as tf\n",
    " \n",
    "logits=tf.constant([[1.0,4.0,3.0],[1.0,2.0,3.0],[1.0,2.0,3.0]])  # NN's output\n",
    "y_ = tf.constant([[0.0,0.0,1.0],[0.0,0.0,1.0],[0.0,0.0,1.0]])  # true label\n",
    "# 手动计算交叉熵\n",
    "y = tf.nn.softmax(logits)  # do softmax\n",
    "cross_entropy = -tf.reduce_sum(y_*tf.log(y))\n",
    "# 使用函数一步计算交叉熵\n",
    "entropy_matrix = tf.nn.softmax_cross_entropy_with_logits(logits=logits, labels=y_)\n",
    "cross_entropy2 = tf.reduce_sum(entropy_matrix)\n",
    " \n",
    "with tf.Session() as sess:\n",
    "    softmax = sess.run(y)\n",
    "    c_e = sess.run(cross_entropy)\n",
    "    em = sess.run(entropy_matrix)\n",
    "    c_e2 = sess.run(cross_entropy2)\n",
    "    \n",
    "    print(\"Softmax of nn output:\")\n",
    "    print(softmax)\n",
    "    print(\"Cross entropy1:\")\n",
    "    print(c_e)\n",
    "    print(\"Cross entropy matrix:\")\n",
    "    print(em)\n",
    "    print(\"Cross entropy2:\")  # first value: -(0*log0.035+0*log0.71+1*log0.26)\n",
    "    print(c_e2)"
   ]
  }
 ],
 "metadata": {
  "kernelspec": {
   "display_name": "Python 3",
   "language": "python",
   "name": "python3"
  },
  "language_info": {
   "codemirror_mode": {
    "name": "ipython",
    "version": 3
   },
   "file_extension": ".py",
   "mimetype": "text/x-python",
   "name": "python",
   "nbconvert_exporter": "python",
   "pygments_lexer": "ipython3",
   "version": "3.6.5"
  }
 },
 "nbformat": 4,
 "nbformat_minor": 2
}
