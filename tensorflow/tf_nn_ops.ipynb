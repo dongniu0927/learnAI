{
 "cells": [
  {
   "cell_type": "markdown",
   "metadata": {},
   "source": [
    "# Tensorflow NN Ops\n",
    "\n",
    "介绍tf中跟nn操作有关的函数。"
   ]
  },
  {
   "cell_type": "code",
   "execution_count": 2,
   "metadata": {},
   "outputs": [
    {
     "name": "stderr",
     "output_type": "stream",
     "text": [
      "/Users/niudong/workon_home/py3/lib/python3.6/importlib/_bootstrap.py:219: RuntimeWarning: numpy.dtype size changed, may indicate binary incompatibility. Expected 96, got 88\n",
      "  return f(*args, **kwds)\n",
      "/Users/niudong/workon_home/py3/lib/python3.6/importlib/_bootstrap.py:219: RuntimeWarning: numpy.dtype size changed, may indicate binary incompatibility. Expected 96, got 88\n",
      "  return f(*args, **kwds)\n"
     ]
    }
   ],
   "source": [
    "import tensorflow as tf\n",
    "tf.InteractiveSession()\n",
    "init=tf.global_variables_initializer()\n",
    "init.run()"
   ]
  },
  {
   "cell_type": "markdown",
   "metadata": {},
   "source": [
    "### [tf.nn.softmax](https://www.tensorflow.org/api_docs/python/tf/nn/softmax)\n",
    "\n",
    "计算softmax激活值。其函数原型为：\n",
    "\n",
    "```bash\n",
    "tf.nn.softmax(\n",
    "    logits,\n",
    "    axis=None,\n",
    "    name=None,\n",
    "    dim=None\n",
    ")\n",
    "```\n",
    "\n",
    "- `logits`: 一个非空的Tensor，注意其数据类型必须为：`half`, `float32`, `float64`之一。\n",
    "- `axis`: 在哪一个维度上做softmax，默认为-1，即在最后一维上做softmax。\n",
    "- `dim`: 弃用。\n",
    "\n",
    "> 关于softmax函数可以参考：[softmax分类](../machine-learning/softmax_classification.ipynb)\n",
    "\n",
    "下面展示一个使用例子："
   ]
  },
  {
   "cell_type": "code",
   "execution_count": 9,
   "metadata": {},
   "outputs": [
    {
     "name": "stdout",
     "output_type": "stream",
     "text": [
      "[[0.09003057 0.24472848 0.66524094]\n",
      " [0.09003057 0.24472848 0.66524094]]\n"
     ]
    }
   ],
   "source": [
    "x = tf.constant([[1, 2, 3], [2, 3, 4]], dtype=tf.float32)\n",
    "y = tf.nn.softmax(x, axis=-1)\n",
    "print(y.eval())"
   ]
  },
  {
   "cell_type": "markdown",
   "metadata": {},
   "source": [
    "### [tf.nn.conv2d](https://www.tensorflow.org/api_docs/python/tf/nn/conv2d) \n",
    "\n",
    "根据4-D的input与filter计算2-D的卷积运算. 其函数原型为:\n",
    "\n",
    "```bash\n",
    "tf.nn.conv2d(\n",
    "    input,\n",
    "    filter,\n",
    "    strides,\n",
    "    padding,\n",
    "    use_cudnn_on_gpu=True,\n",
    "    data_format='NHWC',\n",
    "    dilations=[1, 1, 1, 1],\n",
    "    name=None\n",
    ")\n",
    "```\n",
    "\n",
    "- `input`: 要做卷积的图片tenor, 其shape需要为`[batch, in_height, in_width, in_channels]`. 其中batch为图片的数量，in_height 为图片高度，in_weight 为图片宽度，in_channel 为图片的通道数, shape如何解析跟`data_format`有关.\n",
    "- `filter`: 卷积核tensor, 其shape为`filter_height, filter_weight, in_channel, out_channels`. 其中 filter_height 为卷积核高度，filter_weight 为卷积核宽度，in_channel 是图像通道数 ，和 input 的 in_channel 要保持一致，out_channel 是卷积核数量。\n",
    "- `strides`: 在输入input张量的每一维度上的步长，这是一个一维的向量，[ 1, strides, strides, 1]，第一位和最后一位固定必须是1, 即: 只能改变in_height与in_width维度的步长.\n",
    "- `padding`: string类型，值为“SAME” 和 “VALID”，表示的是卷积的形式，是否考虑边界。\"SAME\"是考虑边界，不足的时候用0去填充周围，\"VALID\"则不考虑.\n",
    "\n"
   ]
  }
 ],
 "metadata": {
  "kernelspec": {
   "display_name": "Python 3",
   "language": "python",
   "name": "python3"
  },
  "language_info": {
   "codemirror_mode": {
    "name": "ipython",
    "version": 3
   },
   "file_extension": ".py",
   "mimetype": "text/x-python",
   "name": "python",
   "nbconvert_exporter": "python",
   "pygments_lexer": "ipython3",
   "version": "3.5.2"
  }
 },
 "nbformat": 4,
 "nbformat_minor": 2
}
