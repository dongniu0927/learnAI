{
 "cells": [
  {
   "cell_type": "markdown",
   "metadata": {},
   "source": [
    "# Tensorflow NN Ops\n",
    "\n",
    "介绍tf中跟nn操作有关的函数。"
   ]
  },
  {
   "cell_type": "code",
   "execution_count": 2,
   "metadata": {},
   "outputs": [
    {
     "name": "stderr",
     "output_type": "stream",
     "text": [
      "/Users/niudong/workon_home/py3/lib/python3.6/importlib/_bootstrap.py:219: RuntimeWarning: numpy.dtype size changed, may indicate binary incompatibility. Expected 96, got 88\n",
      "  return f(*args, **kwds)\n",
      "/Users/niudong/workon_home/py3/lib/python3.6/importlib/_bootstrap.py:219: RuntimeWarning: numpy.dtype size changed, may indicate binary incompatibility. Expected 96, got 88\n",
      "  return f(*args, **kwds)\n"
     ]
    }
   ],
   "source": [
    "import tensorflow as tf\n",
    "tf.InteractiveSession()\n",
    "init=tf.global_variables_initializer()\n",
    "init.run()"
   ]
  },
  {
   "cell_type": "markdown",
   "metadata": {},
   "source": [
    "### [tf.nn.softmax](https://www.tensorflow.org/api_docs/python/tf/nn/softmax)\n",
    "\n",
    "计算softmax激活值。其函数原型为：\n",
    "\n",
    "```bash\n",
    "tf.nn.softmax(\n",
    "    logits,\n",
    "    axis=None,\n",
    "    name=None,\n",
    "    dim=None\n",
    ")\n",
    "```\n",
    "\n",
    "- `logits`: 一个非空的Tensor，注意其数据类型必须为：`half`, `float32`, `float64`之一。\n",
    "- `axis`: 在哪一个维度上做softmax，默认为-1，即在最后一维上做softmax。\n",
    "- `dim`: 弃用。\n",
    "\n",
    "> 关于softmax函数可以参考：[softmax分类](../machine-learning/softmax_classification.ipynb)\n",
    "\n",
    "下面展示一个使用例子："
   ]
  },
  {
   "cell_type": "code",
   "execution_count": 9,
   "metadata": {},
   "outputs": [
    {
     "name": "stdout",
     "output_type": "stream",
     "text": [
      "[[0.09003057 0.24472848 0.66524094]\n",
      " [0.09003057 0.24472848 0.66524094]]\n"
     ]
    }
   ],
   "source": [
    "x = tf.constant([[1, 2, 3], [2, 3, 4]], dtype=tf.float32)\n",
    "y = tf.nn.softmax(x, axis=-1)\n",
    "print(y.eval())"
   ]
  }
 ],
 "metadata": {
  "kernelspec": {
   "display_name": "Python 3",
   "language": "python",
   "name": "python3"
  },
  "language_info": {
   "codemirror_mode": {
    "name": "ipython",
    "version": 3
   },
   "file_extension": ".py",
   "mimetype": "text/x-python",
   "name": "python",
   "nbconvert_exporter": "python",
   "pygments_lexer": "ipython3",
   "version": "3.6.5"
  }
 },
 "nbformat": 4,
 "nbformat_minor": 2
}
