{
 "cells": [
  {
   "cell_type": "markdown",
   "metadata": {},
   "source": [
    "# Tensorflow Graph Ops\n",
    "\n",
    "介绍tf中跟graph操作有关的函数。"
   ]
  },
  {
   "cell_type": "code",
   "execution_count": 2,
   "metadata": {},
   "outputs": [
    {
     "name": "stderr",
     "output_type": "stream",
     "text": [
      "/Users/niudong/workon_home/py3/lib/python3.6/importlib/_bootstrap.py:219: RuntimeWarning: numpy.dtype size changed, may indicate binary incompatibility. Expected 96, got 88\n",
      "  return f(*args, **kwds)\n",
      "/Users/niudong/workon_home/py3/lib/python3.6/importlib/_bootstrap.py:219: RuntimeWarning: numpy.dtype size changed, may indicate binary incompatibility. Expected 96, got 88\n",
      "  return f(*args, **kwds)\n"
     ]
    }
   ],
   "source": [
    "import tensorflow as tf\n",
    "tf.InteractiveSession()\n",
    "init=tf.global_variables_initializer()\n",
    "init.run()"
   ]
  },
  {
   "cell_type": "markdown",
   "metadata": {},
   "source": [
    "### [tf.Graph.as_default()](https://www.tensorflow.org/api_docs/python/tf/Graph#as_default)\n",
    "\n",
    "将某图设置为默认图，并返回一个上下文管理器。所设置的默认图，在模块范围内所定义的节点都将默认加入默认图中。"
   ]
  },
  {
   "cell_type": "code",
   "execution_count": 3,
   "metadata": {},
   "outputs": [],
   "source": [
    "g = tf.Graph()\n",
    "with g.as_default():\n",
    "    pass"
   ]
  },
  {
   "cell_type": "markdown",
   "metadata": {},
   "source": [
    "### [tf.Session()](https://www.tensorflow.org/api_docs/python/tf/Session)\n",
    "\n",
    "`tf.Session()`对象用于评估图中节点的输出结果（间接决定执行哪些op）。它可能拥有一些资源（Resources），如：`tf.Variable`等，所以需要及时释放不需要的资源：使用`sess.close()`手动释放或使用`with tf.Session() as sess:`自动释放。\n",
    "\n",
    "其初始化原型为：\n",
    "\n",
    "```bash\n",
    "__init__(\n",
    "    target='',\n",
    "    graph=None,\n",
    "    config=None\n",
    ")\n",
    "```\n",
    "- `graph`: 取`None`或使用传入的`tf.Graph()`对象。注意：每个`sess`只能操作一个图，但是一个图可能被多个`sess`操作。\n",
    "- `config`: 取`None`或者传入的`tf.ConfigProto()`对象;"
   ]
  },
  {
   "cell_type": "markdown",
   "metadata": {},
   "source": [
    "### [tf.ConfigProto()](https://www.tensorflow.org/api_docs/python/tf/ConfigProto#class_configproto)\n",
    "\n",
    "用于配置`tf.Session()`，常用的传入参数包括:\n",
    "\n",
    "```bash\n",
    "tf.ConfigProto(\n",
    "    log_device_placement=True,\n",
    "    allow_soft_placement=True,\n",
    "    gpu_options=tf.GPUOptions()\n",
    ")\n",
    "```\n",
    "\n",
    "- `log_device_placement`: 是否打印`op`和`Tensor`被指派到哪个设备（几号CPU或几号GPU）上运行。\n",
    "- `allow_soft_placement`: 是否允许`tf`自动选择一个存在并且可用的设备来运行操作。\n",
    "- `gpu_options`: 设置跟GPU使用相关的操作。\n",
    "\n",
    "#### 参考文档\n",
    "\n",
    "- - [tensorflow中使用tf.ConfigProto()配置Session运行参数&&GPU设备指定](https://blog.csdn.net/dcrmg/article/details/79091941)"
   ]
  },
  {
   "cell_type": "markdown",
   "metadata": {},
   "source": [
    "### [tf.GPUOptions()](https://www.tensorflow.org/api_docs/python/tf/GPUOptions)\n",
    "\n",
    "配置`tf.ConfigProto()`中跟GPU相关的部分，常用传入参数包括：\n",
    "\n",
    "```bash\n",
    "tf.GPUOptions(\n",
    "    allow_growth=true,\n",
    "    per_process_gpu_memory_fraction=0.4\n",
    ")\n",
    "```\n",
    "\n",
    "- `allow_growth`: 动态申请显存，需要多少就申请多少显存。\n",
    "- `per_process_gpu_memory_fraction`: 限制GPU使用率。"
   ]
  }
 ],
 "metadata": {
  "kernelspec": {
   "display_name": "Python 3",
   "language": "python",
   "name": "python3"
  },
  "language_info": {
   "codemirror_mode": {
    "name": "ipython",
    "version": 3
   },
   "file_extension": ".py",
   "mimetype": "text/x-python",
   "name": "python",
   "nbconvert_exporter": "python",
   "pygments_lexer": "ipython3",
   "version": "3.6.5"
  }
 },
 "nbformat": 4,
 "nbformat_minor": 2
}
