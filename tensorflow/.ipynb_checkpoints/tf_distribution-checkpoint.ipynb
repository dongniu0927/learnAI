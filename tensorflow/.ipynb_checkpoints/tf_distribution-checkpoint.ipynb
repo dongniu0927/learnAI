{
 "cells": [
  {
   "cell_type": "markdown",
   "metadata": {},
   "source": [
    "# TF Distribution\n",
    "\n",
    "存储一些跟分布有关的TF函数."
   ]
  },
  {
   "cell_type": "code",
   "execution_count": 1,
   "metadata": {},
   "outputs": [],
   "source": [
    "import tensorflow as tf\n",
    "tf.InteractiveSession()\n",
    "init=tf.global_variables_initializer()\n",
    "init.run()"
   ]
  },
  {
   "cell_type": "markdown",
   "metadata": {},
   "source": [
    "## [tf.random_normal](https://www.tensorflow.org/api_docs/python/tf/random_normal)\n",
    "\n",
    "返回正太分布区域的随机值. 在正态分布的曲线中: \n",
    "\n",
    "- 横轴区间（μ-σ，μ+σ）内的面积为68.268949%;\n",
    "- 横轴区间（μ-2σ，μ+2σ）内的面积为95.449974%; \n",
    "- 横轴区间（μ-3σ，μ+3σ）内的面积为99.730020%;\n",
    "\n",
    "> 正态分布可参考:[概率论](../basics/probability_theory.ipynb)\n",
    "\n",
    "其原型函数为:\n",
    "\n",
    "```bash\n",
    "tf.random_normal(\n",
    "    shape,\n",
    "    mean=0.0,\n",
    "    stddev=1.0,\n",
    "    dtype=tf.float32,\n",
    "    seed=None,\n",
    "    name=None\n",
    ")\n",
    "```\n",
    "- `shape`: 生成的tensor的shape.\n",
    "- `mean`: 正态分布的均值.\n",
    "- `stddev`: 正态分布的标准差.\n",
    "\n",
    "使用方式如下:"
   ]
  },
  {
   "cell_type": "code",
   "execution_count": 3,
   "metadata": {},
   "outputs": [
    {
     "name": "stdout",
     "output_type": "stream",
     "text": [
      "[[ 0.5958076  -1.3997582   1.2944616 ]\n",
      " [-0.27288693 -0.31835064  0.38398877]]\n"
     ]
    }
   ],
   "source": [
    "a = tf.random_normal(shape=(2, 3))\n",
    "print(a.eval())"
   ]
  },
  {
   "cell_type": "markdown",
   "metadata": {},
   "source": [
    "## [tf.truncated_normal](https://www.tensorflow.org/api_docs/python/tf/truncated_normal)\n",
    "\n",
    "返回截断正太分布区域的随机值. 所谓截断表示**如果生成的值大于平均值周围2个标准偏差的值则丢弃重新选择**。其函数原型为:\n",
    "\n",
    "```bash\n",
    "tf.truncated_normal(\n",
    "    shape,\n",
    "    mean=0.0,\n",
    "    stddev=1.0,\n",
    "    dtype=tf.float32,\n",
    "    seed=None,\n",
    "    name=None\n",
    ")\n",
    "```\n",
    "- `shape`: 生成的tensor的shape.\n",
    "- `mean`: 正态分布的均值.\n",
    "- `stddev`: 正态分布的标准差.\n",
    "\n",
    "使用方式如下:"
   ]
  },
  {
   "cell_type": "code",
   "execution_count": 4,
   "metadata": {},
   "outputs": [
    {
     "name": "stdout",
     "output_type": "stream",
     "text": [
      "[[ 0.94388044  0.27333635  0.06562463]\n",
      " [-0.36100373  0.48118606  0.5375875 ]]\n"
     ]
    }
   ],
   "source": [
    "a = tf.truncated_normal(shape=(2, 3))\n",
    "print(a.eval())"
   ]
  }
 ],
 "metadata": {
  "kernelspec": {
   "display_name": "Python 3",
   "language": "python",
   "name": "python3"
  },
  "language_info": {
   "codemirror_mode": {
    "name": "ipython",
    "version": 3
   },
   "file_extension": ".py",
   "mimetype": "text/x-python",
   "name": "python",
   "nbconvert_exporter": "python",
   "pygments_lexer": "ipython3",
   "version": "3.5.2"
  }
 },
 "nbformat": 4,
 "nbformat_minor": 2
}
