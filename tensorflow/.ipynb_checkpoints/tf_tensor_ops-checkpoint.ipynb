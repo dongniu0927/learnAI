{
 "cells": [
  {
   "cell_type": "markdown",
   "metadata": {},
   "source": [
    "# Tensorflow Tensor Ops\n",
    "\n",
    "介绍tf中跟tensor操作有关的函数。"
   ]
  },
  {
   "cell_type": "code",
   "execution_count": 14,
   "metadata": {},
   "outputs": [
    {
     "name": "stderr",
     "output_type": "stream",
     "text": [
      "/Users/niudong/workon_home/py3/lib/python3.6/site-packages/tensorflow/python/client/session.py:1714: UserWarning: An interactive session is already active. This can cause out-of-memory errors in some cases. You must explicitly call `InteractiveSession.close()` to release resources held by the other session(s).\n",
      "  warnings.warn('An interactive session is already active. This can '\n"
     ]
    }
   ],
   "source": [
    "import tensorflow as tf\n",
    "tf.InteractiveSession()\n",
    "init=tf.global_variables_initializer()\n",
    "init.run()"
   ]
  },
  {
   "cell_type": "markdown",
   "metadata": {},
   "source": [
    "### [tf.concat()]((https://www.tensorflow.org/api_docs/python/tf/concat))\n",
    "\n",
    "可以**在某个维度上连接两个Tensor**，其函数原型为：\n",
    "\n",
    "```bash\n",
    "tf.concat(\n",
    "    values,\n",
    "    axis,\n",
    "    name='concat'\n",
    ")\n",
    "```\n",
    "\n",
    "- `values`: 一个Tensor列表或元组，比如：`[Tensor1, Tensor2]`表示要连接这两个`Tensor`;\n",
    "- `axis`: 想在哪一维度上做连接;\n",
    "\n",
    "实际上本函数操作表现为**对应维度的拼接**，使用例子如下："
   ]
  },
  {
   "cell_type": "code",
   "execution_count": 3,
   "metadata": {},
   "outputs": [
    {
     "name": "stdout",
     "output_type": "stream",
     "text": [
      "[[[ 1  2]\n",
      "  [ 2  3]\n",
      "  [ 7  4]\n",
      "  [ 8  4]]\n",
      "\n",
      " [[ 4  4]\n",
      "  [ 5  3]\n",
      "  [ 2 10]\n",
      "  [15 11]]]\n"
     ]
    }
   ],
   "source": [
    "t1 = [[[1, 2], [2, 3]], [[4, 4], [5, 3]]]  # shape=(2, 2, 2)\n",
    "t2 = [[[7, 4], [8, 4]], [[2, 10], [15, 11]]]  # shape=(2, 2, 2)\n",
    "\n",
    "_axis = 1  # 改变这个值查看效果\n",
    "\n",
    "# 第_axis维上拼接\n",
    "res_op = tf.concat([t1, t2], axis=_axis)  \n",
    "print(res_op.eval())"
   ]
  },
  {
   "cell_type": "markdown",
   "metadata": {},
   "source": [
    "### [tf.transpose](https://www.tensorflow.org/api_docs/python/tf/transpose)\n",
    "\n",
    "对张量中的维度进行调换，当张量为2维，相当于转置。其函数原型为：\n",
    "\n",
    "```bash\n",
    "tf.transpose(\n",
    "    a,\n",
    "    perm=None,\n",
    "    name='transpose',\n",
    "    conjugate=False\n",
    ")\n",
    "```\n",
    "\n",
    "- `a`: 希望进行调整的张量。\n",
    "- `perm`: 调整后的维度排列，默认值为`[n-1, ...,0]`。\n",
    "- `conjugate`: 是否进行共轭变化，当置为`True`且`a`张量是复数类型的时候，会对`a`进行共轭转置。\n",
    "\n",
    "下面有一种`transpose`的使用的场景：\n",
    "\n",
    "```python\n",
    "# Assume features is of size [N, H, W, C] (batch_size, height, width, channels).\n",
    "# Transpose it to [N, C, H, W], then reshape to [N * C, H * W].\n",
    "features = tf.reshape(tf.transpose(features, [0, 3, 1, 2]), [N * C, H * W])\n",
    "```\n",
    "\n",
    "下面给出了具体的使用例子："
   ]
  },
  {
   "cell_type": "code",
   "execution_count": 17,
   "metadata": {},
   "outputs": [
    {
     "name": "stdout",
     "output_type": "stream",
     "text": [
      "[[1 4]\n",
      " [2 5]\n",
      " [3 6]]\n",
      "\n",
      "[[1 4]\n",
      " [2 5]\n",
      " [3 6]]\n",
      "\n",
      "[[[ 1  4]\n",
      "  [ 2  5]\n",
      "  [ 3  6]]\n",
      "\n",
      " [[ 7 10]\n",
      "  [ 8 11]\n",
      "  [ 9 12]]]\n"
     ]
    }
   ],
   "source": [
    "# 简单例子\n",
    "x = tf.constant([[1, 2, 3], [4, 5, 6]])\n",
    "y = tf.transpose(x)\n",
    "print(y.eval())\n",
    "print()\n",
    "\n",
    "y = tf.transpose(x, perm=[1, 0])  # 跟上面效果一样\n",
    "print(y.eval())\n",
    "print()\n",
    "\n",
    "# 复杂例子\n",
    "x = tf.constant([[[ 1,  2,  3],\n",
    "                  [ 4,  5,  6]],\n",
    "                 [[ 7,  8,  9],\n",
    "                  [10, 11, 12]]])  # shape is (2, 2, 3)\n",
    "y = tf.transpose(x, perm=[0, 2, 1])  # 将1,2维转置，shape is (2, 3, 2)\n",
    "print(y.eval())"
   ]
  },
  {
   "cell_type": "markdown",
   "metadata": {},
   "source": [
    "### [tf.convert_to_tensor()](https://www.tensorflow.org/api_docs/python/tf/convert_to_tensor)\n",
    "\n",
    "将一个非Tensor数据值转化为`Tensor`类型。 其函数原型为:\n",
    "\n",
    "```bash\n",
    "tf.convert_to_tensor(\n",
    "    value,\n",
    "    dtype=None,\n",
    "    name=None,\n",
    "    preferred_dtype=None\n",
    ")\n",
    "```\n",
    "\n",
    "- `value`: 任意一个python类型的数据值；\n",
    "- `dtype`: 建立的tensor的数据类型,如果缺失将会根据原始值进行推测；\n",
    "- `preferred_dtype`: `dtype`是`None`的时候使用；\n",
    "\n",
    "使用例子如下:\n"
   ]
  },
  {
   "cell_type": "code",
   "execution_count": 5,
   "metadata": {},
   "outputs": [
    {
     "name": "stdout",
     "output_type": "stream",
     "text": [
      "Tensor(\"Const_2:0\", shape=(2, 2), dtype=float32)\n"
     ]
    }
   ],
   "source": [
    "a = [[1.0, 2.0], [3.0, 4.0]]\n",
    "print(tf.convert_to_tensor(a))"
   ]
  },
  {
   "cell_type": "markdown",
   "metadata": {},
   "source": [
    "### [tf.cast](https://www.tensorflow.org/api_docs/python/tf/cast)\n",
    "\n",
    "转换一个Tensor的数据类型。 其函数原型为:\n",
    "\n",
    "```bash\n",
    "tf.cast(\n",
    "    x,\n",
    "    dtype,\n",
    "    name=None\n",
    ")\n",
    "```\n",
    "- `x`: 需要转换的Tensor `x`;\n",
    "- `dtype`: 需要转化为什么类型;\n",
    "\n",
    "使用例子如下:"
   ]
  },
  {
   "cell_type": "code",
   "execution_count": 15,
   "metadata": {},
   "outputs": [
    {
     "name": "stdout",
     "output_type": "stream",
     "text": [
      "Tensor(\"Cast:0\", shape=(2,), dtype=int32)\n"
     ]
    }
   ],
   "source": [
    "x = tf.constant([1.8, 2.2], dtype=tf.float32)\n",
    "y = tf.cast(x, tf.int32)\n",
    "print(y)"
   ]
  }
 ],
 "metadata": {
  "kernelspec": {
   "display_name": "Python 3",
   "language": "python",
   "name": "python3"
  },
  "language_info": {
   "codemirror_mode": {
    "name": "ipython",
    "version": 3
   },
   "file_extension": ".py",
   "mimetype": "text/x-python",
   "name": "python",
   "nbconvert_exporter": "python",
   "pygments_lexer": "ipython3",
   "version": "3.6.5"
  }
 },
 "nbformat": 4,
 "nbformat_minor": 2
}
