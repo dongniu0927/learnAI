{
 "cells": [
  {
   "cell_type": "markdown",
   "metadata": {},
   "source": [
    "# Tensorflow Train函数\n"
   ]
  },
  {
   "cell_type": "code",
   "execution_count": 2,
   "metadata": {},
   "outputs": [
    {
     "name": "stderr",
     "output_type": "stream",
     "text": [
      "/Users/niudong/workon_home/py3/lib/python3.6/importlib/_bootstrap.py:219: RuntimeWarning: numpy.dtype size changed, may indicate binary incompatibility. Expected 96, got 88\n",
      "  return f(*args, **kwds)\n",
      "/Users/niudong/workon_home/py3/lib/python3.6/importlib/_bootstrap.py:219: RuntimeWarning: numpy.dtype size changed, may indicate binary incompatibility. Expected 96, got 88\n",
      "  return f(*args, **kwds)\n"
     ]
    }
   ],
   "source": [
    "import tensorflow as tf\n",
    "# tf.InteractiveSession()\n",
    "# init=tf.global_variables_initializer()\n",
    "# init.run()"
   ]
  },
  {
   "cell_type": "markdown",
   "metadata": {},
   "source": [
    "### [tf.train.string_input_producer](https://www.tensorflow.org/api_docs/python/tf/train/string_input_producer)\n",
    "\n",
    "相较于`feed_dict`的另一种数据输入方式。 输出字符串列表(如文件名称)到一个输入管道队列中。 其函数原型如下所示:\n",
    "\n",
    "```bash\n",
    "tf.train.string_input_producer(\n",
    "    string_tensor,\n",
    "    num_epochs=None,\n",
    "    shuffle=True,\n",
    "    seed=None,\n",
    "    capacity=32,\n",
    "    shared_name=None,\n",
    "    name=None,\n",
    "    cancel_op=None\n",
    ")\n",
    "```\n",
    "- `string_tensor`: 一个1-D的string Tensor，函数则是要处理这个tensor；\n",
    "- `num_epochs`: 如果指定，string_input_producer在产生OutOfRange错误之前从string_tensor中产生num_epochs次字符串。如果未指定，则可以无限次循环遍历产生字符串；\n",
    "- `shuffle`: 如果为`True`，则在每个epoch内随机打乱顺序；\n",
    "- `seed`：一个整数, 如果`shuffle==True`，则使用种子；\n",
    "- `capacity`: 一个整数, 设置队列容量；\n",
    "- `shared_name`：如果设置，则此队列将在多个会话的给定名称下共享；\n",
    "\n",
    "使用例子如下:\n"
   ]
  },
  {
   "cell_type": "code",
   "execution_count": 3,
   "metadata": {},
   "outputs": [],
   "source": [
    "files_in = [\"./data/data_batch%d.bin\" % i for i in range(1, 6)]\n",
    "files = tf.train.string_input_producer(files_in)"
   ]
  },
  {
   "cell_type": "markdown",
   "metadata": {},
   "source": [
    "### [tf.train.batch](https://www.tensorflow.org/api_docs/python/tf/train/batch)\n",
    "\n",
    "在张量中创建一批张量. 其原型函数为:\n",
    "\n",
    "```bash\n",
    "tf.train.batch(\n",
    "    tensors,\n",
    "    batch_size,\n",
    "    num_threads=1,\n",
    "    capacity=32,\n",
    "    enqueue_many=False,\n",
    "    shapes=None,\n",
    "    dynamic_pad=False,\n",
    "    allow_smaller_final_batch=False,\n",
    "    shared_name=None,\n",
    "    name=None\n",
    ")\n",
    "```\n",
    "- `tensors`: 要排队的张量列表或字典.\n",
    "- `batch_size`: 要从队列里面获取的批量大小.\n",
    "- `num_threads`: 填充张量的线程数目.\n",
    "- `capacity`: 队列里面最多的元素数目.\n",
    "- `enqueue_many`: `tensors`输入是不是一个单例."
   ]
  }
 ],
 "metadata": {
  "kernelspec": {
   "display_name": "Python 3",
   "language": "python",
   "name": "python3"
  },
  "language_info": {
   "codemirror_mode": {
    "name": "ipython",
    "version": 3
   },
   "file_extension": ".py",
   "mimetype": "text/x-python",
   "name": "python",
   "nbconvert_exporter": "python",
   "pygments_lexer": "ipython3",
   "version": "3.5.2"
  }
 },
 "nbformat": 4,
 "nbformat_minor": 2
}
