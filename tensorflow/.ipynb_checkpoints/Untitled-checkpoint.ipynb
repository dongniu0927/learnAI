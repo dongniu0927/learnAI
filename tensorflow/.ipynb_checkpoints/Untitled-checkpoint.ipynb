{
 "cells": [
  {
   "cell_type": "code",
   "execution_count": 2,
   "metadata": {},
   "outputs": [],
   "source": [
    "import tensorflow as tf\n",
    "import numpy as np"
   ]
  },
  {
   "cell_type": "code",
   "execution_count": 3,
   "metadata": {},
   "outputs": [],
   "source": [
    "x_data = np.random.rand(100).astype(np.float32)\n",
    "y_data = x_data*0.1 + 0.3"
   ]
  },
  {
   "cell_type": "code",
   "execution_count": 4,
   "metadata": {},
   "outputs": [
    {
     "name": "stdout",
     "output_type": "stream",
     "text": [
      "4\n"
     ]
    }
   ],
   "source": [
    "def rob(nums):\n",
    "    \"\"\"\n",
    "    :type nums: List[int]\n",
    "    :rtype: int\n",
    "    \"\"\"\n",
    "    if len(nums) == 0:\n",
    "            return 0\n",
    "    if len(nums) == 1:\n",
    "        return nums[0]\n",
    "    values = [nums[0], nums[1]]\n",
    "    for i in range(2, len(nums)):\n",
    "        values.append(max(values[:i-1]) + nums[i])\n",
    "    return max(values)\n",
    "\n",
    "print(rob([2,1,1,2]))"
   ]
  },
  {
   "cell_type": "code",
   "execution_count": 6,
   "metadata": {},
   "outputs": [
    {
     "name": "stdout",
     "output_type": "stream",
     "text": [
      "[[0.]\n",
      " [1.]\n",
      " [1.]\n",
      " [1.]\n",
      " [1.]]\n"
     ]
    }
   ],
   "source": [
    "zero_mask = tf.constant([0 if i == 0 else 1 for i in range(5)],  # i==0 for remove PID_ID=0\n",
    "                                    dtype=tf.float32, shape=[5, 1])\n",
    "\n",
    "with tf.Session() as sess:\n",
    "    print(sess.run(zero_mask))"
   ]
  },
  {
   "cell_type": "code",
   "execution_count": 8,
   "metadata": {},
   "outputs": [
    {
     "name": "stdout",
     "output_type": "stream",
     "text": [
      "[(0, 5), (5, 10)]\n"
     ]
    }
   ],
   "source": [
    "n = 15\n",
    "bsz = 5\n",
    "print(list(zip(range(0, n, bsz), range(bsz, n, bsz))))"
   ]
  },
  {
   "cell_type": "code",
   "execution_count": 11,
   "metadata": {},
   "outputs": [
    {
     "name": "stdout",
     "output_type": "stream",
     "text": [
      "[[[-2.5252488e-01 -6.9064486e-01 -8.6562133e-01 -1.1206268e-03\n",
      "    4.0909815e-01]\n",
      "  [-7.7558374e-01  4.9903178e-01 -1.4644478e-01 -5.4299068e-01\n",
      "   -3.3873123e-01]]\n",
      "\n",
      " [[ 1.1964746e-01 -7.3732436e-01  1.7041423e+00 -1.4166894e+00\n",
      "   -2.0142859e-01]\n",
      "  [ 1.5937777e-01 -2.6156058e+00 -1.9918897e+00  9.4473296e-01\n",
      "    1.8848205e+00]]]\n"
     ]
    }
   ],
   "source": [
    "embedding = tf.random_normal((10, 5))\n",
    "embeds = tf.nn.embedding_lookup(embedding, [[1, 3], [2 ,4]])\n",
    "with tf.Session() as sess:\n",
    "    print(sess.run(embeds))"
   ]
  }
 ],
 "metadata": {
  "kernelspec": {
   "display_name": "Python 3",
   "language": "python",
   "name": "python3"
  },
  "language_info": {
   "codemirror_mode": {
    "name": "ipython",
    "version": 3
   },
   "file_extension": ".py",
   "mimetype": "text/x-python",
   "name": "python",
   "nbconvert_exporter": "python",
   "pygments_lexer": "ipython3",
   "version": "3.6.5"
  }
 },
 "nbformat": 4,
 "nbformat_minor": 2
}
