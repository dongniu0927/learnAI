{
 "cells": [
  {
   "cell_type": "code",
   "execution_count": 50,
   "metadata": {},
   "outputs": [],
   "source": [
    "import tensorflow as tf\n",
    "import numpy as np"
   ]
  },
  {
   "cell_type": "markdown",
   "metadata": {},
   "source": [
    "## 生成[0, 1)之间的浮点数\n",
    "\n",
    "一般使用`np.random.random(size=None)`，下面的其他几个函数也可以达到相似的功能：\n",
    "\n",
    "- `numpy.random.random_sample(size=None)`\n",
    "- `numpy.random.ranf(size=None)`\n",
    "- `numpy.random.sample(size=None)`"
   ]
  },
  {
   "cell_type": "code",
   "execution_count": 44,
   "metadata": {},
   "outputs": [
    {
     "name": "stdout",
     "output_type": "stream",
     "text": [
      "0.8932957575651361\n",
      "[[0.70197634 0.43550233]\n",
      " [0.64419946 0.36946478]]\n"
     ]
    }
   ],
   "source": [
    "print(np.random.random())  \n",
    "print(np.random.random(size=(2, 2))) "
   ]
  },
  {
   "cell_type": "markdown",
   "metadata": {},
   "source": [
    "## 生成[0, 1)之间的浮点数组\n",
    "\n",
    "一般使用`numpy.random.rand(d0,d1,…,dn)`，函数根据给定维度生成[0,1)之间的数据。这个函数与`np.random.random()`类似，只是调用方式不太一样。"
   ]
  },
  {
   "cell_type": "code",
   "execution_count": 45,
   "metadata": {},
   "outputs": [
    {
     "name": "stdout",
     "output_type": "stream",
     "text": [
      "0.30596338666039147\n",
      "[0.64113852 0.78071038 0.00807476]\n",
      "[[0.66835805 0.90947494]\n",
      " [0.42113961 0.23764266]\n",
      " [0.61339595 0.07668782]]\n"
     ]
    }
   ],
   "source": [
    "print(np.random.rand())\n",
    "print(np.random.rand(3,))\n",
    "print(np.random.rand(3,2))"
   ]
  },
  {
   "cell_type": "markdown",
   "metadata": {},
   "source": [
    "## 生成具有标准正态分布的数组\n",
    "\n",
    "一般使用`numpy.random.randn(d0,d1,…,dn)`，函数返回一个或一组样本，具有标准正态分布（随机变量的期望$\\mu$为0，标准差为1）。"
   ]
  },
  {
   "cell_type": "code",
   "execution_count": 46,
   "metadata": {},
   "outputs": [
    {
     "name": "stdout",
     "output_type": "stream",
     "text": [
      "0.17340162490810046\n",
      "[-0.98972248 -0.32081087  0.75728042]\n",
      "[[ 1.15374132 -0.19494477]\n",
      " [-0.56248599 -0.30063406]\n",
      " [-1.03777672 -0.70453755]]\n"
     ]
    }
   ],
   "source": [
    "print(np.random.randn())\n",
    "print(np.random.randn(3,))\n",
    "print(np.random.randn(3,2))"
   ]
  },
  {
   "cell_type": "markdown",
   "metadata": {},
   "source": [
    "## 生成[Low, high)范围内的整数数组\n",
    "\n",
    "一般使用`numpy.random.randint(low, high=None, size=None)`，函数返回随机整数，范围区间为[low,high）。high没有填写时，默认生成随机数的范围是[0，low)。"
   ]
  },
  {
   "cell_type": "code",
   "execution_count": 52,
   "metadata": {},
   "outputs": [
    {
     "name": "stdout",
     "output_type": "stream",
     "text": [
      "[0 0 0 0 0]\n",
      "[[ 1 -5]\n",
      " [-4 -1]]\n"
     ]
    }
   ],
   "source": [
    "print(np.random.randint(1,size=5)) # 返回[0,1)之间的整数，所以只有0\n",
    "print(np.random.randint(-5,5,size=(2,2)))"
   ]
  },
  {
   "cell_type": "markdown",
   "metadata": {},
   "source": [
    "## 从给定的一维数组中生成随机数组\n",
    "\n",
    "一般使用`numpy.random.choice(a, size=None, replace=True, p=None)`，函数从给定的一维数组中生成随机数。a为一维数组类似数据或整数；size为数组维度；replace表示是否有放回地取值。a为整数时，对应的一维数组为np.arange(a)"
   ]
  },
  {
   "cell_type": "code",
   "execution_count": 63,
   "metadata": {},
   "outputs": [
    {
     "name": "stdout",
     "output_type": "stream",
     "text": [
      "[4 1 1]\n",
      "[ 4 10  4]\n",
      "[10  4  8]\n"
     ]
    }
   ],
   "source": [
    "print(np.random.choice(5, 3))\n",
    "print(np.random.choice([4, 8, 10], 3))\n",
    "print(np.random.choice([4, 8, 10], 3, replace=False))"
   ]
  },
  {
   "cell_type": "markdown",
   "metadata": {},
   "source": [
    "## 使随机数据可预测\n",
    "\n",
    "一般使用`numpy.random.seed()`来控制随机数的可预测性。当我们设置相同的seed，每次生成的随机数相同。如果不设置seed，则每次会生成不同的随机数。"
   ]
  },
  {
   "cell_type": "code",
   "execution_count": 113,
   "metadata": {},
   "outputs": [
    {
     "name": "stdout",
     "output_type": "stream",
     "text": [
      "0.5488135039273248\n",
      "0.7151893663724195\n",
      "0.5488135039273248\n",
      "0.7151893663724195\n"
     ]
    }
   ],
   "source": [
    "np.random.seed(0)\n",
    "print(np.random.random())  # 运行每次都生成相同的随机数0.5488135039273248\n",
    "print(np.random.random())  # 运行每次都生成相同的随机数0.7151893663724195\n",
    "\n",
    "np.random.seed(0)\n",
    "print(np.random.random())\n",
    "print(np.random.random())"
   ]
  }
 ],
 "metadata": {
  "kernelspec": {
   "display_name": "Python 3",
   "language": "python",
   "name": "python3"
  },
  "language_info": {
   "codemirror_mode": {
    "name": "ipython",
    "version": 3
   },
   "file_extension": ".py",
   "mimetype": "text/x-python",
   "name": "python",
   "nbconvert_exporter": "python",
   "pygments_lexer": "ipython3",
   "version": "3.6.5"
  }
 },
 "nbformat": 4,
 "nbformat_minor": 2
}
