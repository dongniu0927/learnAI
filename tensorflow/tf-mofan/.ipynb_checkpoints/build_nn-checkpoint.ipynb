{
 "cells": [
  {
   "cell_type": "markdown",
   "metadata": {},
   "source": [
    "# 构建回归神经网络"
   ]
  },
  {
   "cell_type": "code",
   "execution_count": 135,
   "metadata": {},
   "outputs": [],
   "source": [
    "import tensorflow as tf\n",
    "import numpy as np"
   ]
  },
  {
   "cell_type": "code",
   "execution_count": 136,
   "metadata": {},
   "outputs": [],
   "source": [
    "def add_layer(inputs, in_sz, out_sz, layer_index, activation_func=None):\n",
    "    Weights = tf.Variable(tf.random_normal((in_sz, out_sz)), name=\"weights_\"+str(layer_index), \n",
    "                          dtype=tf.float32)\n",
    "    biases = tf.Variable(tf.zeros(out_sz), name=\"biases_\"+str(layer_index))\n",
    "    a = tf.matmul(inputs, Weights) + biases\n",
    "    if activation_func is None:\n",
    "        return a\n",
    "    else:\n",
    "        return activation_func(a)"
   ]
  },
  {
   "cell_type": "code",
   "execution_count": 137,
   "metadata": {},
   "outputs": [],
   "source": [
    "x_data = np.random.rand(300, 1)\n",
    "y_data = np.square(x_data) - 0.5"
   ]
  },
  {
   "cell_type": "markdown",
   "metadata": {},
   "source": [
    "## 输入与输出都是占位符"
   ]
  },
  {
   "cell_type": "code",
   "execution_count": 138,
   "metadata": {},
   "outputs": [],
   "source": [
    "xs = tf.placeholder(tf.float32, [None, 1])\n",
    "ys = tf.placeholder(tf.float32, [None, 1])"
   ]
  },
  {
   "cell_type": "markdown",
   "metadata": {},
   "source": [
    "## 构建网络"
   ]
  },
  {
   "cell_type": "code",
   "execution_count": 139,
   "metadata": {},
   "outputs": [],
   "source": [
    "l1 = add_layer(xs, 1, 10, layer_index=1,activation_func=tf.nn.relu)\n",
    "l2 = add_layer(l1, 10, 1, layer_index=2)"
   ]
  },
  {
   "cell_type": "markdown",
   "metadata": {},
   "source": [
    "## 训练网络"
   ]
  },
  {
   "cell_type": "code",
   "execution_count": 159,
   "metadata": {},
   "outputs": [],
   "source": [
    "loss = tf.reduce_mean(tf.square(l2-ys))\n",
    "# Gradient descent\n",
    "train = tf.train.GradientDescentOptimizer(0.01).minimize(loss)\n",
    "# Momentum\n",
    "train1 = tf.train.MomentumOptimizer(learning_rate=0.01, momentum=0.01).minimize(loss)\n",
    "# Adagrad\n",
    "train2 = tf.train.AdagradOptimizer(learning_rate=0.01).minimize(loss)\n",
    "init = tf.global_variables_initializer()"
   ]
  },
  {
   "cell_type": "code",
   "execution_count": 165,
   "metadata": {},
   "outputs": [
    {
     "name": "stdout",
     "output_type": "stream",
     "text": [
      "0.17812055\n",
      "0.08303454\n"
     ]
    }
   ],
   "source": [
    "with tf.Session() as sess:\n",
    "    sess.run(init)\n",
    "    for i in range(100):\n",
    "        # 这里的训练数据是整批整批的放入\n",
    "        sess.run(train2, feed_dict={xs: x_data, ys:y_data})\n",
    "        if i % 50 == 0:\n",
    "            print(sess.run(loss, feed_dict={xs: x_data, ys:y_data}))\n",
    "                                   "
   ]
  }
 ],
 "metadata": {
  "kernelspec": {
   "display_name": "Python 3",
   "language": "python",
   "name": "python3"
  },
  "language_info": {
   "codemirror_mode": {
    "name": "ipython",
    "version": 3
   },
   "file_extension": ".py",
   "mimetype": "text/x-python",
   "name": "python",
   "nbconvert_exporter": "python",
   "pygments_lexer": "ipython3",
   "version": "3.6.5"
  }
 },
 "nbformat": 4,
 "nbformat_minor": 2
}
