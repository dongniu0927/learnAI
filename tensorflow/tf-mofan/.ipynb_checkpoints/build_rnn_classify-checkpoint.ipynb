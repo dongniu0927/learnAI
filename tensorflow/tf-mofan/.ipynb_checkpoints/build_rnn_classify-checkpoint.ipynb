{
 "cells": [
  {
   "cell_type": "markdown",
   "metadata": {},
   "source": [
    "# RNN的使用\n",
    "\n",
    "本文使用LSTM来做Mnist分类"
   ]
  },
  {
   "cell_type": "markdown",
   "metadata": {},
   "source": [
    "## 加载Mnist数据"
   ]
  },
  {
   "cell_type": "code",
   "execution_count": 46,
   "metadata": {},
   "outputs": [],
   "source": [
    "import tensorflow as tf\n",
    "import numpy as np\n",
    "\n",
    "# 加载数据用keras\n",
    "mnist = tf.keras.datasets.mnist\n",
    "(train_data, train_label), (test_data, test_label) = mnist.load_data()\n",
    "\n",
    "def convert_to_one_hot(y, C):\n",
    "    return np.eye(C)[y.reshape(-1)]"
   ]
  },
  {
   "cell_type": "code",
   "execution_count": 47,
   "metadata": {},
   "outputs": [],
   "source": [
    "train_data, test_data = train_data/255.0, test_data/255.0\n",
    "train_data = train_data.reshape([-1, 28, 28])  # (batch_size, n_steps, n_inputs)\n",
    "train_label = convert_to_one_hot(train_label, 10)  # (batch_size, n_classes)"
   ]
  },
  {
   "cell_type": "markdown",
   "metadata": {},
   "source": [
    "## 设置RNN参数"
   ]
  },
  {
   "cell_type": "code",
   "execution_count": 48,
   "metadata": {},
   "outputs": [],
   "source": [
    "lr = 0.001\n",
    "train_iters = 50\n",
    "batch_size = 128\n",
    "n_inputs = 28  # 每个单元的输入维度\n",
    "n_steps = 28   # 时刻数目\n",
    "n_hidden = 128\n",
    "n_classes = 10"
   ]
  },
  {
   "cell_type": "markdown",
   "metadata": {},
   "source": [
    "## 使用LSTM分类"
   ]
  },
  {
   "cell_type": "code",
   "execution_count": 49,
   "metadata": {},
   "outputs": [
    {
     "name": "stdout",
     "output_type": "stream",
     "text": [
      "Inputs: Tensor(\"inputs_2:0\", shape=(?, 28, 28), dtype=float32)\n",
      "Labels: Tensor(\"labels_2:0\", shape=(?, 10), dtype=float32)\n"
     ]
    }
   ],
   "source": [
    "inputs = tf.placeholder(name=\"inputs\", shape=[None, 28, 28], dtype=tf.float32)\n",
    "labels = tf.placeholder(name=\"labels\", shape=[None, 10], dtype=tf.float32)\n",
    "print(\"Inputs:\", inputs)\n",
    "print(\"Labels:\", labels)"
   ]
  },
  {
   "cell_type": "code",
   "execution_count": 50,
   "metadata": {},
   "outputs": [
    {
     "name": "stdout",
     "output_type": "stream",
     "text": [
      "All outputs: Tensor(\"test_10/rnn/transpose_1:0\", shape=(128, 28, 128), dtype=float32)\n",
      "Final state: LSTMStateTuple(c=<tf.Tensor 'test_10/rnn/while/Exit_3:0' shape=(128, 128) dtype=float32>, h=<tf.Tensor 'test_10/rnn/while/Exit_4:0' shape=(128, 128) dtype=float32>)\n",
      "Pred: Tensor(\"test_10/add:0\", shape=(128, 10), dtype=float32)\n"
     ]
    }
   ],
   "source": [
    "with tf.variable_scope(\"test\", reuse=tf.AUTO_REUSE) as scope:\n",
    "    # 建立一个RNN CELL，需要给隐藏层的数目\n",
    "    cell = tf.nn.rnn_cell.LSTMCell(num_units=n_hidden)\n",
    "    # 设置初始的状态\n",
    "    state = cell.zero_state(batch_size, dtype=tf.float32)\n",
    "    # 这里其实是执行了时序上的连续操作\n",
    "    outputs, final_state = tf.nn.dynamic_rnn(cell, inputs, \n",
    "                                             dtype=tf.float32, \n",
    "                                             initial_state=state)\n",
    "    print(\"All outputs:\", outputs)\n",
    "    print(\"Final state:\", final_state)\n",
    "    \n",
    "    w = tf.Variable(tf.random_normal((n_hidden, n_classes)), dtype=tf.float32)\n",
    "    b = tf.Variable(tf.zeros((n_classes, )), dtype=tf.float32)\n",
    "    pred = tf.matmul(final_state[1], w) + b\n",
    "    print(\"Pred:\", pred)\n",
    "    \n",
    "    #loss = tf.reduce_mean(tf.reduce_sum((-labels*tf.log(pred)), \n",
    "    #                           reduction_indices=[1]))\n",
    "    # 调用必须要使用logits=*和labels=*\n",
    "    loss = tf.reduce_mean(tf.nn.softmax_cross_entropy_with_logits(logits=pred, labels=labels))\n",
    "    train = tf.train.AdamOptimizer(lr).minimize(loss)\n",
    "    \n",
    "    # 计算准确度\n",
    "    correct_pred = tf.equal(tf.argmax(pred, 1), tf.argmax(labels, 1))\n",
    "    accuracy = tf.reduce_mean(tf.cast(correct_pred, tf.float32))"
   ]
  },
  {
   "cell_type": "code",
   "execution_count": 51,
   "metadata": {},
   "outputs": [
    {
     "name": "stdout",
     "output_type": "stream",
     "text": [
      "Accuracy: 0.1171875\n",
      "Accuracy: 0.2890625\n",
      "Accuracy: 0.2421875\n",
      "Accuracy: 0.21875\n",
      "Accuracy: 0.4296875\n",
      "Accuracy: 0.328125\n",
      "Accuracy: 0.3671875\n",
      "Accuracy: 0.390625\n",
      "Accuracy: 0.4296875\n",
      "Accuracy: 0.3828125\n",
      "Accuracy: 0.4921875\n",
      "Accuracy: 0.4453125\n",
      "Accuracy: 0.3984375\n",
      "Accuracy: 0.546875\n",
      "Accuracy: 0.53125\n",
      "Accuracy: 0.59375\n",
      "Accuracy: 0.609375\n",
      "Accuracy: 0.5234375\n",
      "Accuracy: 0.4921875\n",
      "Accuracy: 0.578125\n",
      "Accuracy: 0.59375\n",
      "Accuracy: 0.5703125\n",
      "Accuracy: 0.609375\n",
      "Accuracy: 0.59375\n",
      "Accuracy: 0.6328125\n",
      "Accuracy: 0.5625\n",
      "Accuracy: 0.6328125\n",
      "Accuracy: 0.625\n",
      "Accuracy: 0.6640625\n",
      "Accuracy: 0.5859375\n",
      "Accuracy: 0.6796875\n",
      "Accuracy: 0.6875\n",
      "Accuracy: 0.65625\n",
      "Accuracy: 0.75\n",
      "Accuracy: 0.640625\n",
      "Accuracy: 0.671875\n",
      "Accuracy: 0.75\n",
      "Accuracy: 0.734375\n",
      "Accuracy: 0.703125\n",
      "Accuracy: 0.7265625\n",
      "Accuracy: 0.7578125\n",
      "Accuracy: 0.7734375\n",
      "Accuracy: 0.796875\n",
      "Accuracy: 0.71875\n",
      "Accuracy: 0.7578125\n",
      "Accuracy: 0.765625\n",
      "Accuracy: 0.765625\n",
      "Accuracy: 0.703125\n",
      "Accuracy: 0.7109375\n",
      "Accuracy: 0.796875\n",
      "Accuracy: 0.78125\n",
      "Accuracy: 0.71875\n",
      "Accuracy: 0.765625\n",
      "Accuracy: 0.8125\n",
      "Accuracy: 0.84375\n",
      "Accuracy: 0.828125\n",
      "Accuracy: 0.7734375\n",
      "Accuracy: 0.78125\n",
      "Accuracy: 0.78125\n",
      "Accuracy: 0.796875\n",
      "Accuracy: 0.796875\n",
      "Accuracy: 0.796875\n",
      "Accuracy: 0.8125\n",
      "Accuracy: 0.84375\n",
      "Accuracy: 0.8125\n",
      "Accuracy: 0.7890625\n",
      "Accuracy: 0.796875\n",
      "Accuracy: 0.84375\n",
      "Accuracy: 0.875\n",
      "Accuracy: 0.8359375\n",
      "Accuracy: 0.875\n",
      "Accuracy: 0.796875\n",
      "Accuracy: 0.8359375\n",
      "Accuracy: 0.8828125\n",
      "Accuracy: 0.8359375\n",
      "Accuracy: 0.859375\n",
      "Accuracy: 0.8984375\n",
      "Accuracy: 0.8359375\n",
      "Accuracy: 0.84375\n",
      "Accuracy: 0.8046875\n",
      "Accuracy: 0.8515625\n",
      "Accuracy: 0.828125\n",
      "Accuracy: 0.8671875\n",
      "Accuracy: 0.8828125\n",
      "Accuracy: 0.8515625\n",
      "Accuracy: 0.828125\n",
      "Accuracy: 0.828125\n",
      "Accuracy: 0.796875\n",
      "Accuracy: 0.78125\n",
      "Accuracy: 0.859375\n",
      "Accuracy: 0.890625\n",
      "Accuracy: 0.84375\n",
      "Accuracy: 0.8515625\n",
      "Accuracy: 0.8046875\n",
      "Accuracy: 0.796875\n",
      "Accuracy: 0.875\n",
      "Accuracy: 0.828125\n",
      "Accuracy: 0.875\n",
      "Accuracy: 0.890625\n",
      "Accuracy: 0.875\n"
     ]
    }
   ],
   "source": [
    "with tf.Session() as sess:\n",
    "    sess.run(tf.global_variables_initializer())\n",
    "    step = 0\n",
    "    while step  < train_iters:\n",
    "        indexs = np.random.choice(train_data.shape[0], size=(batch_size, ))\n",
    "        batch_xs = np.take(train_data, axis=0, indices=indexs)\n",
    "        batch_ys = np.take(train_label, axis=0, indices=indexs)\n",
    "        sess.run(train, feed_dict={inputs:batch_xs, labels:batch_ys})\n",
    "        print(\"Accuracy:\", sess.run(accuracy, feed_dict={inputs:batch_xs, labels:batch_ys}))\n",
    "        step += 1"
   ]
  }
 ],
 "metadata": {
  "kernelspec": {
   "display_name": "Python 3",
   "language": "python",
   "name": "python3"
  },
  "language_info": {
   "codemirror_mode": {
    "name": "ipython",
    "version": 3
   },
   "file_extension": ".py",
   "mimetype": "text/x-python",
   "name": "python",
   "nbconvert_exporter": "python",
   "pygments_lexer": "ipython3",
   "version": "3.6.5"
  }
 },
 "nbformat": 4,
 "nbformat_minor": 2
}
