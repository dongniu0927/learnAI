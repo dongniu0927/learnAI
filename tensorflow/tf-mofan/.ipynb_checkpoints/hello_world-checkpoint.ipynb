{
 "cells": [
  {
   "cell_type": "markdown",
   "metadata": {},
   "source": [
    "# 入门例子\n",
    "\n",
    "本文以线性回归为例来学习TF。"
   ]
  },
  {
   "cell_type": "code",
   "execution_count": 1,
   "metadata": {},
   "outputs": [],
   "source": [
    "import tensorflow as tf\n",
    "import numpy as np"
   ]
  },
  {
   "cell_type": "markdown",
   "metadata": {},
   "source": [
    "## 创建数据"
   ]
  },
  {
   "cell_type": "code",
   "execution_count": 2,
   "metadata": {},
   "outputs": [],
   "source": [
    "x_data = np.random.rand(100).astype(np.float32)\n",
    "y_data = x_data * 0.3 + 0.1"
   ]
  },
  {
   "cell_type": "markdown",
   "metadata": {},
   "source": [
    "## 创建模型参数"
   ]
  },
  {
   "cell_type": "code",
   "execution_count": 29,
   "metadata": {},
   "outputs": [
    {
     "name": "stdout",
     "output_type": "stream",
     "text": [
      "<tf.Variable 'Variable_47:0' shape=(1,) dtype=float32_ref>\n",
      "<tf.Variable 'Variable_48:0' shape=(1,) dtype=float32_ref>\n",
      "Tensor(\"add_7:0\", shape=(100,), dtype=float32)\n"
     ]
    }
   ],
   "source": [
    "Weights = tf.Variable(tf.random_uniform(shape=[1], minval=-1.0, maxval=1.0))\n",
    "biases = tf.Variable(tf.zeros([1]))\n",
    "y = Weights * x_data + biases\n",
    "\n",
    "print(Weights)\n",
    "print(biases)\n",
    "print(y)"
   ]
  },
  {
   "cell_type": "markdown",
   "metadata": {},
   "source": [
    "## 计算误差"
   ]
  },
  {
   "cell_type": "code",
   "execution_count": 30,
   "metadata": {},
   "outputs": [
    {
     "name": "stdout",
     "output_type": "stream",
     "text": [
      "Tensor(\"Mean:0\", shape=(), dtype=float32)\n"
     ]
    }
   ],
   "source": [
    "loss = tf.reduce_mean(tf.square(y - y_data))\n",
    "print(loss)"
   ]
  },
  {
   "cell_type": "markdown",
   "metadata": {},
   "source": [
    "## 传播误差"
   ]
  },
  {
   "cell_type": "code",
   "execution_count": 44,
   "metadata": {},
   "outputs": [],
   "source": [
    "opti = tf.train.GradientDescentOptimizer(0.5)\n",
    "train = opti.minimize(loss)"
   ]
  },
  {
   "cell_type": "markdown",
   "metadata": {},
   "source": [
    "## 训练\n",
    "\n",
    "到目前为止, 我们只是建立了神经网络的结构, 还没有使用这个结构. 在使用这个结构之前, 我们必须先初始化所有之前定义的Variable。"
   ]
  },
  {
   "cell_type": "code",
   "execution_count": 46,
   "metadata": {},
   "outputs": [],
   "source": [
    "# init = tf.initialize_all_variables() tf马上就要废弃这种写法\n",
    "# 如果你在 Tensorflow 中设定了变量，那么初始化变量是最重要的\n",
    "init = tf.global_variables_initializer()"
   ]
  },
  {
   "cell_type": "code",
   "execution_count": 52,
   "metadata": {},
   "outputs": [
    {
     "name": "stdout",
     "output_type": "stream",
     "text": [
      "0 [0.22313488] [0.1983281]\n",
      "20 [0.27417752] [0.11402629]\n",
      "40 [0.29337147] [0.1036005]\n",
      "60 [0.29829848] [0.10092424]\n",
      "80 [0.29956323] [0.10023725]\n",
      "100 [0.2998879] [0.1000609]\n",
      "120 [0.29997122] [0.10001564]\n",
      "140 [0.2999926] [0.10000402]\n",
      "160 [0.2999981] [0.10000103]\n",
      "180 [0.2999995] [0.10000027]\n",
      "200 [0.29999986] [0.10000008]\n",
      "220 [0.29999986] [0.10000008]\n",
      "240 [0.29999986] [0.10000008]\n",
      "260 [0.29999986] [0.10000008]\n",
      "280 [0.29999986] [0.10000008]\n",
      "300 [0.29999986] [0.10000008]\n"
     ]
    }
   ],
   "source": [
    "with tf.Session() as sess:\n",
    "    sess.run(init)\n",
    "    for step in range(301):\n",
    "        sess.run(train)  # 只有运行了train op才训练了网络\n",
    "        if step % 20 == 0:\n",
    "            # 可以观测Weights越来越接近0.3，biases越来越接近0.1\n",
    "            print(step, sess.run(Weights), sess.run(biases))"
   ]
  }
 ],
 "metadata": {
  "kernelspec": {
   "display_name": "Python 3",
   "language": "python",
   "name": "python3"
  },
  "language_info": {
   "codemirror_mode": {
    "name": "ipython",
    "version": 3
   },
   "file_extension": ".py",
   "mimetype": "text/x-python",
   "name": "python",
   "nbconvert_exporter": "python",
   "pygments_lexer": "ipython3",
   "version": "3.6.5"
  }
 },
 "nbformat": 4,
 "nbformat_minor": 2
}
