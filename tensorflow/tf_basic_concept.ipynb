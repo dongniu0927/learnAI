{
 "cells": [
  {
   "cell_type": "markdown",
   "metadata": {},
   "source": [
    "# Tensorflow Basic Concept"
   ]
  },
  {
   "cell_type": "markdown",
   "metadata": {},
   "source": [
    "## 关于Tensorflow\n",
    "\n",
    "TF核心是**数据流图（Data flow graphs）**，可用于**数值计算**。其图中的节点（Node）表示数学操作；边（Edge）则表示多维数据的流动，即张量（Tensor）。\n",
    "\n",
    "TF的特性：\n",
    "\n",
    "- **可移植性（Portability）**：在CPU或GPU上运行，支持台式机，服务器，手机等设备\n",
    "- **性能最优化**：将硬件的计算潜能全部发挥出来\n",
    "- **自动求微分**：对于基于梯度的学习算法可自动求微分"
   ]
  },
  {
   "cell_type": "markdown",
   "metadata": {},
   "source": [
    "## 一般使用步骤\n",
    "\n",
    "1. **构建图**\n",
    "2. **计算误差**\n",
    "3. **选择一个优化器来训练网络**\n",
    "4. **执行图计算**\n",
    "\n",
    "下面展示了一个简单的例子："
   ]
  },
  {
   "cell_type": "code",
   "execution_count": 3,
   "metadata": {},
   "outputs": [
    {
     "name": "stdout",
     "output_type": "stream",
     "text": [
      "0 [[0.334971   0.25883147]] [0.28183356]\n",
      "20 [[0.14209764 0.20081656]] [0.27774435]\n",
      "40 [[0.1093827  0.19963202]] [0.29531085]\n",
      "60 [[0.10209645 0.19980331]] [0.2990087]\n",
      "80 [[0.10046954 0.19993219]] [0.2997897]\n",
      "100 [[0.10010538 0.19997986]] [0.29995522]\n",
      "120 [[0.1000237  0.19999444]] [0.29999042]\n",
      "140 [[0.10000534 0.19999854]] [0.29999793]\n",
      "160 [[0.10000122 0.19999963]] [0.29999956]\n",
      "180 [[0.10000027 0.19999991]] [0.29999992]\n",
      "200 [[0.1000001  0.19999997]] [0.29999995]\n"
     ]
    }
   ],
   "source": [
    "import tensorflow as tf\n",
    "import numpy as np\n",
    "\n",
    "# 生成假数据, 总共 100 个点.\n",
    "x_data = np.float32(np.random.rand(2, 100)) # 随机输入\n",
    "y_data = np.dot([0.100, 0.200], x_data) + 0.300\n",
    "\n",
    "# 构建图（线性模型）\n",
    "b = tf.Variable(tf.zeros([1]))\n",
    "W = tf.Variable(tf.random_uniform([1, 2], -1.0, 1.0))\n",
    "y = tf.matmul(W, x_data) + b\n",
    "\n",
    "# 计算误差（最小化方差）\n",
    "loss = tf.reduce_mean(tf.square(y - y_data))\n",
    "\n",
    "# 选择优化器训练网络\n",
    "optimizer = tf.train.GradientDescentOptimizer(0.5)\n",
    "train = optimizer.minimize(loss)\n",
    "\n",
    "# 执行图计算\n",
    "init = tf.initialize_all_variables()\n",
    "sess = tf.Session()\n",
    "sess.run(init)\n",
    "for step in range(0, 201):\n",
    "    sess.run(train)\n",
    "    if step % 20 == 0:\n",
    "        print(step, sess.run(W), sess.run(b))"
   ]
  },
  {
   "cell_type": "markdown",
   "metadata": {},
   "source": [
    "### 构建图\n",
    "\n",
    "TF使用图 (graph) 来表示计算任务，图中的节点被称之为**op（operation）**，一个 op获得0个或多个`Tensor`, 执行计算, 产生0个或多个`Tensor`。每个`Tensor`是一个类型化的多维数组，例如, 你可以将一小组图像集表示为一个四维浮点数数组, 这四个维度分别是`[batch, height, width, channels]`。\n",
    "\n",
    "Python库有一个**默认图 (default graph)**，如果没有显式的声明新图，那么构建的op会被放入默认图。\n",
    "\n",
    "如下例子里面包含3个op：两个`constant()op`, 和一个`matmul()op`，其中`constant()op`也被称为`源op（source op）`。"
   ]
  },
  {
   "cell_type": "code",
   "execution_count": 5,
   "metadata": {},
   "outputs": [],
   "source": [
    "# 构造器的返回值代表该常量 op 的返回值.\n",
    "matrix1 = tf.constant([[3., 3.]])\n",
    "\n",
    "# 创建另外一个常量 op, 产生一个 2x1 矩阵.\n",
    "matrix2 = tf.constant([[2.],[2.]])\n",
    "\n",
    "# 创建一个矩阵乘法 matmul op , 把 'matrix1' 和 'matrix2' 作为输入.\n",
    "# 返回值 'product' 代表矩阵乘法的结果.\n",
    "product = tf.matmul(matrix1, matrix2)"
   ]
  },
  {
   "cell_type": "markdown",
   "metadata": {},
   "source": [
    "### 执行图计算\n",
    "\n",
    "**构造阶段完成后, 才能启动图**. 启动图的第一步是创建一个`Session`对象, 如果无任何创建参数, 会话构造器将启动默认图. 其中`sess.run(op_output)`表示我想取某个op的输出值。\n",
    "\n",
    "如下例子执行了图：函数调用`run(product)`会触发了图中三个op(两个常量op和一个矩阵乘法op)的执行。"
   ]
  },
  {
   "cell_type": "code",
   "execution_count": 12,
   "metadata": {},
   "outputs": [
    {
     "name": "stdout",
     "output_type": "stream",
     "text": [
      "[[12.]]\n"
     ]
    }
   ],
   "source": [
    "# 'product'代表了矩阵乘法op的输出, 传入它是向方法表明, 我们希望取回矩阵乘法op的输出.\n",
    "with tf.Session() as sess:\n",
    "  res = sess.run(product)\n",
    "  print(res)"
   ]
  },
  {
   "cell_type": "markdown",
   "metadata": {},
   "source": [
    "在实现上, TensorFlow将图形定义转换成**分布式执行的操作**，以充分利用可用的计算资源（如 CPU 或 GPU），一般你不需要显式指定使用 CPU 还是 GPU。你可以使用类似`with tf.device(\"/gpu:1\"):`的方式显式的定义某个设备来执行。"
   ]
  },
  {
   "cell_type": "markdown",
   "metadata": {},
   "source": [
    "## 交互式使用\n",
    "\n",
    "使用`tf.InteractiveSession()`可以建立类似IPython之类的Python交互环境。使用`Tensor.eval()`和`Operation.run()`方法代替`Session.run()`, 这样可以避免使用一个变量来持有会话。"
   ]
  },
  {
   "cell_type": "code",
   "execution_count": 11,
   "metadata": {},
   "outputs": [
    {
     "name": "stderr",
     "output_type": "stream",
     "text": [
      "/Users/niudong/workon_home/py3/lib/python3.6/site-packages/tensorflow/python/client/session.py:1714: UserWarning: An interactive session is already active. This can cause out-of-memory errors in some cases. You must explicitly call `InteractiveSession.close()` to release resources held by the other session(s).\n",
      "  warnings.warn('An interactive session is already active. This can '\n"
     ]
    },
    {
     "name": "stdout",
     "output_type": "stream",
     "text": [
      "[1. 2.]\n",
      "[4. 5.]\n"
     ]
    }
   ],
   "source": [
    "import tensorflow as tf\n",
    "tf.InteractiveSession()\n",
    "\n",
    "x = tf.Variable([1.0, 2.0])\n",
    "a = tf.constant([3.0, 3.0])\n",
    "add_ = tf.add(x, a)\n",
    "\n",
    "init=tf.global_variables_initializer()\n",
    "init.run()\n",
    "\n",
    "print(x.eval())\n",
    "print(add_.eval())"
   ]
  },
  {
   "cell_type": "markdown",
   "metadata": {},
   "source": [
    "## 变量的创建，初始化，保存和加载\n",
    "\n",
    "创建变量可使用:\n",
    "\n",
    "- `tf.get_variable(name, shape, dtype, trainable)`: 获取一个已经存在的变量或者建立一个新的变量. 这个函数可以配合variable scope进行变量重用;\n",
    "- `tf.Variable(init_value, name, dtype, trainable)`:  根据初始值建立一个新的变量;\n",
    "\n",
    "最简单的保存和恢复模型的方法是使用`tf.train.Saver`对象。构造器给graph的所有变量，或是定义在列表里的变量，添加`save`和`restore`操作。\n",
    "\n",
    "使用例子如下："
   ]
  },
  {
   "cell_type": "code",
   "execution_count": 12,
   "metadata": {},
   "outputs": [
    {
     "name": "stdout",
     "output_type": "stream",
     "text": [
      "Model saved in file:  /tmp/model.ckpt\n",
      "INFO:tensorflow:Restoring parameters from /tmp/model.ckpt\n",
      "Model restored.\n"
     ]
    }
   ],
   "source": [
    "weights = tf.Variable(tf.random_normal([784, 200], stddev=0.35),\n",
    "                      name=\"weights\")\n",
    "biases = tf.Variable(tf.zeros([200]), name=\"biases\")\n",
    "\n",
    "# 定义save对象\n",
    "saver = tf.train.Saver()\n",
    "\n",
    "with tf.Session() as sess:\n",
    "    \n",
    "    # 初始化变量\n",
    "    init=tf.global_variables_initializer()\n",
    "    init.run()\n",
    "    \n",
    "    # save所有变量\n",
    "    save_path = saver.save(sess, \"/tmp/model.ckpt\")\n",
    "    print(\"Model saved in file: \", save_path)\n",
    "\n",
    "with tf.Session() as sess:\n",
    "    \n",
    "    # 加载变量\n",
    "    saver.restore(sess, \"/tmp/model.ckpt\")\n",
    "    print(\"Model restored.\")"
   ]
  }
 ],
 "metadata": {
  "kernelspec": {
   "display_name": "Python 3",
   "language": "python",
   "name": "python3"
  },
  "language_info": {
   "codemirror_mode": {
    "name": "ipython",
    "version": 3
   },
   "file_extension": ".py",
   "mimetype": "text/x-python",
   "name": "python",
   "nbconvert_exporter": "python",
   "pygments_lexer": "ipython3",
   "version": "3.5.2"
  }
 },
 "nbformat": 4,
 "nbformat_minor": 2
}
