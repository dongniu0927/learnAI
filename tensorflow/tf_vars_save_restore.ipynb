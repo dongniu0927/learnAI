{
 "cells": [
  {
   "cell_type": "markdown",
   "metadata": {},
   "source": [
    "# TF中变量的存储与更新\n",
    "\n",
    "TensorFlow Variables是内存中的容纳`tensor`的缓存。下面介绍了用它们在模型训练时(during training)保存和更新模型参数(model parameters) 的方法。"
   ]
  },
  {
   "cell_type": "code",
   "execution_count": 6,
   "metadata": {},
   "outputs": [],
   "source": [
    "import tensorflow as tf"
   ]
  },
  {
   "cell_type": "markdown",
   "metadata": {},
   "source": [
    "## 建立与存储变量\n",
    "\n",
    "由于`tf.global_variables_initializer()`是并行地初始化所有变量，用其它变量的值初始化一个新的变量时，需使用其它变量的`initialized_value()`属性。\n",
    "\n",
    "最简单的保存和恢复模型的方法是使用`tf.train.Saver`对象。构造器给graph的所有变量，或是定义在列表里的变量，添加save和restore操作。"
   ]
  },
  {
   "cell_type": "code",
   "execution_count": 8,
   "metadata": {},
   "outputs": [
    {
     "name": "stdout",
     "output_type": "stream",
     "text": [
      "Model saved in file:  /tmp/model.ckpt\n",
      "INFO:tensorflow:Restoring parameters from /tmp/model.ckpt\n",
      "Model restored.\n"
     ]
    }
   ],
   "source": [
    "weights = tf.Variable(tf.random_normal([784, 200], stddev=0.35),\n",
    "                      name=\"weights\")\n",
    "biases = tf.Variable(tf.zeros([200]), name=\"biases\")\n",
    "w2 = tf.Variable(weights.initialized_value(), name=\"w2\")\n",
    "\n",
    "# 定义save对象\n",
    "saver = tf.train.Saver()\n",
    "\n",
    "with tf.Session() as sess:\n",
    "    # 初始化变量\n",
    "    init=tf.global_variables_initializer()\n",
    "    init.run()\n",
    "    # save变量\n",
    "    save_path = saver.save(sess, \"/tmp/model.ckpt\")\n",
    "    print(\"Model saved in file: \", save_path)\n",
    "\n",
    "with tf.Session() as sess:\n",
    "    saver.restore(sess, \"/tmp/model.ckpt\")\n",
    "    print(\"Model restored.\")"
   ]
  }
 ],
 "metadata": {
  "kernelspec": {
   "display_name": "Python 3",
   "language": "python",
   "name": "python3"
  },
  "language_info": {
   "codemirror_mode": {
    "name": "ipython",
    "version": 3
   },
   "file_extension": ".py",
   "mimetype": "text/x-python",
   "name": "python",
   "nbconvert_exporter": "python",
   "pygments_lexer": "ipython3",
   "version": "3.5.2"
  }
 },
 "nbformat": 4,
 "nbformat_minor": 2
}
