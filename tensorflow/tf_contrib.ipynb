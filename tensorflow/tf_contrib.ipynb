{
 "cells": [
  {
   "cell_type": "markdown",
   "metadata": {},
   "source": [
    "# tf.contrib"
   ]
  },
  {
   "cell_type": "markdown",
   "metadata": {},
   "source": [
    "## [tf.contrib.layers.xavier_initializer](https://www.tensorflow.org/api_docs/python/tf/contrib/layers/xavier_initializer)\n",
    "\n",
    "返回一个初始化器, 其可以对权值实现的Xavier初始化. 它与`tf.contrib.layers.xavier_initializer_conv2d`功能一致. 其函数原型为:\n",
    "\n",
    "```bash\n",
    "tf.contrib.layers.xavier_initializer(\n",
    "    uniform=True,\n",
    "    seed=None,\n",
    "    dtype=tf.float32\n",
    ")\n",
    "```\n",
    "\n",
    "- `uniform`: 是使用均匀随机初始化还是正态分布随机初始化."
   ]
  },
  {
   "cell_type": "markdown",
   "metadata": {},
   "source": [
    "### [tf.contrib.layers.batch_norm](https://www.tensorflow.org/api_docs/python/tf/contrib/layers/batch_norm)\n",
    "\n",
    "对`conv2d`或者`fullu_connected`层进行batch归一化. 其函数原型为:\n",
    "\n",
    "```bash\n",
    "tf.contrib.layers.batch_norm(\n",
    "    inputs,\n",
    "    decay=0.999,\n",
    "    center=True,\n",
    "    scale=False,\n",
    "    epsilon=0.001,\n",
    "    activation_fn=None,\n",
    "    param_initializers=None,\n",
    "    param_regularizers=None,\n",
    "    updates_collections=tf.GraphKeys.UPDATE_OPS,\n",
    "    is_training=True,\n",
    "    reuse=None,\n",
    "    variables_collections=None,\n",
    "    outputs_collections=None,\n",
    "    trainable=True,\n",
    "    batch_weights=None,\n",
    "    fused=None,\n",
    "    data_format=DATA_FORMAT_NHWC,\n",
    "    zero_debias_moving_mean=False,\n",
    "    scope=None,\n",
    "    renorm=False,\n",
    "    renorm_clipping=None,\n",
    "    renorm_decay=0.99,\n",
    "    adjustment=None\n",
    ")\n",
    "```\n",
    "- `inputs`: 一个至少有2维的tensor, 且第1维是`batch_size`, 对于`data_format`是`NHWC`, 归一化会应用在非`C`维的其他维度；\n",
    "- `decay`: 平均移动衰减. 合理值应该接近1;\n",
    "- `center`: 为True会增加`beta`偏移;\n",
    "- `scale`: 为True会乘以缩放参数`gamma`;\n",
    "- `epsilon`: 一个小数在分母避免除以0;\n",
    "- `is_training`: layer是不是train模式."
   ]
  },
  {
   "cell_type": "markdown",
   "metadata": {},
   "source": [
    "### [tf.contrib.metrics.accuracy](https://www.tensorflow.org/api_docs/python/tf/contrib/metrics/accuracy)\n",
    "\n",
    "计算预测与labels的匹配度。其函数原型为：\n",
    "\n",
    "```bash\n",
    "tf.contrib.metrics.accuracy(\n",
    "    predictions,\n",
    "    labels,\n",
    "    weights=None,\n",
    "    name=None\n",
    ")\n",
    "```\n",
    "使用例子如下："
   ]
  },
  {
   "cell_type": "code",
   "execution_count": 9,
   "metadata": {},
   "outputs": [
    {
     "name": "stdout",
     "output_type": "stream",
     "text": [
      "0.5\n"
     ]
    }
   ],
   "source": [
    "import tensorflow as tf\n",
    "\n",
    "y_ = tf.constant([[1.0, 2.0, 3.0], [2.0, 4.0, 6.0]])\n",
    "y = tf.constant([[0, 0, 1.0], [0, 1.0, 0]])\n",
    "\n",
    "accuracy = tf.contrib.metrics.accuracy(tf.argmax(tf.nn.softmax(y_), 1), \n",
    "                            tf.argmax(y, 1))\n",
    "\n",
    "with tf.Session() as sess:\n",
    "    print(sess.run(accuracy))\n",
    "\n"
   ]
  }
 ],
 "metadata": {
  "kernelspec": {
   "display_name": "Python 3",
   "language": "python",
   "name": "python3"
  },
  "language_info": {
   "codemirror_mode": {
    "name": "ipython",
    "version": 3
   },
   "file_extension": ".py",
   "mimetype": "text/x-python",
   "name": "python",
   "nbconvert_exporter": "python",
   "pygments_lexer": "ipython3",
   "version": "3.6.5"
  }
 },
 "nbformat": 4,
 "nbformat_minor": 2
}
