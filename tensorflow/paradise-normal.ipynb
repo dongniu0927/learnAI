{
 "cells": [
  {
   "cell_type": "code",
   "execution_count": 3,
   "metadata": {},
   "outputs": [],
   "source": [
    "import tensorflow as tf\n",
    "import numpy as np"
   ]
  },
  {
   "cell_type": "code",
   "execution_count": 4,
   "metadata": {},
   "outputs": [
    {
     "name": "stdout",
     "output_type": "stream",
     "text": [
      "Output of static rnn: <tf.Variable 'Variable:0' shape=(3, 2, 3) dtype=float32_ref>\n",
      "Trans: Tensor(\"transpose:0\", shape=(2, 3, 3), dtype=float32)\n"
     ]
    }
   ],
   "source": [
    "_ = tf.Variable([\n",
    "    [[1.0, 2, 3], [4, 5, 6]], \n",
    "    [[1, 1, 1], [2, 2, 2]], \n",
    "    [[3, 2, 1],[6, 5, 4]]\n",
    "                ])\n",
    "print(\"Output of static rnn:\", _)  # time_steps * bsz * embed_sz\n",
    "\n",
    "_trans = tf.transpose(tf.stack(_, axis=0), perm=[1, 0, 2])  # (bsz, time_steps, embed_sz)\n",
    "print(\"Trans:\", _trans)\n",
    "\n",
    "bsz = 2\n",
    "time_steps = 3\n",
    "\n",
    "query_embeds = tf.cast(tf.Variable([[1.0, 2, 3], [2, 2, 2]]), tf.float32)\n",
    "\n",
    "S_len = tf.Variable([2, 3])\n",
    "\n",
    "\n",
    "a = tf.reduce_sum(_trans[0][:S_len[0]] * query_embeds[0], axis=1)\n",
    "b = tf.nn.softmax(a, axis=0)\n",
    "c = tf.expand_dims(b, 1) * _trans[0][:S_len[0]]\n",
    "d = tf.reduce_sum(c, axis=0)\n",
    "\n",
    "# vv = tf.stack([tf.reduce_sum(tf.expand_dims(tf.nn.softmax(tf.reduce_sum(_trans[i][:S_len[i]] * query_embeds[i], axis=1), axis=0)\n",
    "#                                    , 1) * _trans[i][:S_len[i]], axis=0) for i in range(bsz)])\n",
    "\n",
    "# print(\"vv:\", vv)\n",
    "\n"
   ]
  },
  {
   "cell_type": "code",
   "execution_count": 5,
   "metadata": {},
   "outputs": [
    {
     "name": "stdout",
     "output_type": "stream",
     "text": [
      "Tensor(\"Softmax_1:0\", shape=(2, 3), dtype=float32)\n"
     ]
    }
   ],
   "source": [
    "k = tf.Variable([[1, 2, 3.0], [4, 5, 6]])\n",
    "kk = tf.nn.softmax(logits=k)\n",
    "kkk = tf.argmax(kk, 1)\n",
    "print(kk)"
   ]
  },
  {
   "cell_type": "code",
   "execution_count": 6,
   "metadata": {},
   "outputs": [
    {
     "name": "stdout",
     "output_type": "stream",
     "text": [
      "[14.  6.]\n",
      "[9.9966466e-01 3.3535014e-04]\n",
      "[[9.9966466e-01 1.9993293e+00 2.9989939e+00]\n",
      " [3.3535014e-04 3.3535014e-04 3.3535014e-04]]\n",
      "[1.        1.9996647 2.9993293]\n",
      "[[0.09003057 0.24472848 0.66524094]\n",
      " [0.09003057 0.24472848 0.66524094]]\n",
      "[2 2]\n"
     ]
    }
   ],
   "source": [
    "with tf.Session() as sess:\n",
    "    sess.run(tf.global_variables_initializer())\n",
    "    print(sess.run(a))\n",
    "    print(sess.run(b))\n",
    "    print(sess.run(c))\n",
    "    print(sess.run(d))\n",
    "#     print(\"vv:\", sess.run(vv))\n",
    "    print(sess.run(kk))\n",
    "    print(sess.run(kkk))"
   ]
  },
  {
   "cell_type": "code",
   "execution_count": 7,
   "metadata": {},
   "outputs": [
    {
     "name": "stdout",
     "output_type": "stream",
     "text": [
      "Tensor(\"Placeholder:0\", dtype=float32)\n"
     ]
    }
   ],
   "source": [
    "a = tf.placeholder(dtype=tf.float32)\n",
    "print(a)"
   ]
  },
  {
   "cell_type": "code",
   "execution_count": 8,
   "metadata": {},
   "outputs": [
    {
     "ename": "AttributeError",
     "evalue": "'list' object has no attribute 'split'",
     "output_type": "error",
     "traceback": [
      "\u001b[1;31m---------------------------------------------------------------------------\u001b[0m",
      "\u001b[1;31mAttributeError\u001b[0m                            Traceback (most recent call last)",
      "\u001b[1;32m<ipython-input-8-28fff5659e57>\u001b[0m in \u001b[0;36m<module>\u001b[1;34m()\u001b[0m\n\u001b[0;32m      1\u001b[0m \u001b[0ma\u001b[0m \u001b[1;33m=\u001b[0m \u001b[1;33m[\u001b[0m\u001b[1;33m[\u001b[0m\u001b[1;36m1\u001b[0m\u001b[1;33m,\u001b[0m \u001b[1;36m2\u001b[0m\u001b[1;33m]\u001b[0m\u001b[1;33m,\u001b[0m\u001b[1;33m[\u001b[0m\u001b[1;36m4\u001b[0m\u001b[1;33m,\u001b[0m \u001b[1;36m5\u001b[0m\u001b[1;33m]\u001b[0m\u001b[1;33m,\u001b[0m \u001b[1;34m\"a\"\u001b[0m\u001b[1;33m,\u001b[0m \u001b[1;33m[\u001b[0m\u001b[1;36m3\u001b[0m\u001b[1;33m,\u001b[0m \u001b[1;36m4\u001b[0m\u001b[1;33m]\u001b[0m\u001b[1;33m]\u001b[0m\u001b[1;33m\u001b[0m\u001b[0m\n\u001b[1;32m----> 2\u001b[1;33m \u001b[0mb\u001b[0m \u001b[1;33m=\u001b[0m \u001b[0ma\u001b[0m\u001b[1;33m.\u001b[0m\u001b[0msplit\u001b[0m\u001b[1;33m(\u001b[0m\u001b[1;34m\"a\"\u001b[0m\u001b[1;33m)\u001b[0m\u001b[1;33m\u001b[0m\u001b[0m\n\u001b[0m",
      "\u001b[1;31mAttributeError\u001b[0m: 'list' object has no attribute 'split'"
     ]
    }
   ],
   "source": [
    "a = [[1, 2],[4, 5], \"a\", [3, 4]]\n",
    "b = a.split(\"a\")"
   ]
  },
  {
   "cell_type": "code",
   "execution_count": 18,
   "metadata": {},
   "outputs": [
    {
     "name": "stdout",
     "output_type": "stream",
     "text": [
      "<tf.Variable 'Variable_18:0' shape=(2, 3, 2) dtype=int32_ref>\n",
      "<tf.Variable 'Variable_19:0' shape=(2, 2) dtype=int32_ref>\n",
      "Tensor(\"ExpandDims_3:0\", shape=(2, 1, 2), dtype=int32)\n",
      "Tensor(\"mul_4:0\", shape=(2, 3, 2), dtype=int32)\n"
     ]
    }
   ],
   "source": [
    "a = tf.Variable([[[1, 1], [2, 2], [3, 3]], [[4,4], [5,5], [6,6]]])  # (bsz, candidates_num, embed_sz)\n",
    "print(a)\n",
    "b = tf.Variable([[1, 2], [3, 4]])  # (bsz, embed_sz)\n",
    "print(b)\n",
    "b = tf.expand_dims(b, axis=1)\n",
    "print(b)\n",
    "c = a*b\n",
    "print(c)"
   ]
  }
 ],
 "metadata": {
  "kernelspec": {
   "display_name": "Python 3",
   "language": "python",
   "name": "python3"
  },
  "language_info": {
   "codemirror_mode": {
    "name": "ipython",
    "version": 3
   },
   "file_extension": ".py",
   "mimetype": "text/x-python",
   "name": "python",
   "nbconvert_exporter": "python",
   "pygments_lexer": "ipython3",
   "version": "3.6.5"
  }
 },
 "nbformat": 4,
 "nbformat_minor": 2
}
