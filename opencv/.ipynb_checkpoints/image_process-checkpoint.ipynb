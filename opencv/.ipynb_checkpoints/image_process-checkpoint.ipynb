{
 "cells": [
  {
   "cell_type": "markdown",
   "metadata": {},
   "source": [
    "# Image Process\n",
    "\n",
    "存储常见的使用cv2做的一些图片处理方法.\n"
   ]
  },
  {
   "cell_type": "code",
   "execution_count": 1,
   "metadata": {},
   "outputs": [
    {
     "name": "stdout",
     "output_type": "stream",
     "text": [
      "CV2版本:  3.4.3\n"
     ]
    }
   ],
   "source": [
    "# pip install opencv-python\n",
    "import cv2\n",
    "print(\"CV2版本: \", cv2.__version__)"
   ]
  },
  {
   "cell_type": "markdown",
   "metadata": {},
   "source": [
    "## 读取图片\n",
    "\n",
    "使用`cv2.imread()`来读取图片, 其函数原型如下:\n",
    "\n",
    "```bash\n",
    "cv2.imread(path, flags)\n",
    "```\n",
    "参数说明:\n",
    "\n",
    "- `path`: 图片路径, 可以使用相对路径或者绝对路径;\n",
    "- `flags`: 如何加载图片, 取值如下:\n",
    "\n",
    "  - `cv2.IMREAD_COLOR`: 读取一副彩色图片，图片的透明度会被忽略, 默认为该值, 取值1;\n",
    "  - `cv2.IMREAD_GRAYSCALE`: 以灰度模式读取一张图片，取值0;\n",
    "  - `cv2.IMREAD_UNCHANGED`: 加载一副彩色图像，透明度不会被忽略;\n",
    "\n",
    "返回值:\n",
    "\n",
    "- 给定的图片路径不对, 返回`None`;\n",
    "- 正确的路径返回一个`[height, width, channel]`的`numpy.ndarray`对象;"
   ]
  },
  {
   "cell_type": "code",
   "execution_count": 2,
   "metadata": {},
   "outputs": [
    {
     "data": {
      "text/plain": [
       "113"
      ]
     },
     "execution_count": 2,
     "metadata": {},
     "output_type": "execute_result"
    }
   ],
   "source": [
    "img1 = cv2.imread(\"./resources/dog.jpg\")\n",
    "cv2.imshow(\"Dog\", img1)\n",
    "cv2.waitKey(0)"
   ]
  },
  {
   "cell_type": "markdown",
   "metadata": {},
   "source": [
    "## 显示图片\n",
    "\n",
    "使用`cv2.imshow()`函数在一个窗口中显示图片，这个窗口自适应图片的大小, 函数原型为:\n",
    "\n",
    "```bash\n",
    "cv2.imshow(winname, mat)\n",
    "```\n",
    "\n",
    "参数说明:\n",
    "\n",
    "- `winname`: 一个字符串，表示创建的窗口名字，每一个窗口必须有一个唯一的名字；\n",
    "- `mat`: 是一个图片矩阵，numpy.ndarray类型, 图片维度为`[height, width, channel]`;"
   ]
  },
  {
   "cell_type": "markdown",
   "metadata": {},
   "source": [
    "## 存储图片\n",
    "\n",
    "使用`cv2.imwrite()`函数来保存图片，函数原型如下:\n",
    "\n",
    "```python\n",
    "cv2.imwrite(filename, img)\n",
    "```\n",
    "参数说明:\n",
    "\n",
    "- `filename`: 保存文件的路径名;\n",
    "- `img`: 表示图像的`numpy.ndarray`对象;"
   ]
  },
  {
   "cell_type": "markdown",
   "metadata": {},
   "source": [
    "## 完整例子"
   ]
  },
  {
   "cell_type": "code",
   "execution_count": 1,
   "metadata": {},
   "outputs": [],
   "source": [
    "import numpy as np\n",
    "import cv2\n",
    "\n",
    "img = cv2.imread(\"./resources/dog.jpg\", 0)\n",
    "cv2.imshow('Dog',img)\n",
    "k = cv2.waitKey(0)  # 64位机器使用: k = cv2.waitKey(0) & 0xFF\n",
    "if k == 27:         # 按下esc时，退出\n",
    "    cv2.destroyAllWindows()\n",
    "elif k == ord('s'): # 按下s键时保存并退出\n",
    "    cv2.imwrite('./resources/grey_dog.jpg',img)\n",
    "    cv2.destroyAllWindows()"
   ]
  },
  {
   "cell_type": "markdown",
   "metadata": {},
   "source": [
    "## 参考文档\n",
    "\n",
    "- [OpenCV——图片的加载、显示、保存(python)](https://blog.csdn.net/u014630987/article/details/76713814)"
   ]
  }
 ],
 "metadata": {
  "kernelspec": {
   "display_name": "Python 2",
   "language": "python",
   "name": "python2"
  },
  "language_info": {
   "codemirror_mode": {
    "name": "ipython",
    "version": 3
   },
   "file_extension": ".py",
   "mimetype": "text/x-python",
   "name": "python",
   "nbconvert_exporter": "python",
   "pygments_lexer": "ipython3",
   "version": "3.5.2"
  }
 },
 "nbformat": 4,
 "nbformat_minor": 2
}
