{
 "cells": [
  {
   "cell_type": "markdown",
   "metadata": {},
   "source": [
    "# RNN循环神经网络\n",
    "\n",
    "RNN是一种主要用于处理时序数据的深度模型. 其常涉及的工作如:\n",
    "\n",
    "- **语音识别(Speech recognition)**: 给一段讲话的语音,将其转化为文字表述(多对多);\n",
    "- **音乐生成(Music generation)**: 给一个音符, 生成一段音乐(一对多);\n",
    "- **情感分类(Sentiment classification)**: 给一段某商品下用户的留言, 为用户留言的情感分类(消极或者积极)(多对一);\n",
    "- **机器翻译(Machine translation)**: 将一种语言翻译成另一种语言(多对多);\n",
    "- **视频运动分析(Video activity recognition)**: 给一段视频,然后要求你识别其中的行为(多对一);\n",
    "- **命名实体识别(Name entity recognition)**: 给定一个句子要你识别出句中的人名(多对多);\n",
    "\n",
    "可以发现,上面问题的输入$X$输出$Y$大部分都是**时序序列**, 这是RNN可处理问题的一大特征."
   ]
  }
 ],
 "metadata": {
  "kernelspec": {
   "display_name": "Python 3",
   "language": "python",
   "name": "python3"
  },
  "language_info": {
   "codemirror_mode": {
    "name": "ipython",
    "version": 3
   },
   "file_extension": ".py",
   "mimetype": "text/x-python",
   "name": "python",
   "nbconvert_exporter": "python",
   "pygments_lexer": "ipython3",
   "version": "3.5.2"
  }
 },
 "nbformat": 4,
 "nbformat_minor": 2
}
