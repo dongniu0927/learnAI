{
 "cells": [
  {
   "cell_type": "markdown",
   "metadata": {},
   "source": [
    "# 强化学习（reinforcement learning）\n",
    "\n",
    "**强化学习RL是机器学习算法中的一大分支**。它的本质是**解决Decision Making问题**。使用它可以让计算机从一开始什么都不懂，通过不断的与环境**交互**，**试错**，**累积经验**，**学习经验**，最终学习到一个最优策略，这个策略可以在与环境的交互中获得更高的奖励。\n",
    "\n",
    "运用RL的例子有很多：\n",
    "\n",
    "- 如Alpha Go代表机器第一次在围棋上战胜人类\n",
    "- 如让计算机学会自己玩Atari，星际争霸等游戏 \n",
    "\n",
    "RL包含四个主要元素：\n",
    "\n",
    "- **Agent**：智能体\n",
    "- **Environment**：智能体所处环境状态\n",
    "- **Action**：智能体每一步采取的动作\n",
    "- **Reward**：智能体每采取一个动作后环境的反馈\n",
    "\n",
    "RL的目标就是**获得最多的累计奖励**，其模型架构如下：\n",
    "\n",
    "![intro1](./resources/intro1.png)\n",
    "\n",
    "上图大脑就是智能体（Agent），地球是环境（Environment），在每个时刻$t$:\n",
    "\n",
    "- Agent要做的是：\n",
    "\n",
    "  - 观察环境状态$O_t$\n",
    "  - 计算环境反馈的奖励收益$R_t$\n",
    "  - 做出行动$A_t$\n",
    "\n",
    "- Environment要做的是：\n",
    "\n",
    "  - 感知Agent的$A_t$\n",
    "  - 做出环境反应$O_{t+1}$\n",
    "  - 给出反馈$R_{t+1}$"
   ]
  },
  {
   "cell_type": "markdown",
   "metadata": {},
   "source": [
    "## 参考文档\n",
    "\n",
    "- [一文了解强化学习](https://blog.csdn.net/aliceyangxi1987/article/details/73327378)"
   ]
  }
 ],
 "metadata": {
  "kernelspec": {
   "display_name": "Python 3",
   "language": "python",
   "name": "python3"
  },
  "language_info": {
   "codemirror_mode": {
    "name": "ipython",
    "version": 3
   },
   "file_extension": ".py",
   "mimetype": "text/x-python",
   "name": "python",
   "nbconvert_exporter": "python",
   "pygments_lexer": "ipython3",
   "version": "3.6.5"
  }
 },
 "nbformat": 4,
 "nbformat_minor": 2
}
