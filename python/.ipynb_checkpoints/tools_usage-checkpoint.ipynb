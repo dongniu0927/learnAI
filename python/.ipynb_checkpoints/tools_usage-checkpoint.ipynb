{
 "cells": [
  {
   "cell_type": "markdown",
   "metadata": {},
   "source": [
    "# Tools Usage"
   ]
  },
  {
   "cell_type": "code",
   "execution_count": 9,
   "metadata": {},
   "outputs": [],
   "source": [
    "from natsort import natsorted\n",
    "import glob"
   ]
  },
  {
   "cell_type": "markdown",
   "metadata": {},
   "source": [
    "## Natsort\n",
    "\n",
    "Python中简单且灵活的排序库，使用一种更自然的方式来排序。\n",
    "\n",
    "官方文档请查看[natsort](https://pypi.org/project/natsort/)。\n"
   ]
  },
  {
   "cell_type": "code",
   "execution_count": 16,
   "metadata": {},
   "outputs": [
    {
     "name": "stdout",
     "output_type": "stream",
     "text": [
      "['1 ft 5 in', '10 ft 2 in', '2 ft 11 in', '2 ft 7 in', '7 ft 6 in']\n",
      "['1 ft 5 in', '2 ft 7 in', '2 ft 11 in', '7 ft 6 in', '10 ft 2 in']\n"
     ]
    }
   ],
   "source": [
    "a = ['2 ft 7 in', '1 ft 5 in', '10 ft 2 in', '2 ft 11 in', '7 ft 6 in']\n",
    "print(sorted(a))  # 原生排序\n",
    "b = natsorted(a)  # 根据意义来排序，更自然的排序方式\n",
    "print(b)"
   ]
  },
  {
   "cell_type": "markdown",
   "metadata": {},
   "source": [
    "## Glob\n",
    "\n",
    "python在模块glob中定义了`glob()`函数，实现对文件目录内容进行匹配搜索，且可使用通配符，用它可以查找符合自己目的的文件。函数原型如下：\n",
    "\n",
    "```bash\n",
    "glob.glob(\n",
    "    pathname='',\n",
    "    recursive=False\n",
    ")\n",
    "```\n",
    "\n",
    "- `pathname`: 为需要匹配的字符串，尽量使用`'r'`开头；\n",
    "- `recursive`: 是否递归调用；\n",
    "\n",
    "通配符列表：\n",
    "\n",
    "- `*`: 匹配0或多个字符\n",
    "- `?`: 匹配1个字符\n",
    "- `[exp]`: 匹配指定范围内的字符，如: `[1-9]`匹配1至9范围内的字符\n",
    "- `[!exp]`: 匹配不在指定范围内的字符\n",
    "\n",
    "另还有`glob.iglob()`函数与上面函数功能基本一致，只是返回的是迭代器。"
   ]
  },
  {
   "cell_type": "code",
   "execution_count": 17,
   "metadata": {},
   "outputs": [
    {
     "name": "stdout",
     "output_type": "stream",
     "text": [
      "['./tools_usage.ipynb', './advanced_usage.ipynb', './readme.md']\n"
     ]
    }
   ],
   "source": [
    "print(glob.glob(r'./*'))"
   ]
  },
  {
   "cell_type": "markdown",
   "metadata": {},
   "source": [
    "## Pickle\n",
    "\n",
    "在机器学习中，我们常常需要把训练好的模型存储起来，这样在进行决策时直接将模型读出，而不需要重新训练模型，这样就大大节约了时间。Python提供的pickle模块就很好地解决了这个问题，它可以**序列化对象并保存到磁盘中，并在需要的时候读取出来，任何对象都可以执行序列化操作**。\n",
    "\n",
    "包含的函数包括：\n",
    "\n",
    "- `pickle.dump(obj, file, [,protocol])`: 将obj对象序列化存入已经打开的file中。\n",
    "\n",
    "  - `obj`：想要序列化的obj对象；\n",
    "  - `file`：文件名称；\n",
    "\n",
    "- `pickle.load(file)`: 将file中的对象序列化读出。\n",
    "\n",
    "  - `file`：文件名称\n",
    "  \n",
    "- `pickle.dumps(obj[, protocol])`:将obj对象序列化为string形式，而不是存入文件中。\n",
    "\n",
    "- `pickle.loads(string)`:从string中读出序列化前的obj对象。"
   ]
  },
  {
   "cell_type": "code",
   "execution_count": 22,
   "metadata": {},
   "outputs": [
    {
     "name": "stdout",
     "output_type": "stream",
     "text": [
      "Load...\n",
      "[[1, 1, 'yes'], [1, 1, 'yes'], [1, 0, 'no'], [0, 1, 'no'], [0, 1, 'no']]\n",
      "{0: [1, 2, 3, 4], 1: ('a', 'b'), 2: {'c': 'yes', 'd': 'no'}}\n",
      "Loads...\n",
      "[[1, 1, 'yes'], [1, 1, 'yes'], [1, 0, 'no'], [0, 1, 'no'], [0, 1, 'no']]\n",
      "{0: [1, 2, 3, 4], 1: ('a', 'b'), 2: {'c': 'yes', 'd': 'no'}}\n"
     ]
    }
   ],
   "source": [
    "import pickle  \n",
    "dataList = [[1, 1, 'yes'],  \n",
    "            [1, 1, 'yes'],  \n",
    "            [1, 0, 'no'],  \n",
    "            [0, 1, 'no'],  \n",
    "            [0, 1, 'no']]  \n",
    "dataDic = { 0: [1, 2, 3, 4],  \n",
    "            1: ('a', 'b'),  \n",
    "            2: {'c':'yes','d':'no'}}  \n",
    "\n",
    "filename = \"pickle_sample.txt\"\n",
    "  \n",
    "#使用dump()将数据序列化到文件中  \n",
    "fw = open(filename,'wb')  \n",
    "# Pickle the list using the highest protocol available.  \n",
    "pickle.dump(dataList, fw, -1)  \n",
    "# Pickle dictionary using protocol 0.  \n",
    "pickle.dump(dataDic, fw)  \n",
    "fw.close()  \n",
    "  \n",
    "#使用load()将数据从文件中序列化读出  \n",
    "print(\"Load...\")\n",
    "fr = open(filename,'rb')  \n",
    "data1 = pickle.load(fr)  \n",
    "print(data1)  \n",
    "data2 = pickle.load(fr)  \n",
    "print(data2)  \n",
    "fr.close()  \n",
    "  \n",
    "#使用dumps()和loads()举例  \n",
    "print(\"Loads...\")\n",
    "p = pickle.dumps(dataList)  \n",
    "print( pickle.loads(p) )  \n",
    "p = pickle.dumps(dataDic)  \n",
    "print( pickle.loads(p) ) "
   ]
  },
  {
   "cell_type": "markdown",
   "metadata": {},
   "source": [
    "## OrderedDict\n",
    "\n",
    "传统的python字典是无序的，因为它是按照hash来存储的。 本对象实现了对字典对象中元素的有序存储。\n",
    "\n",
    "实现例子如下:"
   ]
  },
  {
   "cell_type": "code",
   "execution_count": 5,
   "metadata": {},
   "outputs": [
    {
     "name": "stdout",
     "output_type": "stream",
     "text": [
      "b B\n",
      "a A\n",
      "c C\n",
      "a A\n",
      "b B\n",
      "c C\n"
     ]
    }
   ],
   "source": [
    "from collections import OrderedDict\n",
    "# 传统python字典\n",
    "d={}\n",
    "d['a']='A'\n",
    "d['b']='B'\n",
    "d['c']='C'\n",
    "for k,v in d.items():\n",
    "    print(k,v)\n",
    "# OrderedDict\n",
    "d1 = OrderedDict()\n",
    "d1['a'] = 'A'\n",
    "d1['b'] = 'B'\n",
    "d1['c'] = 'C'\n",
    "for k,v in d1.items():\n",
    "    print(k,v)"
   ]
  }
 ],
 "metadata": {
  "kernelspec": {
   "display_name": "Python 3",
   "language": "python",
   "name": "python3"
  },
  "language_info": {
   "codemirror_mode": {
    "name": "ipython",
    "version": 3
   },
   "file_extension": ".py",
   "mimetype": "text/x-python",
   "name": "python",
   "nbconvert_exporter": "python",
   "pygments_lexer": "ipython3",
   "version": "3.6.5"
  }
 },
 "nbformat": 4,
 "nbformat_minor": 2
}
