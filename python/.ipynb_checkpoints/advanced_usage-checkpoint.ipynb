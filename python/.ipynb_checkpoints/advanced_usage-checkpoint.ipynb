{
 "cells": [
  {
   "cell_type": "markdown",
   "metadata": {},
   "source": [
    "## Python高级使用"
   ]
  },
  {
   "cell_type": "code",
   "execution_count": 16,
   "metadata": {},
   "outputs": [],
   "source": [
    "# import track\n",
    "import numpy as np\n",
    "import tensorflow as tf"
   ]
  },
  {
   "cell_type": "markdown",
   "metadata": {},
   "source": [
    "### With块的使用\n",
    "\n",
    "自定义With块对象需要实现`__enter__`与`__exit__`函数：\n",
    "\n",
    "- `__enter__()`：在使用with语句时调用，会话管理器在代码块开始前调用，返回值与as后的参数绑定；  \n",
    "- `__exit__()`：会话管理器在代码块执行完成好后调用，在with语句完成时，对象销毁之前调用，如果with里面的代码块有异常，会把异常类型，异常值，异常跟踪信息分别赋值给函数参数`exc_type`, `exc_val`, `exc_tb`, 没有异常这几个值则都是`None`。\n",
    "\n",
    "例子代码如下："
   ]
  },
  {
   "cell_type": "code",
   "execution_count": null,
   "metadata": {},
   "outputs": [],
   "source": [
    "class WithTest(object):\n",
    "    \n",
    "    def __init__(self, name):\n",
    "        self.name=name\n",
    "        \n",
    "    def __enter__(self):\n",
    "        print(\"Entered the with block...\")\n",
    "        # 一般都返回self\n",
    "        return self\n",
    "    \n",
    "    def __exit__(self, exc_type, exc_val, exc_tb):\n",
    "        print(\"Finished the with block.\")\n",
    "\n",
    "with WithTest('with') as test:\n",
    "    print(\"Execting with block...\")"
   ]
  },
  {
   "cell_type": "markdown",
   "metadata": {},
   "source": [
    "### numpy与list"
   ]
  },
  {
   "cell_type": "code",
   "execution_count": 25,
   "metadata": {},
   "outputs": [
    {
     "name": "stdout",
     "output_type": "stream",
     "text": [
      "[[1 2 3]\n",
      " [4 5 6]] <class 'numpy.ndarray'>\n",
      "Tensor(\"Const_12:0\", shape=(2, 1), dtype=int32)\n",
      "Tensor(\"Reshape_4:0\", shape=(2, 3, 2), dtype=int32)\n",
      "Tensor(\"Mean_2:0\", shape=(2, 2), dtype=int32)\n",
      "[[ 3  4]\n",
      " [ 9 10]]\n"
     ]
    }
   ],
   "source": [
    "a = np.array([1, 2, 3])\n",
    "b = np.array([4, 5, 6])\n",
    "c = np.array([a, b])\n",
    "print(c, type(c))\n",
    "\n",
    "a = tf.constant([[1], [2]])\n",
    "print(a)\n",
    "\n",
    "def cal_output(task_out, size0):\n",
    "    temp = tf.reshape(task_out, (size0, -1, task_out.get_shape()[-1]))\n",
    "    print(temp)\n",
    "    temp = tf.reduce_mean(temp, reduction_indices=1)\n",
    "    print(temp)\n",
    "    return temp\n",
    "\n",
    "d = tf.constant([[1, 2], [3, 4], [5, 6], [7, 8], [9, 10], [11, 12]])\n",
    "\n",
    "temp = cal_output(d, 2)\n",
    "\n",
    "sess = tf.Session()\n",
    "print(sess.run(temp))"
   ]
  },
  {
   "cell_type": "code",
   "execution_count": null,
   "metadata": {},
   "outputs": [],
   "source": [
    "for k in range(self.num_samples_per_class):\n",
    "    class_idxs = tf.range(0, self.num_classes)\n",
    "    class_idxs = tf.random_shuffle(class_idxs)\n",
    "\n",
    "    true_idxs = class_idxs*self.num_samples_per_class + k\n",
    "    new_list.append(tf.gather(image_batch,true_idxs))\n",
    "    if FLAGS.datasource == 'omniglot': # and FLAGS.train:\n",
    "        new_list[-1] = tf.stack([tf.reshape(tf.image.rot90(\n",
    "            tf.reshape(new_list[-1][ind], [self.img_size[0],self.img_size[1],1]),\n",
    "            k=tf.cast(rotations[0,class_idxs[ind]], tf.int32)), (self.dim_input,))\n",
    "            for ind in range(self.num_classes)])\n",
    "    new_label_list.append(tf.gather(label_batch, true_idxs))"
   ]
  }
 ],
 "metadata": {
  "kernelspec": {
   "display_name": "Python 3",
   "language": "python",
   "name": "python3"
  },
  "language_info": {
   "codemirror_mode": {
    "name": "ipython",
    "version": 3
   },
   "file_extension": ".py",
   "mimetype": "text/x-python",
   "name": "python",
   "nbconvert_exporter": "python",
   "pygments_lexer": "ipython3",
   "version": "3.6.5"
  }
 },
 "nbformat": 4,
 "nbformat_minor": 2
}
