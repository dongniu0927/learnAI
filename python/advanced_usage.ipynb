{
 "cells": [
  {
   "cell_type": "markdown",
   "metadata": {},
   "source": [
    "## Python高级使用"
   ]
  },
  {
   "cell_type": "code",
   "execution_count": null,
   "metadata": {},
   "outputs": [],
   "source": [
    "import track"
   ]
  },
  {
   "cell_type": "markdown",
   "metadata": {},
   "source": [
    "### With块的使用\n",
    "\n",
    "自定义With块对象需要实现`__enter__`与`__exit__`函数：\n",
    "\n",
    "- `__enter__()`：在使用with语句时调用，会话管理器在代码块开始前调用，返回值与as后的参数绑定；  \n",
    "- `__exit__()`：会话管理器在代码块执行完成好后调用，在with语句完成时，对象销毁之前调用，如果with里面的代码块有异常，会把异常类型，异常值，异常跟踪信息分别赋值给函数参数`exc_type`, `exc_val`, `exc_tb`, 没有异常这几个值则都是`None`。\n",
    "\n",
    "例子代码如下："
   ]
  },
  {
   "cell_type": "code",
   "execution_count": 1,
   "metadata": {},
   "outputs": [
    {
     "name": "stdout",
     "output_type": "stream",
     "text": [
      "Entered the with block...\n",
      "Execting with block...\n",
      "Finished the with block.\n"
     ]
    }
   ],
   "source": [
    "class WithTest(object):\n",
    "    \n",
    "    def __init__(self, name):\n",
    "        self.name=name\n",
    "        \n",
    "    def __enter__(self):\n",
    "        print(\"Entered the with block...\")\n",
    "        # 一般都返回self\n",
    "        return self\n",
    "    \n",
    "    def __exit__(self, exc_type, exc_val, exc_tb):\n",
    "        print(\"Finished the with block.\")\n",
    "\n",
    "with WithTest('with') as test:\n",
    "    print(\"Execting with block...\")"
   ]
  },
  {
   "cell_type": "markdown",
   "metadata": {},
   "source": [
    "### Python拷贝\n",
    "\n",
    "- 在python中, 直接赋值,默认浅拷贝传递对象的引用而已,原始列表改变，被赋值的b也会做相同的改变。\n",
    "- copy浅拷贝，没有拷贝子对象，所以原始数据改变，子对象会改变。\n",
    "- 深拷贝，包含对象里面的自对象的拷贝，所以原始对象的改变不会造成深拷贝里任何子元素的改变。"
   ]
  },
  {
   "cell_type": "code",
   "execution_count": 2,
   "metadata": {},
   "outputs": [
    {
     "name": "stdout",
     "output_type": "stream",
     "text": [
      "[1, 2, 3, ['a', 'b']]\n",
      "[1, 2, 3, ['a', 'b'], 4]\n"
     ]
    }
   ],
   "source": [
    "a = [1, 2, 3, ['a', 'b']]\n",
    "b = a\n",
    "print(b)\n",
    "a.append(4)\n",
    "print(b)"
   ]
  },
  {
   "cell_type": "code",
   "execution_count": 5,
   "metadata": {},
   "outputs": [
    {
     "name": "stdout",
     "output_type": "stream",
     "text": [
      "[1, 2, 3, ['a', 'b']]\n",
      "[1, 2, 3, ['a', 'b'], 4]\n",
      "[1, 2, 3, ['a', 'b']]\n",
      "[1, 2, 3, ['a', 'b', 'c']]\n"
     ]
    }
   ],
   "source": [
    "import copy\n",
    "a = [1, 2, 3, ['a', 'b']]\n",
    "b = copy.copy(a)\n",
    "print(b)\n",
    "a.append(4)\n",
    "print(a)\n",
    "print(b)  # 非子对象，原始改变不影响本list\n",
    "a[3].append('c')\n",
    "print(b)  # 仍然在共享子对象"
   ]
  },
  {
   "cell_type": "code",
   "execution_count": 6,
   "metadata": {},
   "outputs": [
    {
     "name": "stdout",
     "output_type": "stream",
     "text": [
      "[1, 2, 3, ['a', 'b']]\n",
      "[1, 2, 3, ['a', 'b'], 4]\n",
      "[1, 2, 3, ['a', 'b']]\n",
      "[1, 2, 3, ['a', 'b']]\n"
     ]
    }
   ],
   "source": [
    "import copy\n",
    "a = [1, 2, 3, ['a', 'b']]\n",
    "b = copy.deepcopy(a)\n",
    "print(b)\n",
    "a.append(4)\n",
    "print(a)\n",
    "print(b)  \n",
    "a[3].append('c')\n",
    "print(b)  # 深度copy，子对象上的改变不影响本list"
   ]
  },
  {
   "cell_type": "code",
   "execution_count": 9,
   "metadata": {},
   "outputs": [
    {
     "name": "stdout",
     "output_type": "stream",
     "text": [
      "4\n"
     ]
    }
   ],
   "source": [
    "def singleNumber(nums):\n",
    "        \"\"\"\n",
    "        :type nums: List[int]\n",
    "        :rtype: int\n",
    "        \"\"\"\n",
    "        single_value = 0\n",
    "        for _num in nums:\n",
    "            single_value ^= _num\n",
    "        return single_value\n",
    "print(singleNumber([2, 2, 4, 3, 3]))"
   ]
  }
 ],
 "metadata": {
  "kernelspec": {
   "display_name": "Python 3",
   "language": "python",
   "name": "python3"
  },
  "language_info": {
   "codemirror_mode": {
    "name": "ipython",
    "version": 3
   },
   "file_extension": ".py",
   "mimetype": "text/x-python",
   "name": "python",
   "nbconvert_exporter": "python",
   "pygments_lexer": "ipython3",
   "version": "3.6.5"
  }
 },
 "nbformat": 4,
 "nbformat_minor": 2
}
