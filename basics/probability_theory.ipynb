{
 "cells": [
  {
   "cell_type": "markdown",
   "metadata": {},
   "source": [
    "# 概率论（Probability Theory）"
   ]
  },
  {
   "cell_type": "markdown",
   "metadata": {},
   "source": [
    "## 随机变量（Random variable）\n",
    "\n",
    "随机变量是**针对随机实验的**，它是一个随机实验产生的可能的结果的集合。假设有一个实验，其内容为随机地在校园内观察一个人的性别。则针对这个随机实验，它对应的随机变量$X$是离散型的，其全部可能的取值为`{a1='boy', a2='girl'}`，$X$的概率函数为：\n",
    "\n",
    "> $p_i=P(X=a_i), i=1,2$\n",
    "\n"
   ]
  },
  {
   "cell_type": "markdown",
   "metadata": {},
   "source": [
    "## 最大似然估计（Maximum likelihood estimate）\n",
    "\n",
    "针对$N$次随机试验，随机变量$X$的某一个取值$a_k$出现了$k$次，则$\\dfrac{k}{N}$称为$a_k$在这$N$次实验中的相对频率。当$N$越来越大时，这个值将越来越接近其真实的概率分布$p_k$，这时候可用相对频率作为概率的估计值，这种估计方法称为**最大似然估计**。"
   ]
  },
  {
   "cell_type": "markdown",
   "metadata": {},
   "source": [
    "## 条件概率（Conditional probability）\n",
    "\n",
    "假设$A$跟$B$是样本空间上两个事件，比如可能：$A$事件表示观察到一个同学是男生；$B$事件表示观察到一个同学穿长裤。那么观察到一个同学是男生它穿长裤的条件概率$P(B|A)$为：\n",
    "\n",
    "> $P(B|A)=\\dfrac{P(B,A)}{P(A)}$\n",
    "\n",
    "其中$P(B,A)$表示事件$A$与事件$B$同时发生的概率，上述公式可推广到任意有穷多个事件时的情况：\n",
    "\n",
    "> $P(A_1 A_2...A_n)=P(A_1)P(A_2|A_1)P(A_3|A_2A_1)...P(A_n|A_{n-1}...A_1)$\n"
   ]
  },
  {
   "cell_type": "markdown",
   "metadata": {},
   "source": [
    "## 贝叶斯法则（Bayesian theorem）\n",
    "\n",
    "结合条件概率的表达，可以得到贝叶斯法则为：\n",
    "\n",
    "> $P(B|A)=\\dfrac{P(B,A)}{P(A)}=\\dfrac{P(A|B)P(B)}{P(A)}$\n",
    "\n",
    "注意可以认为其中的$P(A)$是一个常量，因为求的是在事件$A$发生的情况下事件$B$发生的概率。\n",
    "\n",
    "令$B_1,B_2,...,B_n$为样本空间的一个划分，则求事件$A$发生的概率可以使用**全概率公式**：\n",
    "\n",
    "> $P(A)=\\sum_iP(A|B_i)P(B_i)$\n",
    "\n",
    "加入全概率公式后，贝叶斯法则的精确描述为：\n",
    "\n",
    "> $P(B_j|A)=\\dfrac{P(A|B_j)P(B_j)}{\\sum_iP(A|B_i)P(B_i)}$\n",
    "\n",
    "### 样本空间划分\n",
    "\n",
    "设$B_1,B_2,...,B_n$是一组事件,若满足以下：\n",
    "\n",
    "- 对于任意的$i \\neq j \\in \\{1,2,...,n\\}, B_i \\cap B_j=\\emptyset$\n",
    "- $B_1\\cup B_2 \\cup...\\cup B_n=\\text{Sample space}$\n",
    "\n",
    "则称$B_1,B_2,...,B_n$是样本空间（Sample space）的一个划分。"
   ]
  }
 ],
 "metadata": {
  "kernelspec": {
   "display_name": "Python 3",
   "language": "python",
   "name": "python3"
  },
  "language_info": {
   "codemirror_mode": {
    "name": "ipython",
    "version": 3
   },
   "file_extension": ".py",
   "mimetype": "text/x-python",
   "name": "python",
   "nbconvert_exporter": "python",
   "pygments_lexer": "ipython3",
   "version": "3.5.2"
  }
 },
 "nbformat": 4,
 "nbformat_minor": 2
}
