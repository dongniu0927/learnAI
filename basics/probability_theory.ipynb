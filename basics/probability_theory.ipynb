{
 "cells": [
  {
   "cell_type": "markdown",
   "metadata": {},
   "source": [
    "# 概率论（Probability Theory）"
   ]
  },
  {
   "cell_type": "markdown",
   "metadata": {},
   "source": [
    "## 1. 随机变量（Random variable）\n",
    "\n",
    "随机变量是**针对随机实验的**，它是一个随机实验产生的可能的结果的集合。假设有一个实验，其内容为随机地在校园内观察一个人的性别。则针对这个随机实验，它对应的随机变量$X$是离散型的，其全部可能的取值为`{a1='boy', a2='girl'}`，$X$的概率函数为：\n",
    "\n",
    "> $p_i=P(X=a_i), i=1,2$\n",
    "\n"
   ]
  },
  {
   "cell_type": "markdown",
   "metadata": {},
   "source": [
    "## 2. 最大似然估计（Maximum likelihood estimate）\n",
    "\n",
    "针对$N$次随机试验，随机变量$X$的某一个取值$a_k$出现了$k$次，则$\\dfrac{k}{N}$称为$a_k$在这$N$次实验中的相对频率。当$N$越来越大时，这个值将越来越接近其真实的概率分布$p_k$，这时候可用相对频率作为概率的估计值，这种估计方法称为**最大似然估计**。"
   ]
  },
  {
   "cell_type": "markdown",
   "metadata": {},
   "source": [
    "## 3. 条件概率（Conditional probability）\n",
    "\n",
    "假设$A$跟$B$是样本空间上两个事件，比如可能：$A$事件表示观察到一个同学是男生；$B$事件表示观察到一个同学穿长裤。那么观察到一个同学是男生它穿长裤的条件概率$P(B|A)$为：\n",
    "\n",
    "> $P(B|A)=\\dfrac{P(B,A)}{P(A)}$\n",
    "\n",
    "其中$P(B,A)$表示事件$A$与事件$B$同时发生的概率，上述公式可推广到任意有穷多个事件时的情况：\n",
    "\n",
    "> $P(A_1 A_2...A_n)=P(A_1)P(A_2|A_1)P(A_3|A_2A_1)...P(A_n|A_{n-1}...A_1)$\n"
   ]
  },
  {
   "cell_type": "markdown",
   "metadata": {},
   "source": [
    "## 4. 贝叶斯法则（Bayesian theorem）\n",
    "\n",
    "结合条件概率的表达，可以得到贝叶斯法则为：\n",
    "\n",
    "> $P(B|A)=\\dfrac{P(B,A)}{P(A)}=\\dfrac{P(A|B)P(B)}{P(A)}$\n",
    "\n",
    "注意可以认为其中的$P(A)$是一个常量，因为求的是在事件$A$发生的情况下事件$B$发生的概率。\n",
    "\n",
    "令$B_1,B_2,...,B_n$为样本空间的一个划分，则求事件$A$发生的概率可以使用**全概率公式**：\n",
    "\n",
    "> $P(A)=\\sum_iP(A|B_i)P(B_i)$\n",
    "\n",
    "加入全概率公式后，贝叶斯法则的精确描述为：\n",
    "\n",
    "> $P(B_j|A)=\\dfrac{P(A|B_j)P(B_j)}{\\sum_iP(A|B_i)P(B_i)}$\n",
    "\n",
    "### 样本空间划分\n",
    "\n",
    "设$B_1,B_2,...,B_n$是一组事件,若满足以下：\n",
    "\n",
    "- 对于任意的$i \\neq j \\in \\{1,2,...,n\\}, B_i \\cap B_j=\\emptyset$\n",
    "- $B_1\\cup B_2 \\cup...\\cup B_n=\\text{Sample space}$\n",
    "\n",
    "则称$B_1,B_2,...,B_n$是样本空间（Sample space）的一个划分。"
   ]
  },
  {
   "cell_type": "markdown",
   "metadata": {},
   "source": [
    "## 5. 期望, 方差, 标准差"
   ]
  },
  {
   "cell_type": "markdown",
   "metadata": {},
   "source": [
    "### 期望\n",
    "\n",
    "数学期望描述了**一个随机变量的平均预期取值**. 假设$X$是一个随机变量, $P(X=x_i)$是它的概率分布函数, 其期望为:\n",
    "\n",
    "> $E(X)=\\sum_{k=1}^nx_kP(X=x_k)$"
   ]
  },
  {
   "cell_type": "markdown",
   "metadata": {},
   "source": [
    "### 方差\n",
    "\n",
    "方差用于**衡量随机变量或者统计数据的离散程度**. \n",
    "\n",
    "统计数据的方差通过计算每个变量与总体均值之间的差异来获得, 其计算公式为:\n",
    "\n",
    "> $\\sigma^2=\\dfrac{\\sum_{i=1}^n(x_i-\\mu)^2}{n}$\n",
    "\n",
    "其中$\\sigma^2$是方差, $x_i$为每个数据值, $\\mu$是整体均值, $N$为整体数据总数. 使用平方是为了避免出现离均差总和为0的情况. 与上面不太一样, 概率分布里面随机变量的方差定义为:\n",
    "\n",
    "> $D(X) = E[(X-E(X))^2] = E(X^2)-E(X)^2$ \n",
    "\n",
    "其$E(X)$为随机变量的期望."
   ]
  },
  {
   "cell_type": "markdown",
   "metadata": {},
   "source": [
    "### 标准差 (Standard Deviation)\n",
    "\n",
    "又叫均方差, 是方差的算数平方根. 统计中的计算方式如下:\n",
    "\n",
    "> $\\sigma=\\sqrt{\\dfrac{\\sum_{i=1}^n(x_i-\\mu)^2}{n}}$\n",
    "\n",
    "方差与标准差都是用于衡量样本分布的离散程度,只是量纲不同."
   ]
  },
  {
   "cell_type": "markdown",
   "metadata": {},
   "source": [
    "## 6. 常见分布\n",
    "\n",
    "介绍常见的概率分布,如正态分布. "
   ]
  },
  {
   "cell_type": "markdown",
   "metadata": {},
   "source": [
    "### 正态分布 (Normal Distribution)\n",
    "\n",
    "若随机变量$X$服从一个数学期望为$μ$、方差为$σ^2$的正态分布，记为$N(μ，σ^2)$。其概率密度函数为正态分布的期望值$μ$决定了其位置，其标准差$σ$决定了分布的幅度。当$μ = 0,σ = 1$时的正态分布是标准正态分布。正态分布满足:\n",
    "\n",
    "- 横轴区间（μ-σ，μ+σ）内的面积为68.268949%;\n",
    "- 横轴区间（μ-2σ，μ+2σ）内的面积为95.449974%; \n",
    "- 横轴区间（μ-3σ，μ+3σ）内的面积为99.730020%;"
   ]
  }
 ],
 "metadata": {
  "kernelspec": {
   "display_name": "Python 3",
   "language": "python",
   "name": "python3"
  },
  "language_info": {
   "codemirror_mode": {
    "name": "ipython",
    "version": 3
   },
   "file_extension": ".py",
   "mimetype": "text/x-python",
   "name": "python",
   "nbconvert_exporter": "python",
   "pygments_lexer": "ipython3",
   "version": "3.6.5"
  }
 },
 "nbformat": 4,
 "nbformat_minor": 2
}
