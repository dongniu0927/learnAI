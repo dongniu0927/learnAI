{
 "cells": [
  {
   "cell_type": "markdown",
   "metadata": {},
   "source": [
    "# 线性代数"
   ]
  },
  {
   "cell_type": "markdown",
   "metadata": {},
   "source": [
    "## 1. 向量\n",
    "一般向量默认为**列向量**。\n",
    "\n",
    "### 点乘与叉乘\n",
    "\n",
    "**点乘（内积，数量积）**：其结果是一个数，计算方式为：\n",
    "\n",
    "> $\\overrightarrow{a} * \\overrightarrow{b}=|\\overrightarrow{a}| * |\\overrightarrow{b}| * cos\\theta$\n",
    "\n",
    "表示了一个向量和它在另一个向量上的投影的长度的乘积，点乘反映着两个向量的**相似度**，两个向量越相似，投影长度越大，它们的点乘越大。\n",
    "\n",
    "**叉乘（外积，向量积）**：其结果是一个向量，向量的模的计算方式为：\n",
    "\n",
    "> |$\\overrightarrow{a} \\times \\overrightarrow{b}|=|\\overrightarrow{a}| * |\\overrightarrow{b}| * sin\\theta$（其值等于以$\\overrightarrow{a}$，$\\overrightarrow{b}$，夹角为$\\theta$组成的平行四边形的面积）\n",
    "\n",
    "向量的方向为：与这两个向量所在平面垂直，且遵守右手定则（当右手的四指从a以不超过180度的转角转向b时，竖起的大拇指指向是c的方向）,具体可见下图：\n",
    "\n",
    "![v1](./resources/linear_algebra_v1.jpg)"
   ]
  },
  {
   "cell_type": "markdown",
   "metadata": {},
   "source": [
    "## 2. 矩阵\n",
    "\n",
    "### 矩阵转置\n",
    "将$A$的所有元素绕着一条从第1行第1列元素出发的右下方45度的射线作镜面反转，即得到$A$的转置。\n",
    "![T](./resources/linear_algebra_T.jpg)\n"
   ]
  },
  {
   "cell_type": "markdown",
   "metadata": {},
   "source": [
    "## 3. 范数\n",
    "是对距离概念的强化，被用来度量某个向量空间（或矩阵）中的每个向量的长度或大小。范数包括向量范数和矩阵范数，向量范数表征向量空间中向量的大小，矩阵范数表征矩阵引起变化的大小。"
   ]
  },
  {
   "cell_type": "markdown",
   "metadata": {},
   "source": [
    "### $LP$范数\n",
    "LP范数是一组范数，他定义了范数的通用表示，其数学定义如下：\n",
    "![L_P](./resources/linear_algebra_v2.png)"
   ]
  },
  {
   "cell_type": "markdown",
   "metadata": {},
   "source": [
    "### $L0$范数\n",
    "L0范数并不是一个真正的范数，它主要被用来度量向量中**非零元素的个数**。\n",
    "\n",
    "一般用下式度量：$||x||_0 = \\#(i|x_i \\ne 0)$。\n",
    "\n",
    "L0-norm优化问题可以认为是找最稀疏的解（压缩感知），即：寻找最少的非零元素。在实际应用中，由于L0范数本身不容易有一个好的数学表示形式，给出上面问题的形式化表示是一个很难的问题，故被人认为是一个NP难问题。所以在实际情况中，L0的最优问题会被放宽到L1或L2下的最优化。"
   ]
  },
  {
   "cell_type": "markdown",
   "metadata": {},
   "source": [
    "### $L1$范数\n",
    "L1范数（曼哈顿距离）表示向量中**非零元素的绝对值之和**。\n",
    "\n",
    "它的定义如下：$||x||_1 = \\sum_{i=1}^n|x_i|$。\n",
    "\n",
    "由于L1范数的天然性质，对L1优化的解是一个稀疏解，因此L1范数也被叫做稀疏规则算子。通过L1可以实现特征的稀疏，去掉一些没有信息的特征。"
   ]
  },
  {
   "cell_type": "markdown",
   "metadata": {},
   "source": [
    "### $L2$范数\n",
    "L2范数（欧氏距离）表示向量元素的**平方和再开平方**。 \n",
    "\n",
    "它的定义如下：$||x||_2 = \\sqrt{\\sum_{i=1}^nx_i^2}$。\n",
    "\n",
    "L2范数通常会被用来做优化目标函数的正则化项，防止模型为了迎合训练集而过于复杂造成过拟合的情况，从而提高模型的泛化能力。"
   ]
  },
  {
   "cell_type": "markdown",
   "metadata": {},
   "source": [
    "### $L_\\infty$范数\n",
    "它主要被用来度量向量元素的最大值。\n",
    "\n",
    "它的定义如下：$||x||_{\\infty}=max(|x_i|)$。"
   ]
  }
 ],
 "metadata": {
  "kernelspec": {
   "display_name": "Python 3",
   "language": "python",
   "name": "python3"
  },
  "language_info": {
   "codemirror_mode": {
    "name": "ipython",
    "version": 3
   },
   "file_extension": ".py",
   "mimetype": "text/x-python",
   "name": "python",
   "nbconvert_exporter": "python",
   "pygments_lexer": "ipython3",
   "version": "3.6.5"
  }
 },
 "nbformat": 4,
 "nbformat_minor": 2
}
