{
 "cells": [
  {
   "cell_type": "markdown",
   "metadata": {},
   "source": [
    "# 数学（Mathematics）"
   ]
  },
  {
   "cell_type": "markdown",
   "metadata": {},
   "source": [
    "## 1. 基本初等函数\n",
    "\n",
    "高等数学将基本初等函数归为五类：**幂函数(构成多项式)、指数函数、对数函数、三角函数、反三角函数**。\n",
    "\n",
    "基本初等函数在其定义区间内均为**连续函数**，其中**指数函数与对数函数互为反函数，三角函数与反三角函数互为反函数**。\n",
    "\n",
    "不是初等函数的函数，称为**非初等函数**，如狄利克雷函数和黎曼函数。"
   ]
  },
  {
   "cell_type": "markdown",
   "metadata": {},
   "source": [
    "### 幂函数\n",
    "\n",
    "形如：$y=x^{\\alpha}$，这里$x$称为底数，$\\alpha$称为指数，$y$称为幂，如$x^1, x^2, x^3, x^{-1}$等都是幂函数，其函数图像如下：\n",
    "\n",
    "![math1](./resources/math1.jpg)\n",
    "\n",
    "幂函数的图象一定会出现在第一象限内，一定不会出现在第四象限。"
   ]
  },
  {
   "cell_type": "markdown",
   "metadata": {},
   "source": [
    "### 指数函数\n",
    "\n",
    "形如：$y=a^x$( $a \\ge 0,a \\neq 1$ )，如$2^x, 4^x, e^x$等都是指数函数，相当于$x$个底数相乘。其函数图像如下所示：\n",
    "\n",
    "![math2](./resources/math2.jpg)\n",
    "\n",
    "运算法则：\n",
    "\n",
    "- $a^{m+n}=a^ma^n$； $a^{m-n}=\\dfrac{a^m}{a^n}$； $a^{mn}=(a^m)^n$； $a^{\\frac{m}{n}}=\\sqrt[n]{a^m}$； $a^0=1$；"
   ]
  },
  {
   "cell_type": "markdown",
   "metadata": {},
   "source": [
    "### 对数函数\n",
    "\n",
    "如果$a^x=N$，那么$x$叫做以$a$为底$N$的对数，记做$x=log_aN$，其中$a$叫做对数的底数，$N$叫做真数。\n",
    "\n",
    "函数$y=log_ax$( $a \\ge 0,a \\neq 1$ )叫做对数函数，即：**以幂（真数）为自变量，指数为因变量，底数为常量的函数**。其函数图像如下所示：\n",
    "\n",
    "![math4](./resources/math3.jpg)\n",
    "\n",
    "**常用对数（common logarithm）**：通常我们将以10为底的对数叫常用对数,记为$lgN$。\n",
    "\n",
    "**自然对数（natural logarithm）**：将以无理数$e=2.718281828459...$为底的对数称为自然对数，记为$lnN$。\n",
    "\n",
    "运算法则：\n",
    "\n",
    "- $log_axy=log_ax+log_ay$；$log_a\\dfrac{x}{y}=log_a{x}-log_a{y}$；\n",
    "- $log_ax^\\alpha=\\alpha log_ax$； $log_ax=\\dfrac{log_bx}{log_ba}$；\n",
    "- $log_a1=0$；"
   ]
  },
  {
   "cell_type": "markdown",
   "metadata": {},
   "source": [
    "## 参考\n",
    "\n",
    "1. [指数函数与对数函数](http://www.drhuang.com/chinese/science/mathematics/handbook/a23/a23.htm)。"
   ]
  }
 ],
 "metadata": {
  "kernelspec": {
   "display_name": "Python 3",
   "language": "python",
   "name": "python3"
  },
  "language_info": {
   "codemirror_mode": {
    "name": "ipython",
    "version": 3
   },
   "file_extension": ".py",
   "mimetype": "text/x-python",
   "name": "python",
   "nbconvert_exporter": "python",
   "pygments_lexer": "ipython3",
   "version": "3.6.5"
  }
 },
 "nbformat": 4,
 "nbformat_minor": 2
}
